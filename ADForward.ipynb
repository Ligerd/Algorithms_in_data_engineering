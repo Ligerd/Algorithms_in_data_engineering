{
 "cells": [
  {
   "cell_type": "code",
   "execution_count": 1,
   "id": "elegant-death",
   "metadata": {},
   "outputs": [],
   "source": [
    "import Base: iterate,max, exp, sin, cos, tan, +, ^, -, *, /, sqrt, convert, promote_rule, zero,isless\n",
    "using BenchmarkTools"
   ]
  },
  {
   "cell_type": "markdown",
   "id": "processed-roots",
   "metadata": {},
   "source": [
    "# Define dual number"
   ]
  },
  {
   "cell_type": "code",
   "execution_count": 2,
   "id": "limited-calculator",
   "metadata": {},
   "outputs": [
    {
     "data": {
      "text/plain": [
       "Dual"
      ]
     },
     "execution_count": 2,
     "metadata": {},
     "output_type": "execute_result"
    }
   ],
   "source": [
    "struct Dual{T <: Number} <: Number\n",
    "    x::T\n",
    "    dx::T\n",
    "end\n",
    "Dual(n::Integer, d::Float64) = Dual(promote(n, d)...)\n",
    "Dual(n::Float64, d::Integer) = Dual(promote(n, d)...)"
   ]
  },
  {
   "cell_type": "code",
   "execution_count": 3,
   "id": "level-attachment",
   "metadata": {},
   "outputs": [
    {
     "data": {
      "text/plain": [
       "convert (generic function with 191 methods)"
      ]
     },
     "execution_count": 3,
     "metadata": {},
     "output_type": "execute_result"
    }
   ],
   "source": [
    "function convert(::Type{Dual{T}}, x::T) where {T}\n",
    "   Dual(x, zero(x)) \n",
    "end\n",
    "function convert(::Type{Dual{T}}, x::Dual{S}) where {S, T}\n",
    "    Dual(T(x.x), T(x.dx))\n",
    "end\n",
    "function convert(::Type{Dual{T}}, x::T) where {T <: Number}\n",
    "    Dual(x, zero(x))\n",
    "end\n",
    "function convert(::Type{Dual{T}}, x::S) where {T, S <: Number}\n",
    "    x_as_T = convert(T, x)\n",
    "    Dual(x_as_T, zero(x_as_T))\n",
    "end"
   ]
  },
  {
   "cell_type": "code",
   "execution_count": 4,
   "id": "dying-december",
   "metadata": {},
   "outputs": [
    {
     "data": {
      "text/plain": [
       "zero (generic function with 23 methods)"
      ]
     },
     "execution_count": 4,
     "metadata": {},
     "output_type": "execute_result"
    }
   ],
   "source": [
    "function zero(x::Dual{T}) where T\n",
    "    Dual(zero(x.x), zero(x.dx))\n",
    "end"
   ]
  },
  {
   "cell_type": "code",
   "execution_count": 5,
   "id": "wired-efficiency",
   "metadata": {},
   "outputs": [
    {
     "data": {
      "text/plain": [
       "promote_rule (generic function with 128 methods)"
      ]
     },
     "execution_count": 5,
     "metadata": {},
     "output_type": "execute_result"
    }
   ],
   "source": [
    "function promote_rule(::Type{Dual{T}}, ::Type{Dual{S}}) where {T,S}\n",
    "    Dual{promote_type(T,S)}\n",
    "end\n",
    "function promote_rule(::Type{Dual{T}}, ::Type{S}) where {T, S <: Number}\n",
    "    Dual{promote_type(T,S)}\n",
    "end\n",
    "function promote_rule(::Type{T}, ::Type{Dual{S}}) where {T <: Number, S}\n",
    "    Dual{promote_type(T,S)}\n",
    "end\n",
    "function promote_rule(::Type{S}, ::Type{Dual{T}}) where {S <: AbstractIrrational, T}\n",
    "    Dual{promote_type(S,T)}\n",
    "end"
   ]
  },
  {
   "cell_type": "code",
   "execution_count": 6,
   "id": "focused-portable",
   "metadata": {},
   "outputs": [
    {
     "data": {
      "text/plain": [
       "extract_derivative (generic function with 3 methods)"
      ]
     },
     "execution_count": 6,
     "metadata": {},
     "output_type": "execute_result"
    }
   ],
   "source": [
    "function extract_derivative(xdx::Dual)\n",
    "    return xdx.dx\n",
    "end\n",
    "function extract_derivative(xs::Array)\n",
    "    [extract_derivative(x) for x in xs]\n",
    "end\n",
    "function extract_derivative(xs::Tuple)\n",
    "    convert(Tuple, [extract_derivative(x) for x in xs])\n",
    "end"
   ]
  },
  {
   "cell_type": "markdown",
   "id": "posted-canon",
   "metadata": {},
   "source": [
    "# Differential operator"
   ]
  },
  {
   "cell_type": "code",
   "execution_count": 7,
   "id": "military-ecology",
   "metadata": {},
   "outputs": [
    {
     "data": {
      "text/plain": [
       "derivativeСalculation (generic function with 2 methods)"
      ]
     },
     "execution_count": 7,
     "metadata": {},
     "output_type": "execute_result"
    }
   ],
   "source": [
    "function derivativeСalculation(f, value)\n",
    "    function df(x)\n",
    "        xdx = Dual(x, one(x))\n",
    "        result = f(xdx)\n",
    "        return extract_derivative(result)\n",
    "    end\n",
    "    df(value)\n",
    "end\n",
    "function derivativeСalculation(f,i::Integer,values)\n",
    "    function df(valuesS)\n",
    "        xarr = [(j != i ? x : Dual(x, one(x))) for (j,x) in enumerate(valuesS)]\n",
    "        result = f(xarr...)\n",
    "        return extract_derivative(result)\n",
    "    end\n",
    "    df(values)\n",
    "end\n",
    "function derivativeСalculation(f,values)\n",
    "    function df(xs...)\n",
    "        xarr = [(j != i ? x : Dual(x, one(x))) for (j,x) in enumerate(xs)]\n",
    "        result = f(xarr...)\n",
    "        return extract_derivative(result)\n",
    "    end\n",
    "    df(values)\n",
    "end"
   ]
  },
  {
   "cell_type": "code",
   "execution_count": 8,
   "id": "emerging-motorcycle",
   "metadata": {},
   "outputs": [
    {
     "data": {
      "text/plain": [
       "^ (generic function with 68 methods)"
      ]
     },
     "execution_count": 8,
     "metadata": {},
     "output_type": "execute_result"
    }
   ],
   "source": [
    "function +(x::Dual, y::Dual)\n",
    "    Dual(x.x+y.x, x.dx+y.dx)\n",
    "end\n",
    "function -(x::Dual, y::Dual)\n",
    "    Dual(x.x-y.x, x.dx-y.dx)\n",
    "end\n",
    "function -(x::Dual)\n",
    "    Dual(-x.x, -x.dx)\n",
    "end\n",
    "function *(x::Dual, y::Dual)\n",
    "     Dual(x.x*y.x, x.x*y.dx + x.dx*y.x)\n",
    "end\n",
    "function /(x::Dual, y::Dual)\n",
    "    Dual(x.x/y.x, x.dx/y.x - x.x*y.dx/(y.x*y.x))\n",
    "end\n",
    "function /(x::Array, y::Number)\n",
    "    return [i / y for i in x]\n",
    "end\n",
    "\n",
    "function ^(a::Dual, x::Dual)\n",
    "    Dual(a.x^x.x, a.dx * x.x * a.x ^ (x.x - 1) + x.dx * a.x ^ x.x * log(a.x)) \n",
    "end\n",
    "\n",
    "function ^(a::Dual, x::Integer)\n",
    "    Dual(a.x^x, a.dx * x * a.x ^ (x - 1)) \n",
    "end"
   ]
  },
  {
   "cell_type": "code",
   "execution_count": 9,
   "id": "progressive-comment",
   "metadata": {},
   "outputs": [
    {
     "data": {
      "text/plain": [
       "sqrt (generic function with 20 methods)"
      ]
     },
     "execution_count": 9,
     "metadata": {},
     "output_type": "execute_result"
    }
   ],
   "source": [
    "function sqrt(x::Dual)\n",
    "    Dual(sqrt(x.x), x.dx/(2*sqrt(x.x)))\n",
    "end"
   ]
  },
  {
   "cell_type": "code",
   "execution_count": 10,
   "id": "drawn-monte",
   "metadata": {},
   "outputs": [],
   "source": [
    "function exp(x::Dual)\n",
    "    return Dual(exp(x.x), exp(x.x)*x.dx)\n",
    "end\n",
    "function exp(xs::Array)\n",
    "    print(xs)\n",
    "    return [exp(x) for x in xs]\n",
    "end\n",
    "function sin(x::Dual)\n",
    "    return Dual(sin(x.x), cos(x.x)*x.dx)\n",
    "end\n",
    "function cos(x::Dual)\n",
    "    return Dual(cos(x.x), -sin(x.x)*x.dx)\n",
    "end\n",
    "\n",
    "function tan(x::Dual)\n",
    "    return Dual(tan(x.x),(1/cos(x.x)^2)*x.dx)\n",
    "end\n",
    "isless(x::Dual, y::Dual) = x.x < y.x;"
   ]
  },
  {
   "cell_type": "code",
   "execution_count": 11,
   "id": "eight-lounge",
   "metadata": {},
   "outputs": [
    {
     "data": {
      "text/plain": [
       "relu (generic function with 1 method)"
      ]
     },
     "execution_count": 11,
     "metadata": {},
     "output_type": "execute_result"
    }
   ],
   "source": [
    "function max(x::Dual)\n",
    "    return Dual(max(0,x.x), x.x < 0 ? 0 : 1 * x.dx)\n",
    "end\n",
    "function relu(x)\n",
    "    return max(0,x)\n",
    "end"
   ]
  },
  {
   "cell_type": "code",
   "execution_count": 12,
   "id": "valued-problem",
   "metadata": {},
   "outputs": [
    {
     "data": {
      "text/plain": [
       "softmax (generic function with 1 method)"
      ]
     },
     "execution_count": 12,
     "metadata": {},
     "output_type": "execute_result"
    }
   ],
   "source": [
    "function softmax(vector::Array)\n",
    "    e = exp(vector)\n",
    "    return e / sum(e)\n",
    "end"
   ]
  },
  {
   "cell_type": "code",
   "execution_count": 13,
   "id": "digital-thinking",
   "metadata": {},
   "outputs": [
    {
     "data": {
      "text/plain": [
       "iterate (generic function with 228 methods)"
      ]
     },
     "execution_count": 13,
     "metadata": {},
     "output_type": "execute_result"
    }
   ],
   "source": [
    "function iterate(iter::Vector{Dual}, state=1)\n",
    "    if state > length(iter)\n",
    "        return nothing\n",
    "    end\n",
    "    return (iter[state],state+1)\n",
    "end"
   ]
  },
  {
   "cell_type": "code",
   "execution_count": 14,
   "id": "golden-hamilton",
   "metadata": {},
   "outputs": [
    {
     "data": {
      "text/plain": [
       "jacobian (generic function with 1 method)"
      ]
     },
     "execution_count": 14,
     "metadata": {},
     "output_type": "execute_result"
    }
   ],
   "source": [
    "J = function jacobian(f, args::Vector{T}) where {T <:Number}\n",
    "    jacobian_columns = Matrix{T}[]\n",
    "    \n",
    "    for i=1:length(args)\n",
    "        x = Dual{T}[]\n",
    "        for j=1:length(args)\n",
    "            seed = (i == j)\n",
    "            push!(x, seed ?\n",
    "                Dual(args[j], one(args[j])) :\n",
    "                Dual(args[j],zero(args[j])) )\n",
    "        end\n",
    "        temp  = [f(x)...]\n",
    "        column = extract_derivative.([f(x)...])\n",
    "        push!(jacobian_columns, column[:,:])\n",
    "    end\n",
    "    hcat(jacobian_columns...)\n",
    "end"
   ]
  },
  {
   "cell_type": "markdown",
   "id": "92f7e7e5",
   "metadata": {},
   "source": [
    "## Definicja funkcji testowych"
   ]
  },
  {
   "cell_type": "code",
   "execution_count": 15,
   "id": "electrical-watson",
   "metadata": {},
   "outputs": [
    {
     "data": {
      "text/plain": [
       "rosenbrock (generic function with 1 method)"
      ]
     },
     "execution_count": 15,
     "metadata": {},
     "output_type": "execute_result"
    }
   ],
   "source": [
    "function styblinskiTang(x)\n",
    "    value = zero(x[1])\n",
    "    for i=1:length(x)\n",
    "        value += x[i]^4 - 16 * x[i]^2 + 5 * x[i]\n",
    "    end\n",
    "    value / 2\n",
    "end\n",
    "\n",
    "function rosenbrock(x)\n",
    "    value = zero(x[1])\n",
    "    for i=2:length(x)\n",
    "        value += (1-x[i-1])^2 + 100*(x[i] - x[i-1]^2)^2\n",
    "    end\n",
    "    value\n",
    "end\n",
    "\n",
    "\n"
   ]
  },
  {
   "cell_type": "code",
   "execution_count": 16,
   "id": "4e05915a",
   "metadata": {},
   "outputs": [
    {
     "data": {
      "text/plain": [
       "TestFunction5 (generic function with 1 method)"
      ]
     },
     "execution_count": 16,
     "metadata": {},
     "output_type": "execute_result"
    }
   ],
   "source": [
    "function TestFunction1(x)\n",
    "    f1 = 123.83*(x[2]^8)^2 + cos(x[1]^18) - sin(x[1])/exp(x[2])\n",
    "end\n",
    "\n",
    "function TestFunction2(x)\n",
    "    f1 = 222.83*(x[2]^8+x[1]^-3)^2 + sin(x[1]^18) - cos(x[2])/exp(x[1])\n",
    "    f2 = x[1] - 5/x[2] + 4*x[1]^2-2*x[2] / (x[2]*sin(x[2])^2 + 1)\n",
    "    [f1,f2]\n",
    "end\n",
    "\n",
    "function viennet(x)\n",
    "    f1 = 0.5*(x[1]^2+x[2]^2) + sin(x[1]^2+ x[2]^2)\n",
    "    f2 = (x[1]-2*x[2]+4)^2/8 + (x[1]-x[2]+1)^2/27 + 15\n",
    "    f3 = 1/(x[1]^2+x[2]^2+1) - 1.1* exp(-(x[1]^2+x[2]^2))\n",
    "    [f1,f2,f3]\n",
    "end\n",
    "\n",
    "function TestFunction4(x)\n",
    "    f1 = 222.83*(x[2]^8+x[1]^-3)^2 + sin(x[1]^18) - cos(x[2])/exp(x[1])\n",
    "    f2 = (x[1]^15-234.32)^3 + (tan(x[2]^5) + sin(x[1])^98)^36 \n",
    "    f3 = x[1]*x[2]^34 - tan(343)^2 - sin(x[1])^8\n",
    "    f4 = (x[1]^2+x[2]-4325.43)^23 - cos(x[2])*sin(x[1])^3\n",
    "    [f1,f2,f3,f4]\n",
    "end\n",
    "\n",
    "function TestFunction5(x)\n",
    "    f1 = 222.83*(x[2]^8+x[1]^-3)^2 + sin(x[1]^18) - cos(x[2])/exp(x[1])\n",
    "    f2 = x[1]+x[1]^232+(sqrt(x[2]))^2+ (x[1]+x[2]^3)/233\n",
    "    f3 = 2342434+23*x[1]^32-tan(x[2])+ (x[2]*sin(x[2])^2 + 1)\n",
    "    f4 = 4*x[1]^2-2*x[2] / (x[2]*sin(x[2])^2 + 1)\n",
    "    f5 = x[1] - 5/x[2] + 4*x[1]^2-2*x[2]\n",
    "    [f1,f2,f3,f4,f5]\n",
    "end"
   ]
  },
  {
   "cell_type": "markdown",
   "id": "01c98fd9",
   "metadata": {},
   "source": [
    "## Testy funkcji weluzmiennych "
   ]
  },
  {
   "cell_type": "markdown",
   "id": "21b1e419",
   "metadata": {},
   "source": [
    "### Testowanie funkcji Rosenbrock"
   ]
  },
  {
   "cell_type": "code",
   "execution_count": 17,
   "id": "ca8f756b",
   "metadata": {},
   "outputs": [
    {
     "data": {
      "text/plain": [
       "1×4 Matrix{Float64}:\n",
       " 54895.4  -31012.4  1.43226e7  -209308.0"
      ]
     },
     "execution_count": 17,
     "metadata": {},
     "output_type": "execute_result"
    }
   ],
   "source": [
    "J(rosenbrock, [5.3,2.2,34.2,123.1])"
   ]
  },
  {
   "cell_type": "code",
   "execution_count": 18,
   "id": "8a2582e8",
   "metadata": {},
   "outputs": [
    {
     "data": {
      "text/plain": [
       "BenchmarkTools.Trial: \n",
       "  memory estimate:  4.11 KiB\n",
       "  allocs estimate:  48\n",
       "  --------------\n",
       "  minimum time:     2.536 μs (0.00% GC)\n",
       "  median time:      2.608 μs (0.00% GC)\n",
       "  mean time:        2.957 μs (8.86% GC)\n",
       "  maximum time:     356.988 μs (99.01% GC)\n",
       "  --------------\n",
       "  samples:          10000\n",
       "  evals/sample:     9"
      ]
     },
     "execution_count": 18,
     "metadata": {},
     "output_type": "execute_result"
    }
   ],
   "source": [
    "@benchmark J(rosenbrock, [rand(5,1)...])"
   ]
  },
  {
   "cell_type": "code",
   "execution_count": 19,
   "id": "69563cd8",
   "metadata": {},
   "outputs": [
    {
     "data": {
      "text/plain": [
       "BenchmarkTools.Trial: \n",
       "  memory estimate:  130.81 KiB\n",
       "  allocs estimate:  561\n",
       "  --------------\n",
       "  minimum time:     123.666 μs (0.00% GC)\n",
       "  median time:      124.954 μs (0.00% GC)\n",
       "  mean time:        132.211 μs (3.40% GC)\n",
       "  maximum time:     2.657 ms (94.37% GC)\n",
       "  --------------\n",
       "  samples:          10000\n",
       "  evals/sample:     1"
      ]
     },
     "execution_count": 19,
     "metadata": {},
     "output_type": "execute_result"
    }
   ],
   "source": [
    "@benchmark J(rosenbrock, [rand(50,1)...])"
   ]
  },
  {
   "cell_type": "code",
   "execution_count": 20,
   "id": "1785059f",
   "metadata": {},
   "outputs": [
    {
     "data": {
      "text/plain": [
       "BenchmarkTools.Trial: \n",
       "  memory estimate:  467.36 KiB\n",
       "  allocs estimate:  1212\n",
       "  --------------\n",
       "  minimum time:     483.390 μs (0.00% GC)\n",
       "  median time:      492.306 μs (0.00% GC)\n",
       "  mean time:        523.619 μs (3.41% GC)\n",
       "  maximum time:     3.883 ms (81.74% GC)\n",
       "  --------------\n",
       "  samples:          9496\n",
       "  evals/sample:     1"
      ]
     },
     "execution_count": 20,
     "metadata": {},
     "output_type": "execute_result"
    }
   ],
   "source": [
    "@benchmark J(rosenbrock, [rand(100,1)...])"
   ]
  },
  {
   "cell_type": "code",
   "execution_count": 21,
   "id": "d0ea9d02",
   "metadata": {},
   "outputs": [
    {
     "data": {
      "text/plain": [
       "BenchmarkTools.Trial: \n",
       "  memory estimate:  8.20 MiB\n",
       "  allocs estimate:  7014\n",
       "  --------------\n",
       "  minimum time:     11.296 ms (0.00% GC)\n",
       "  median time:      11.564 ms (0.00% GC)\n",
       "  mean time:        11.934 ms (1.91% GC)\n",
       "  maximum time:     14.618 ms (15.65% GC)\n",
       "  --------------\n",
       "  samples:          419\n",
       "  evals/sample:     1"
      ]
     },
     "execution_count": 21,
     "metadata": {},
     "output_type": "execute_result"
    }
   ],
   "source": [
    "@benchmark J(rosenbrock, [rand(500,1)...])"
   ]
  },
  {
   "cell_type": "code",
   "execution_count": 22,
   "id": "d134959f",
   "metadata": {},
   "outputs": [
    {
     "data": {
      "text/plain": [
       "BenchmarkTools.Trial: \n",
       "  memory estimate:  32.11 MiB\n",
       "  allocs estimate:  15018\n",
       "  --------------\n",
       "  minimum time:     44.910 ms (0.00% GC)\n",
       "  median time:      46.268 ms (1.75% GC)\n",
       "  mean time:        46.528 ms (1.42% GC)\n",
       "  maximum time:     50.295 ms (2.07% GC)\n",
       "  --------------\n",
       "  samples:          108\n",
       "  evals/sample:     1"
      ]
     },
     "execution_count": 22,
     "metadata": {},
     "output_type": "execute_result"
    }
   ],
   "source": [
    "@benchmark J(rosenbrock, [rand(1000,1)...])"
   ]
  },
  {
   "cell_type": "code",
   "execution_count": 23,
   "id": "fe98d13f",
   "metadata": {},
   "outputs": [
    {
     "data": {
      "text/plain": [
       "BenchmarkTools.Trial: \n",
       "  memory estimate:  1.23 GiB\n",
       "  allocs estimate:  90024\n",
       "  --------------\n",
       "  minimum time:     1.147 s (1.40% GC)\n",
       "  median time:      1.149 s (1.37% GC)\n",
       "  mean time:        1.149 s (1.37% GC)\n",
       "  maximum time:     1.151 s (1.35% GC)\n",
       "  --------------\n",
       "  samples:          5\n",
       "  evals/sample:     1"
      ]
     },
     "execution_count": 23,
     "metadata": {},
     "output_type": "execute_result"
    }
   ],
   "source": [
    "@benchmark J(rosenbrock, [rand(5000,1)...])"
   ]
  },
  {
   "cell_type": "code",
   "execution_count": 24,
   "id": "f8edf685",
   "metadata": {},
   "outputs": [
    {
     "data": {
      "text/plain": [
       "BenchmarkTools.Trial: \n",
       "  memory estimate:  4.89 GiB\n",
       "  allocs estimate:  190025\n",
       "  --------------\n",
       "  minimum time:     4.624 s (1.38% GC)\n",
       "  median time:      4.637 s (1.43% GC)\n",
       "  mean time:        4.637 s (1.43% GC)\n",
       "  maximum time:     4.651 s (1.49% GC)\n",
       "  --------------\n",
       "  samples:          2\n",
       "  evals/sample:     1"
      ]
     },
     "execution_count": 24,
     "metadata": {},
     "output_type": "execute_result"
    }
   ],
   "source": [
    "@benchmark J(rosenbrock, [rand(10000,1)...])"
   ]
  },
  {
   "cell_type": "markdown",
   "id": "f22e8b30",
   "metadata": {},
   "source": [
    "### Testowanie funkcji styblinskiTang"
   ]
  },
  {
   "cell_type": "code",
   "execution_count": 25,
   "id": "83b2acac",
   "metadata": {},
   "outputs": [
    {
     "data": {
      "text/plain": [
       "1×4 Matrix{Float64}:\n",
       " 215.454  -11.404  79458.7  3.72885e6"
      ]
     },
     "execution_count": 25,
     "metadata": {},
     "output_type": "execute_result"
    }
   ],
   "source": [
    "J(styblinskiTang, [5.3,2.2,34.2,123.1])"
   ]
  },
  {
   "cell_type": "code",
   "execution_count": 26,
   "id": "ca9b7853",
   "metadata": {},
   "outputs": [
    {
     "data": {
      "text/plain": [
       "BenchmarkTools.Trial: \n",
       "  memory estimate:  4.11 KiB\n",
       "  allocs estimate:  48\n",
       "  --------------\n",
       "  minimum time:     2.415 μs (0.00% GC)\n",
       "  median time:      2.502 μs (0.00% GC)\n",
       "  mean time:        2.814 μs (9.18% GC)\n",
       "  maximum time:     348.425 μs (98.94% GC)\n",
       "  --------------\n",
       "  samples:          10000\n",
       "  evals/sample:     9"
      ]
     },
     "execution_count": 26,
     "metadata": {},
     "output_type": "execute_result"
    }
   ],
   "source": [
    "@benchmark J(styblinskiTang, [rand(5,1)...])"
   ]
  },
  {
   "cell_type": "code",
   "execution_count": 27,
   "id": "e727c6aa",
   "metadata": {},
   "outputs": [
    {
     "data": {
      "text/plain": [
       "BenchmarkTools.Trial: \n",
       "  memory estimate:  130.81 KiB\n",
       "  allocs estimate:  561\n",
       "  --------------\n",
       "  minimum time:     89.286 μs (0.00% GC)\n",
       "  median time:      90.426 μs (0.00% GC)\n",
       "  mean time:        95.550 μs (4.11% GC)\n",
       "  maximum time:     1.647 ms (94.20% GC)\n",
       "  --------------\n",
       "  samples:          10000\n",
       "  evals/sample:     1"
      ]
     },
     "execution_count": 27,
     "metadata": {},
     "output_type": "execute_result"
    }
   ],
   "source": [
    "@benchmark J(styblinskiTang, [rand(50,1)...])"
   ]
  },
  {
   "cell_type": "code",
   "execution_count": 28,
   "id": "bec4c6c1",
   "metadata": {},
   "outputs": [
    {
     "data": {
      "text/plain": [
       "BenchmarkTools.Trial: \n",
       "  memory estimate:  467.36 KiB\n",
       "  allocs estimate:  1212\n",
       "  --------------\n",
       "  minimum time:     335.781 μs (0.00% GC)\n",
       "  median time:      347.654 μs (0.00% GC)\n",
       "  mean time:        368.982 μs (4.28% GC)\n",
       "  maximum time:     2.679 ms (81.87% GC)\n",
       "  --------------\n",
       "  samples:          10000\n",
       "  evals/sample:     1"
      ]
     },
     "execution_count": 28,
     "metadata": {},
     "output_type": "execute_result"
    }
   ],
   "source": [
    "@benchmark J(styblinskiTang, [rand(100,1)...])"
   ]
  },
  {
   "cell_type": "code",
   "execution_count": 29,
   "id": "e19a0938",
   "metadata": {},
   "outputs": [
    {
     "data": {
      "text/plain": [
       "BenchmarkTools.Trial: \n",
       "  memory estimate:  8.20 MiB\n",
       "  allocs estimate:  7014\n",
       "  --------------\n",
       "  minimum time:     7.804 ms (0.00% GC)\n",
       "  median time:      8.038 ms (0.00% GC)\n",
       "  mean time:        8.430 ms (2.70% GC)\n",
       "  maximum time:     17.484 ms (12.45% GC)\n",
       "  --------------\n",
       "  samples:          593\n",
       "  evals/sample:     1"
      ]
     },
     "execution_count": 29,
     "metadata": {},
     "output_type": "execute_result"
    }
   ],
   "source": [
    "@benchmark J(styblinskiTang, [rand(500,1)...])"
   ]
  },
  {
   "cell_type": "code",
   "execution_count": 30,
   "id": "77584e9e",
   "metadata": {},
   "outputs": [
    {
     "data": {
      "text/plain": [
       "BenchmarkTools.Trial: \n",
       "  memory estimate:  32.11 MiB\n",
       "  allocs estimate:  15018\n",
       "  --------------\n",
       "  minimum time:     30.328 ms (0.00% GC)\n",
       "  median time:      31.550 ms (2.35% GC)\n",
       "  mean time:        32.103 ms (2.08% GC)\n",
       "  maximum time:     41.757 ms (0.00% GC)\n",
       "  --------------\n",
       "  samples:          156\n",
       "  evals/sample:     1"
      ]
     },
     "execution_count": 30,
     "metadata": {},
     "output_type": "execute_result"
    }
   ],
   "source": [
    "@benchmark J(styblinskiTang, [rand(1000,1)...])"
   ]
  },
  {
   "cell_type": "code",
   "execution_count": 31,
   "id": "48bffb6d",
   "metadata": {},
   "outputs": [
    {
     "data": {
      "text/plain": [
       "BenchmarkTools.Trial: \n",
       "  memory estimate:  1.23 GiB\n",
       "  allocs estimate:  90024\n",
       "  --------------\n",
       "  minimum time:     782.028 ms (2.05% GC)\n",
       "  median time:      814.281 ms (2.32% GC)\n",
       "  mean time:        817.877 ms (2.26% GC)\n",
       "  maximum time:     882.285 ms (2.22% GC)\n",
       "  --------------\n",
       "  samples:          7\n",
       "  evals/sample:     1"
      ]
     },
     "execution_count": 31,
     "metadata": {},
     "output_type": "execute_result"
    }
   ],
   "source": [
    "@benchmark J(styblinskiTang, [rand(5000,1)...])"
   ]
  },
  {
   "cell_type": "code",
   "execution_count": 32,
   "id": "2ba9d855",
   "metadata": {},
   "outputs": [
    {
     "data": {
      "text/plain": [
       "BenchmarkTools.Trial: \n",
       "  memory estimate:  4.89 GiB\n",
       "  allocs estimate:  190025\n",
       "  --------------\n",
       "  minimum time:     3.123 s (2.11% GC)\n",
       "  median time:      3.162 s (2.35% GC)\n",
       "  mean time:        3.162 s (2.35% GC)\n",
       "  maximum time:     3.201 s (2.58% GC)\n",
       "  --------------\n",
       "  samples:          2\n",
       "  evals/sample:     1"
      ]
     },
     "execution_count": 32,
     "metadata": {},
     "output_type": "execute_result"
    }
   ],
   "source": [
    "@benchmark J(styblinskiTang, [rand(10000,1)...])"
   ]
  },
  {
   "cell_type": "markdown",
   "id": "14905e03",
   "metadata": {},
   "source": [
    "## Testy funkcji wektorowych"
   ]
  },
  {
   "cell_type": "code",
   "execution_count": 33,
   "id": "2a19c831",
   "metadata": {},
   "outputs": [
    {
     "data": {
      "text/plain": [
       "5×2 Matrix{Float64}:\n",
       "  3.13652e13    2.13699e11\n",
       "  4.71209e169   1.14021\n",
       "  2.08655e25    0.0274515\n",
       " 42.4           4.08665\n",
       " 43.4          -1.54086"
      ]
     },
     "execution_count": 33,
     "metadata": {},
     "output_type": "execute_result"
    }
   ],
   "source": [
    "J(TestFunction5, [5.3,3.3])"
   ]
  },
  {
   "cell_type": "code",
   "execution_count": 34,
   "id": "d8e055c4",
   "metadata": {},
   "outputs": [
    {
     "data": {
      "text/plain": [
       "BenchmarkTools.Trial: \n",
       "  memory estimate:  1.50 KiB\n",
       "  allocs estimate:  19\n",
       "  --------------\n",
       "  minimum time:     1.968 μs (0.00% GC)\n",
       "  median time:      2.051 μs (0.00% GC)\n",
       "  mean time:        2.162 μs (2.59% GC)\n",
       "  maximum time:     284.724 μs (99.07% GC)\n",
       "  --------------\n",
       "  samples:          10000\n",
       "  evals/sample:     10"
      ]
     },
     "execution_count": 34,
     "metadata": {},
     "output_type": "execute_result"
    }
   ],
   "source": [
    "@benchmark J(TestFunction1, [rand(2,1)...])"
   ]
  },
  {
   "cell_type": "code",
   "execution_count": 35,
   "id": "a4db2ab2",
   "metadata": {},
   "outputs": [
    {
     "data": {
      "text/plain": [
       "BenchmarkTools.Trial: \n",
       "  memory estimate:  2.39 KiB\n",
       "  allocs estimate:  37\n",
       "  --------------\n",
       "  minimum time:     3.287 μs (0.00% GC)\n",
       "  median time:      3.472 μs (0.00% GC)\n",
       "  mean time:        3.819 μs (4.49% GC)\n",
       "  maximum time:     512.399 μs (98.80% GC)\n",
       "  --------------\n",
       "  samples:          10000\n",
       "  evals/sample:     8"
      ]
     },
     "execution_count": 35,
     "metadata": {},
     "output_type": "execute_result"
    }
   ],
   "source": [
    "@benchmark J(TestFunction2, [rand(2,1)...])"
   ]
  },
  {
   "cell_type": "code",
   "execution_count": 36,
   "id": "e83a6ae5",
   "metadata": {},
   "outputs": [
    {
     "data": {
      "text/plain": [
       "BenchmarkTools.Trial: \n",
       "  memory estimate:  2.72 KiB\n",
       "  allocs estimate:  41\n",
       "  --------------\n",
       "  minimum time:     2.110 μs (0.00% GC)\n",
       "  median time:      2.240 μs (0.00% GC)\n",
       "  mean time:        2.740 μs (6.23% GC)\n",
       "  maximum time:     465.395 μs (98.82% GC)\n",
       "  --------------\n",
       "  samples:          10000\n",
       "  evals/sample:     9"
      ]
     },
     "execution_count": 36,
     "metadata": {},
     "output_type": "execute_result"
    }
   ],
   "source": [
    "@benchmark J(viennet, [rand(2,1)...])"
   ]
  },
  {
   "cell_type": "code",
   "execution_count": 37,
   "id": "0a5ac99b",
   "metadata": {},
   "outputs": [
    {
     "data": {
      "text/plain": [
       "BenchmarkTools.Trial: \n",
       "  memory estimate:  2.98 KiB\n",
       "  allocs estimate:  45\n",
       "  --------------\n",
       "  minimum time:     8.030 μs (0.00% GC)\n",
       "  median time:      8.316 μs (0.00% GC)\n",
       "  mean time:        8.572 μs (1.00% GC)\n",
       "  maximum time:     870.266 μs (98.78% GC)\n",
       "  --------------\n",
       "  samples:          10000\n",
       "  evals/sample:     3"
      ]
     },
     "execution_count": 37,
     "metadata": {},
     "output_type": "execute_result"
    }
   ],
   "source": [
    "@benchmark J(TestFunction4, [rand(2,1)...])"
   ]
  },
  {
   "cell_type": "code",
   "execution_count": 38,
   "id": "11c0b92d",
   "metadata": {},
   "outputs": [
    {
     "data": {
      "text/plain": [
       "BenchmarkTools.Trial: \n",
       "  memory estimate:  3.31 KiB\n",
       "  allocs estimate:  49\n",
       "  --------------\n",
       "  minimum time:     4.956 μs (0.00% GC)\n",
       "  median time:      5.230 μs (0.00% GC)\n",
       "  mean time:        5.549 μs (2.82% GC)\n",
       "  maximum time:     405.443 μs (98.47% GC)\n",
       "  --------------\n",
       "  samples:          10000\n",
       "  evals/sample:     6"
      ]
     },
     "execution_count": 38,
     "metadata": {},
     "output_type": "execute_result"
    }
   ],
   "source": [
    "@benchmark J(TestFunction5, [rand(2,1)...])"
   ]
  }
 ],
 "metadata": {
  "kernelspec": {
   "display_name": "Julia 1.6.0",
   "language": "julia",
   "name": "julia-1.6"
  },
  "language_info": {
   "file_extension": ".jl",
   "mimetype": "application/julia",
   "name": "julia",
   "version": "1.6.0"
  }
 },
 "nbformat": 4,
 "nbformat_minor": 5
}

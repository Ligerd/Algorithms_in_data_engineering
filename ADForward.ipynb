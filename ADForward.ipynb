{
 "cells": [
  {
   "cell_type": "code",
   "execution_count": 1,
   "id": "elegant-death",
   "metadata": {},
   "outputs": [],
   "source": [
    "import Base: iterate,max, exp, sin, cos, tan, +, ^, -, *, /, sqrt, convert, promote_rule, zero\n",
    "import Test: @test, @testset"
   ]
  },
  {
   "cell_type": "code",
   "execution_count": 2,
   "id": "median-welding",
   "metadata": {},
   "outputs": [
    {
     "data": {
      "text/plain": [
       "4"
      ]
     },
     "execution_count": 2,
     "metadata": {},
     "output_type": "execute_result"
    }
   ],
   "source": [
    "2^2"
   ]
  },
  {
   "cell_type": "markdown",
   "id": "processed-roots",
   "metadata": {},
   "source": [
    "# Define dual number"
   ]
  },
  {
   "cell_type": "code",
   "execution_count": 3,
   "id": "limited-calculator",
   "metadata": {},
   "outputs": [
    {
     "data": {
      "text/plain": [
       "Dual"
      ]
     },
     "execution_count": 3,
     "metadata": {},
     "output_type": "execute_result"
    }
   ],
   "source": [
    "struct Dual{T <: Number} <: Number\n",
    "    x::T\n",
    "    dx::T\n",
    "end\n",
    "Dual(n::Integer, d::Float64) = Dual(promote(n, d)...)\n",
    "Dual(n::Float64, d::Integer) = Dual(promote(n, d)...)"
   ]
  },
  {
   "cell_type": "code",
   "execution_count": 4,
   "id": "level-attachment",
   "metadata": {},
   "outputs": [
    {
     "data": {
      "text/plain": [
       "convert (generic function with 187 methods)"
      ]
     },
     "execution_count": 4,
     "metadata": {},
     "output_type": "execute_result"
    }
   ],
   "source": [
    "function convert(::Type{Dual{T}}, x::T) where {T}\n",
    "   Dual(x, zero(x)) \n",
    "end\n",
    "function convert(::Type{Dual{T}}, x::Dual{S}) where {S, T}\n",
    "    Dual(T(x.x), T(x.dx))\n",
    "end\n",
    "# This is needed according to an error before\n",
    "function convert(::Type{Dual{T}}, x::T) where {T <: Number}\n",
    "    Dual(x, zero(x))\n",
    "end\n",
    "function convert(::Type{Dual{T}}, x::S) where {T, S <: Number}\n",
    "    x_as_T = convert(T, x)\n",
    "    Dual(x_as_T, zero(x_as_T))\n",
    "end"
   ]
  },
  {
   "cell_type": "code",
   "execution_count": 5,
   "id": "dying-december",
   "metadata": {},
   "outputs": [
    {
     "data": {
      "text/plain": [
       "zero (generic function with 23 methods)"
      ]
     },
     "execution_count": 5,
     "metadata": {},
     "output_type": "execute_result"
    }
   ],
   "source": [
    "function zero(x::Dual{T}) where T\n",
    "    Dual(zero(x.x), zero(x.dx))\n",
    "end"
   ]
  },
  {
   "cell_type": "code",
   "execution_count": 6,
   "id": "wired-efficiency",
   "metadata": {},
   "outputs": [
    {
     "data": {
      "text/plain": [
       "promote_rule (generic function with 126 methods)"
      ]
     },
     "execution_count": 6,
     "metadata": {},
     "output_type": "execute_result"
    }
   ],
   "source": [
    "function promote_rule(::Type{Dual{T}}, ::Type{Dual{S}}) where {T,S}\n",
    "    Dual{promote_type(T,S)}\n",
    "end\n",
    "function promote_rule(::Type{Dual{T}}, ::Type{S}) where {T, S <: Number}\n",
    "    Dual{promote_type(T,S)}\n",
    "end\n",
    "function promote_rule(::Type{T}, ::Type{Dual{S}}) where {T <: Number, S}\n",
    "    Dual{promote_type(T,S)}\n",
    "end\n",
    "function promote_rule(::Type{S}, ::Type{Dual{T}}) where {S <: AbstractIrrational, T}\n",
    "    Dual{promote_type(S,T)}\n",
    "end"
   ]
  },
  {
   "cell_type": "code",
   "execution_count": null,
   "id": "identical-hartford",
   "metadata": {},
   "outputs": [],
   "source": []
  },
  {
   "cell_type": "code",
   "execution_count": 7,
   "id": "focused-portable",
   "metadata": {},
   "outputs": [
    {
     "data": {
      "text/plain": [
       "extract_derivative (generic function with 3 methods)"
      ]
     },
     "execution_count": 7,
     "metadata": {},
     "output_type": "execute_result"
    }
   ],
   "source": [
    "function extract_derivative(xdx::Dual)\n",
    "    return xdx.dx\n",
    "end\n",
    "function extract_derivative(xs::Array)\n",
    "    [extract_derivative(x) for x in xs]\n",
    "end\n",
    "function extract_derivative(xs::Tuple)\n",
    "    convert(Tuple, [extract_derivative(x) for x in xs])\n",
    "end"
   ]
  },
  {
   "cell_type": "markdown",
   "id": "posted-canon",
   "metadata": {},
   "source": [
    "# Differential operator"
   ]
  },
  {
   "cell_type": "code",
   "execution_count": 8,
   "id": "military-ecology",
   "metadata": {},
   "outputs": [
    {
     "data": {
      "text/plain": [
       "derivativeСalculation (generic function with 3 methods)"
      ]
     },
     "execution_count": 8,
     "metadata": {},
     "output_type": "execute_result"
    }
   ],
   "source": [
    "function derivativeСalculation(f, value)\n",
    "    function df(x)\n",
    "        xdx = Dual(x, one(x))\n",
    "        result = f(xdx)\n",
    "        return extract_derivative(result)\n",
    "    end\n",
    "    df(value)\n",
    "end\n",
    "function derivativeСalculation(f,i::Integer,values...)\n",
    "    print(\"DUPA\")\n",
    "    function df(valuesS)\n",
    "        xarr = [(j != i ? x : Dual(x, one(x))) for (j,x) in enumerate(valuesS)]\n",
    "        result = f(xarr...)\n",
    "        return extract_derivative(result)\n",
    "    end\n",
    "    df(values)\n",
    "end\n",
    "function derivativeСalculation(f,i::Integer)\n",
    "    function df(xs...)\n",
    "        xarr = [(j != i ? x : Dual(x, one(x))) for (j,x) in enumerate(xs)]\n",
    "        result = f(xarr...)\n",
    "        return extract_derivative(result)\n",
    "    end\n",
    "    df\n",
    "end"
   ]
  },
  {
   "cell_type": "code",
   "execution_count": 9,
   "id": "emerging-motorcycle",
   "metadata": {},
   "outputs": [
    {
     "data": {
      "text/plain": [
       "^ (generic function with 67 methods)"
      ]
     },
     "execution_count": 9,
     "metadata": {},
     "output_type": "execute_result"
    }
   ],
   "source": [
    "function +(x::Dual, y::Dual)\n",
    "    Dual(x.x+y.x, x.dx+y.dx)\n",
    "end\n",
    "function -(x::Dual, y::Dual)\n",
    "    Dual(x.x-y.x, x.dx-y.dx)\n",
    "end\n",
    "function -(x::Dual)\n",
    "    Dual(-x.x, -x.dx)\n",
    "end\n",
    "function *(x::Dual, y::Dual)\n",
    "    Dual(x.x*y.x, x.x*y.dx + x.dx*y.x)\n",
    "end\n",
    "function /(x::Dual, y::Dual)\n",
    "    Dual(x.x/y.x, x.dx/y.x - x.x*y.dx/(y.x*y.x))\n",
    "end\n",
    "function /(x::Array, y::Number)\n",
    "    return [i / y for i in x]\n",
    "end\n",
    "function ^(a::Dual, x::Dual)\n",
    "    Dual(a.x^x.x, a.x^x.x*log(a.x)*x.dx)\n",
    "end"
   ]
  },
  {
   "cell_type": "code",
   "execution_count": 10,
   "id": "progressive-comment",
   "metadata": {},
   "outputs": [
    {
     "data": {
      "text/plain": [
       "sqrt (generic function with 21 methods)"
      ]
     },
     "execution_count": 10,
     "metadata": {},
     "output_type": "execute_result"
    }
   ],
   "source": [
    "function sqrt(x::Dual)\n",
    "    Dual(sqrt(x.x), x.dx/(2*sqrt(x.x)))\n",
    "end"
   ]
  },
  {
   "cell_type": "code",
   "execution_count": 11,
   "id": "drawn-monte",
   "metadata": {},
   "outputs": [
    {
     "data": {
      "text/plain": [
       "tan (generic function with 13 methods)"
      ]
     },
     "execution_count": 11,
     "metadata": {},
     "output_type": "execute_result"
    }
   ],
   "source": [
    "function exp(x::Dual)\n",
    "    return Dual(exp(x.x), exp(x.x)*x.dx)\n",
    "end\n",
    "function exp(xs::Array)\n",
    "    return [exp(x) for x in xs]\n",
    "end\n",
    "function sin(x::Dual)\n",
    "    return Dual(sin(x.x), cos(x.x)*x.dx)\n",
    "end\n",
    "function cos(x::Dual)\n",
    "    return Dual(cos(x.x), -sin(x.x)*x.dx)\n",
    "end\n",
    "\n",
    "function tan(x::Dual)\n",
    "    return Dual(tan(x.x),(1/cos(x.x)^2)*x.dx)\n",
    "end"
   ]
  },
  {
   "cell_type": "code",
   "execution_count": 12,
   "id": "eight-lounge",
   "metadata": {},
   "outputs": [
    {
     "data": {
      "text/plain": [
       "max (generic function with 13 methods)"
      ]
     },
     "execution_count": 12,
     "metadata": {},
     "output_type": "execute_result"
    }
   ],
   "source": [
    "function max(x::Dual)\n",
    "    return Dual(max(0,x.x), x.x < 0 ? 0 : 1 * x.dx)\n",
    "end"
   ]
  },
  {
   "cell_type": "code",
   "execution_count": 13,
   "id": "digital-thinking",
   "metadata": {},
   "outputs": [
    {
     "data": {
      "text/plain": [
       "iterate (generic function with 212 methods)"
      ]
     },
     "execution_count": 13,
     "metadata": {},
     "output_type": "execute_result"
    }
   ],
   "source": [
    "function iterate(iter::Dual, state=1)\n",
    "    if state > length(iter.val)\n",
    "        return nothing\n",
    "    end\n",
    "    return (iter[state],state+1)\n",
    "end"
   ]
  },
  {
   "cell_type": "code",
   "execution_count": 14,
   "id": "comparable-judge",
   "metadata": {},
   "outputs": [
    {
     "name": "stdout",
     "output_type": "stream",
     "text": [
      "\u001b[91m\u001b[1mError During Test\u001b[22m\u001b[39m at \u001b[39m\u001b[1mIn[14]:1\u001b[22m\n",
      "  Test threw exception\n",
      "  Expression: begin\n",
      "    x = randn()\n",
      "    isapprox((D(exp))(x), exp(x))\n",
      "end\n",
      "  UndefVarError: D not defined\n",
      "  Stacktrace:\n",
      "   [1] top-level scope at In[14]:1\n",
      "   [2] include_string(::Function, ::Module, ::String, ::String) at ./loading.jl:1091\n",
      "   [3] softscope_include_string(::Module, ::String, ::String) at /home/ligerd/.julia/packages/SoftGlobalScope/u4UzH/src/SoftGlobalScope.jl:65\n",
      "   [4] execute_request(::ZMQ.Socket, ::IJulia.Msg) at /home/ligerd/.julia/packages/IJulia/e8kqU/src/execute_request.jl:67\n",
      "   [5] #invokelatest#1 at ./essentials.jl:710 [inlined]\n",
      "   [6] invokelatest at ./essentials.jl:709 [inlined]\n",
      "   [7] eventloop(::ZMQ.Socket) at /home/ligerd/.julia/packages/IJulia/e8kqU/src/eventloop.jl:8\n",
      "   [8] (::IJulia.var\"#15#18\")() at ./task.jl:356\n",
      "  \n"
     ]
    },
    {
     "ename": "LoadError",
     "evalue": "\u001b[91mThere was an error during testing\u001b[39m",
     "output_type": "error",
     "traceback": [
      "\u001b[91mThere was an error during testing\u001b[39m",
      "",
      "Stacktrace:",
      " [1] record(::Test.FallbackTestSet, ::Union{Test.Error, Test.Fail}) at /buildworker/worker/package_linux64/build/usr/share/julia/stdlib/v1.5/Test/src/Test.jl:737",
      " [2] do_test(::Test.ExecutionResult, ::Any) at /buildworker/worker/package_linux64/build/usr/share/julia/stdlib/v1.5/Test/src/Test.jl:520",
      " [3] top-level scope at In[14]:1",
      " [4] include_string(::Function, ::Module, ::String, ::String) at ./loading.jl:1091"
     ]
    }
   ],
   "source": [
    "@test begin\n",
    "    x = randn()\n",
    "    isapprox(D(exp)(x), exp(x))\n",
    "end"
   ]
  },
  {
   "cell_type": "code",
   "execution_count": 15,
   "id": "spoken-daily",
   "metadata": {},
   "outputs": [
    {
     "ename": "LoadError",
     "evalue": "\u001b[91mUndefVarError: D not defined\u001b[39m",
     "output_type": "error",
     "traceback": [
      "\u001b[91mUndefVarError: D not defined\u001b[39m",
      "",
      "Stacktrace:",
      " [1] top-level scope at In[15]:4",
      " [2] include_string(::Function, ::Module, ::String, ::String) at ./loading.jl:1091"
     ]
    }
   ],
   "source": [
    "function f(x)\n",
    "    return exp(-x/pi)*sin(2.0*pi*sqrt(2)*x)\n",
    "end\n",
    "fprime = D(f,3)"
   ]
  },
  {
   "cell_type": "code",
   "execution_count": 16,
   "id": "incident-manchester",
   "metadata": {},
   "outputs": [
    {
     "ename": "LoadError",
     "evalue": "\u001b[91mUndefVarError: fprime not defined\u001b[39m",
     "output_type": "error",
     "traceback": [
      "\u001b[91mUndefVarError: fprime not defined\u001b[39m",
      "",
      "Stacktrace:",
      " [1] top-level scope at In[16]:1",
      " [2] include_string(::Function, ::Module, ::String, ::String) at ./loading.jl:1091"
     ]
    }
   ],
   "source": [
    "fprime(3)"
   ]
  },
  {
   "cell_type": "code",
   "execution_count": 16,
   "id": "british-packing",
   "metadata": {},
   "outputs": [
    {
     "data": {
      "text/plain": [
       "(::var\"#df#1\"{typeof(f)}) (generic function with 1 method)"
      ]
     },
     "execution_count": 16,
     "metadata": {},
     "output_type": "execute_result"
    }
   ],
   "source": [
    "function f(x)\n",
    "#     return exp(-x/pi)*sin(2.0*pi*sqrt(2)*x)\n",
    "    return sin(x*x)\n",
    "end\n",
    "fprime = D(f)"
   ]
  },
  {
   "cell_type": "code",
   "execution_count": 17,
   "id": "reported-communist",
   "metadata": {},
   "outputs": [
    {
     "data": {
      "text/plain": [
       "(::var\"#df#1\"{Int64}) (generic function with 1 method)"
      ]
     },
     "execution_count": 17,
     "metadata": {},
     "output_type": "execute_result"
    }
   ],
   "source": [
    "D(2)"
   ]
  },
  {
   "cell_type": "code",
   "execution_count": null,
   "id": "reverse-solution",
   "metadata": {},
   "outputs": [],
   "source": []
  },
  {
   "cell_type": "code",
   "execution_count": 15,
   "id": "careful-modification",
   "metadata": {},
   "outputs": [
    {
     "data": {
      "text/plain": [
       "linear (generic function with 1 method)"
      ]
     },
     "execution_count": 15,
     "metadata": {},
     "output_type": "execute_result"
    }
   ],
   "source": [
    "function linear(x, m, b)\n",
    "    return m*x+b\n",
    "end\n"
   ]
  },
  {
   "cell_type": "code",
   "execution_count": 18,
   "id": "every-verification",
   "metadata": {},
   "outputs": [
    {
     "name": "stdout",
     "output_type": "stream",
     "text": [
      "DUPA"
     ]
    },
    {
     "data": {
      "text/plain": [
       "2.0"
      ]
     },
     "execution_count": 18,
     "metadata": {},
     "output_type": "execute_result"
    }
   ],
   "source": [
    "derivativeСalculation(linear,1,1.2,2,3)"
   ]
  },
  {
   "cell_type": "code",
   "execution_count": 33,
   "id": "intermediate-emperor",
   "metadata": {},
   "outputs": [
    {
     "data": {
      "text/plain": [
       "1.0"
      ]
     },
     "execution_count": 33,
     "metadata": {},
     "output_type": "execute_result"
    }
   ],
   "source": [
    "dldx(1.2,2,3)"
   ]
  },
  {
   "cell_type": "code",
   "execution_count": 25,
   "id": "registered-float",
   "metadata": {},
   "outputs": [
    {
     "data": {
      "text/plain": [
       "relu (generic function with 1 method)"
      ]
     },
     "execution_count": 25,
     "metadata": {},
     "output_type": "execute_result"
    }
   ],
   "source": [
    "function relu(x)\n",
    "    return max(0,x)\n",
    "end"
   ]
  },
  {
   "cell_type": "code",
   "execution_count": 26,
   "id": "colored-psychiatry",
   "metadata": {},
   "outputs": [
    {
     "data": {
      "text/plain": [
       "f (generic function with 1 method)"
      ]
     },
     "execution_count": 26,
     "metadata": {},
     "output_type": "execute_result"
    }
   ],
   "source": [
    "function f(x)\n",
    "    return x+relu(x*x)\n",
    "end"
   ]
  },
  {
   "cell_type": "code",
   "execution_count": 27,
   "id": "exceptional-cloud",
   "metadata": {},
   "outputs": [
    {
     "data": {
      "text/plain": [
       "(::var\"#df#1\"{typeof(f)}) (generic function with 1 method)"
      ]
     },
     "execution_count": 27,
     "metadata": {},
     "output_type": "execute_result"
    }
   ],
   "source": [
    "d= D(f)"
   ]
  },
  {
   "cell_type": "code",
   "execution_count": 28,
   "id": "smoking-plate",
   "metadata": {},
   "outputs": [
    {
     "ename": "LoadError",
     "evalue": "\u001b[91mMethodError: no method matching isless(::Infinitesimal{Int64}, ::Int64)\u001b[39m\n\u001b[91m\u001b[0mClosest candidates are:\u001b[39m\n\u001b[91m\u001b[0m  isless(\u001b[91m::Missing\u001b[39m, ::Any) at missing.jl:87\u001b[39m\n\u001b[91m\u001b[0m  isless(\u001b[91m::AbstractFloat\u001b[39m, ::Real) at operators.jl:167\u001b[39m\n\u001b[91m\u001b[0m  isless(\u001b[91m::Real\u001b[39m, ::Real) at operators.jl:355\u001b[39m\n\u001b[91m\u001b[0m  ...\u001b[39m",
     "output_type": "error",
     "traceback": [
      "\u001b[91mMethodError: no method matching isless(::Infinitesimal{Int64}, ::Int64)\u001b[39m\n\u001b[91m\u001b[0mClosest candidates are:\u001b[39m\n\u001b[91m\u001b[0m  isless(\u001b[91m::Missing\u001b[39m, ::Any) at missing.jl:87\u001b[39m\n\u001b[91m\u001b[0m  isless(\u001b[91m::AbstractFloat\u001b[39m, ::Real) at operators.jl:167\u001b[39m\n\u001b[91m\u001b[0m  isless(\u001b[91m::Real\u001b[39m, ::Real) at operators.jl:355\u001b[39m\n\u001b[91m\u001b[0m  ...\u001b[39m",
      "",
      "Stacktrace:",
      " [1] max(::Int64, ::Infinitesimal{Int64}) at ./operators.jl:417",
      " [2] relu(::Infinitesimal{Int64}) at ./In[25]:2",
      " [3] f(::Infinitesimal{Int64}) at ./In[26]:2",
      " [4] (::var\"#df#1\"{typeof(f)})(::Int64) at ./In[11]:4",
      " [5] top-level scope at In[28]:1",
      " [6] include_string(::Function, ::Module, ::String, ::String) at ./loading.jl:1091"
     ]
    }
   ],
   "source": [
    "d(-2)"
   ]
  },
  {
   "cell_type": "code",
   "execution_count": 29,
   "id": "assumed-racing",
   "metadata": {},
   "outputs": [
    {
     "data": {
      "text/plain": [
       "softmax (generic function with 1 method)"
      ]
     },
     "execution_count": 29,
     "metadata": {},
     "output_type": "execute_result"
    }
   ],
   "source": [
    "function softmax(vector::Array)\n",
    "    e = exp(vector)\n",
    "    return e / sum(e)\n",
    "end"
   ]
  },
  {
   "cell_type": "code",
   "execution_count": 30,
   "id": "falling-congress",
   "metadata": {},
   "outputs": [
    {
     "data": {
      "text/plain": [
       "(::var\"#df#1\"{typeof(softmax)}) (generic function with 1 method)"
      ]
     },
     "execution_count": 30,
     "metadata": {},
     "output_type": "execute_result"
    }
   ],
   "source": [
    "d=D(softmax)"
   ]
  },
  {
   "cell_type": "code",
   "execution_count": 31,
   "id": "copyrighted-import",
   "metadata": {},
   "outputs": [
    {
     "ename": "LoadError",
     "evalue": "\u001b[91mMethodError: no method matching (::var\"#df#1\"{typeof(softmax)})(::Int64, ::Array{Int64,1})\u001b[39m\n\u001b[91m\u001b[0mClosest candidates are:\u001b[39m\n\u001b[91m\u001b[0m  df(::Any) at In[11]:2\u001b[39m",
     "output_type": "error",
     "traceback": [
      "\u001b[91mMethodError: no method matching (::var\"#df#1\"{typeof(softmax)})(::Int64, ::Array{Int64,1})\u001b[39m\n\u001b[91m\u001b[0mClosest candidates are:\u001b[39m\n\u001b[91m\u001b[0m  df(::Any) at In[11]:2\u001b[39m",
      "",
      "Stacktrace:",
      " [1] top-level scope at In[31]:1",
      " [2] include_string(::Function, ::Module, ::String, ::String) at ./loading.jl:1091"
     ]
    }
   ],
   "source": [
    "d(2, [1,2,3])"
   ]
  },
  {
   "cell_type": "code",
   "execution_count": 14,
   "id": "genuine-overall",
   "metadata": {},
   "outputs": [
    {
     "data": {
      "text/plain": [
       "ftest (generic function with 1 method)"
      ]
     },
     "execution_count": 14,
     "metadata": {},
     "output_type": "execute_result"
    }
   ],
   "source": [
    "function ftest(x)\n",
    "    return 3^x\n",
    "end"
   ]
  },
  {
   "cell_type": "code",
   "execution_count": 15,
   "id": "related-insertion",
   "metadata": {},
   "outputs": [
    {
     "data": {
      "text/plain": [
       "(::var\"#df#1\"{typeof(ftest)}) (generic function with 1 method)"
      ]
     },
     "execution_count": 15,
     "metadata": {},
     "output_type": "execute_result"
    }
   ],
   "source": [
    "d=D(ftest)"
   ]
  },
  {
   "cell_type": "code",
   "execution_count": 16,
   "id": "fiscal-register",
   "metadata": {},
   "outputs": [
    {
     "name": "stdout",
     "output_type": "stream",
     "text": [
      "Dual{Float64}(2.0, 1.0)"
     ]
    },
    {
     "data": {
      "text/plain": [
       "9.887510598012987"
      ]
     },
     "execution_count": 16,
     "metadata": {},
     "output_type": "execute_result"
    }
   ],
   "source": [
    "d(2.0)"
   ]
  },
  {
   "cell_type": "code",
   "execution_count": 44,
   "id": "surrounded-stationery",
   "metadata": {},
   "outputs": [
    {
     "data": {
      "text/plain": [
       "Dual{Float64}(6.4, 6.1)"
      ]
     },
     "execution_count": 44,
     "metadata": {},
     "output_type": "execute_result"
    }
   ],
   "source": [
    "Dual(2,4)+Dual(4.4, 2.1)"
   ]
  },
  {
   "cell_type": "code",
   "execution_count": null,
   "id": "removed-consumption",
   "metadata": {},
   "outputs": [],
   "source": []
  },
  {
   "cell_type": "code",
   "execution_count": 47,
   "id": "false-motivation",
   "metadata": {},
   "outputs": [
    {
     "data": {
      "text/plain": [
       "Dual{Float64}(2.0, 4.3)"
      ]
     },
     "execution_count": 47,
     "metadata": {},
     "output_type": "execute_result"
    }
   ],
   "source": [
    "Dual(2,4.3)"
   ]
  },
  {
   "cell_type": "code",
   "execution_count": 41,
   "id": "fabulous-river",
   "metadata": {},
   "outputs": [
    {
     "data": {
      "text/plain": [
       "tgTest (generic function with 1 method)"
      ]
     },
     "execution_count": 41,
     "metadata": {},
     "output_type": "execute_result"
    }
   ],
   "source": [
    "function tgTest(x)\n",
    "    return tan(x)\n",
    "end"
   ]
  },
  {
   "cell_type": "code",
   "execution_count": 42,
   "id": "efficient-advancement",
   "metadata": {},
   "outputs": [
    {
     "data": {
      "text/plain": [
       "(::var\"#df#1\"{typeof(tgTest)}) (generic function with 1 method)"
      ]
     },
     "execution_count": 42,
     "metadata": {},
     "output_type": "execute_result"
    }
   ],
   "source": [
    "d=D(tgTest)"
   ]
  },
  {
   "cell_type": "code",
   "execution_count": 43,
   "id": "european-triumph",
   "metadata": {},
   "outputs": [
    {
     "name": "stdout",
     "output_type": "stream",
     "text": [
      "Dual{Int64}(5, 1)"
     ]
    },
    {
     "data": {
      "text/plain": [
       "12.427881707458354"
      ]
     },
     "execution_count": 43,
     "metadata": {},
     "output_type": "execute_result"
    }
   ],
   "source": [
    "d(5)"
   ]
  },
  {
   "cell_type": "code",
   "execution_count": 40,
   "id": "recreational-study",
   "metadata": {},
   "outputs": [
    {
     "data": {
      "text/plain": [
       "-2.185039863261519"
      ]
     },
     "execution_count": 40,
     "metadata": {},
     "output_type": "execute_result"
    }
   ],
   "source": [
    "tan(2)"
   ]
  },
  {
   "cell_type": "code",
   "execution_count": 44,
   "id": "otherwise-things",
   "metadata": {},
   "outputs": [
    {
     "data": {
      "text/plain": [
       "0.9092974268256817"
      ]
     },
     "execution_count": 44,
     "metadata": {},
     "output_type": "execute_result"
    }
   ],
   "source": [
    "sin(2)"
   ]
  },
  {
   "cell_type": "code",
   "execution_count": null,
   "id": "convenient-migration",
   "metadata": {},
   "outputs": [],
   "source": []
  }
 ],
 "metadata": {
  "kernelspec": {
   "display_name": "Julia 1.5.3",
   "language": "julia",
   "name": "julia-1.5"
  },
  "language_info": {
   "file_extension": ".jl",
   "mimetype": "application/julia",
   "name": "julia",
   "version": "1.5.3"
  }
 },
 "nbformat": 4,
 "nbformat_minor": 5
}

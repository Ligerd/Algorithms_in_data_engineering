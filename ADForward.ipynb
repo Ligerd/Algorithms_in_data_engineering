{
 "cells": [
  {
   "cell_type": "code",
   "execution_count": 1,
   "id": "elegant-death",
   "metadata": {},
   "outputs": [],
   "source": [
    "import Base: iterate,max, exp, sin, cos, +, ^, -, *, /, sqrt, convert, promote_rule, zero\n",
    "import Test: @test, @testset"
   ]
  },
  {
   "cell_type": "code",
   "execution_count": 2,
   "id": "median-welding",
   "metadata": {},
   "outputs": [
    {
     "data": {
      "text/plain": [
       "4"
      ]
     },
     "execution_count": 2,
     "metadata": {},
     "output_type": "execute_result"
    }
   ],
   "source": [
    "2^2"
   ]
  },
  {
   "cell_type": "markdown",
   "id": "processed-roots",
   "metadata": {},
   "source": [
    "# Define dual number"
   ]
  },
  {
   "cell_type": "code",
   "execution_count": 3,
   "id": "limited-calculator",
   "metadata": {},
   "outputs": [],
   "source": [
    "struct Infinitesimal{T <: Number} <: Number\n",
    "    x::T\n",
    "    dx::T\n",
    "#    Infinitesimal{T}(x::Number, dx::Number) where {T <: Number}  = (print(\"dupa\"); new(x, dx))\n",
    "end"
   ]
  },
  {
   "cell_type": "code",
   "execution_count": 4,
   "id": "adjusted-order",
   "metadata": {},
   "outputs": [],
   "source": [
    "# struct Infinitesimal{T <: Number} <: Number\n",
    "#     x::T\n",
    "#     dx::T\n",
    "#     Infinitesimal(x::T, dx::T) where {T <: Number}  = (print(\"dupa\"); new(x, dx))\n",
    "# end"
   ]
  },
  {
   "cell_type": "code",
   "execution_count": 5,
   "id": "transparent-fiction",
   "metadata": {},
   "outputs": [
    {
     "data": {
      "text/plain": [
       "Infinitesimal{Int64}(1, 0)"
      ]
     },
     "execution_count": 5,
     "metadata": {},
     "output_type": "execute_result"
    }
   ],
   "source": [
    "Infinitesimal(1, 0)"
   ]
  },
  {
   "cell_type": "code",
   "execution_count": null,
   "id": "played-steal",
   "metadata": {},
   "outputs": [],
   "source": []
  },
  {
   "cell_type": "code",
   "execution_count": 6,
   "id": "level-attachment",
   "metadata": {},
   "outputs": [
    {
     "data": {
      "text/plain": [
       "convert (generic function with 187 methods)"
      ]
     },
     "execution_count": 6,
     "metadata": {},
     "output_type": "execute_result"
    }
   ],
   "source": [
    "function convert(::Type{Infinitesimal{T}}, x::T) where {T}\n",
    "   Infinitesimal(x, zero(x)) \n",
    "end\n",
    "function convert(::Type{Infinitesimal{T}}, x::Infinitesimal{S}) where {S, T}\n",
    "    Infinitesimal(T(x.x), T(x.dx))\n",
    "end\n",
    "# This is needed according to an error before\n",
    "function convert(::Type{Infinitesimal{T}}, x::T) where {T <: Number}\n",
    "    Infinitesimal(x, zero(x))\n",
    "end\n",
    "function convert(::Type{Infinitesimal{T}}, x::S) where {T, S <: Number}\n",
    "    x_as_T = convert(T, x)\n",
    "    Infinitesimal(x_as_T, zero(x_as_T))\n",
    "end"
   ]
  },
  {
   "cell_type": "code",
   "execution_count": 7,
   "id": "attractive-money",
   "metadata": {},
   "outputs": [
    {
     "ename": "LoadError",
     "evalue": "\u001b[91mpromotion of types Float64 and Infinitesimal{Int64} failed to change any arguments\u001b[39m",
     "output_type": "error",
     "traceback": [
      "\u001b[91mpromotion of types Float64 and Infinitesimal{Int64} failed to change any arguments\u001b[39m",
      "",
      "Stacktrace:",
      " [1] error(::String, ::String, ::String) at ./error.jl:42",
      " [2] sametype_error(::Tuple{Float64,Infinitesimal{Int64}}) at ./promotion.jl:306",
      " [3] not_sametype(::Tuple{Float64,Infinitesimal{Int64}}, ::Tuple{Float64,Infinitesimal{Int64}}) at ./promotion.jl:300",
      " [4] promote at ./promotion.jl:283 [inlined]",
      " [5] +(::Float64, ::Infinitesimal{Int64}) at ./promotion.jl:311",
      " [6] top-level scope at In[7]:3",
      " [7] include_string(::Function, ::Module, ::String, ::String) at ./loading.jl:1091"
     ]
    }
   ],
   "source": [
    "h=4.0\n",
    "z = Infinitesimal(1, zero(1))\n",
    "h + z"
   ]
  },
  {
   "cell_type": "code",
   "execution_count": 8,
   "id": "dying-december",
   "metadata": {},
   "outputs": [
    {
     "data": {
      "text/plain": [
       "zero (generic function with 23 methods)"
      ]
     },
     "execution_count": 8,
     "metadata": {},
     "output_type": "execute_result"
    }
   ],
   "source": [
    "function zero(x::Infinitesimal{T}) where T\n",
    "    Infinitesimal(zero(x.x), zero(x.dx))\n",
    "end"
   ]
  },
  {
   "cell_type": "code",
   "execution_count": 9,
   "id": "wired-efficiency",
   "metadata": {},
   "outputs": [
    {
     "data": {
      "text/plain": [
       "promote_rule (generic function with 126 methods)"
      ]
     },
     "execution_count": 9,
     "metadata": {},
     "output_type": "execute_result"
    }
   ],
   "source": [
    "function promote_rule(::Type{Infinitesimal{T}}, ::Type{Infinitesimal{S}}) where {T,S}\n",
    "    Infinitesimal{promote_type(T,S)}\n",
    "end\n",
    "function promote_rule(::Type{Infinitesimal{T}}, ::Type{S}) where {T, S <: Number}\n",
    "    Infinitesimal{promote_type(T,S)}\n",
    "end\n",
    "function promote_rule(::Type{T}, ::Type{Infinitesimal{S}}) where {T <: Number, S}\n",
    "    Infinitesimal{promote_type(T,S)}\n",
    "end\n",
    "function promote_rule(::Type{S}, ::Type{Infinitesimal{T}}) where {S <: AbstractIrrational, T}\n",
    "    Infinitesimal{promote_type(S,T)}\n",
    "end"
   ]
  },
  {
   "cell_type": "code",
   "execution_count": 10,
   "id": "focused-portable",
   "metadata": {},
   "outputs": [
    {
     "data": {
      "text/plain": [
       "extract_derivative (generic function with 3 methods)"
      ]
     },
     "execution_count": 10,
     "metadata": {},
     "output_type": "execute_result"
    }
   ],
   "source": [
    "function extract_derivative(xdx::Infinitesimal)\n",
    "    return xdx.dx\n",
    "end\n",
    "function extract_derivative(xs::Array)\n",
    "    [extract_derivative(x) for x in xs]\n",
    "end\n",
    "function extract_derivative(xs::Tuple)\n",
    "    convert(Tuple, [extract_derivative(x) for x in xs])\n",
    "end"
   ]
  },
  {
   "cell_type": "markdown",
   "id": "posted-canon",
   "metadata": {},
   "source": [
    "# Differential operator"
   ]
  },
  {
   "cell_type": "code",
   "execution_count": 11,
   "id": "military-ecology",
   "metadata": {},
   "outputs": [
    {
     "data": {
      "text/plain": [
       "D (generic function with 2 methods)"
      ]
     },
     "execution_count": 11,
     "metadata": {},
     "output_type": "execute_result"
    }
   ],
   "source": [
    "function D(f)\n",
    "    function df(x)\n",
    "        xdx = Infinitesimal(x, one(x))\n",
    "        result = f(xdx)\n",
    "        return extract_derivative(result)\n",
    "    end\n",
    "    df\n",
    "end\n",
    "function D(i::Integer, f)\n",
    "    function df(xs...)\n",
    "        xarr = [(j != i ? x : Infinitesimal(x, one(x))) for (j,x) in enumerate(xs)]\n",
    "        result = f(xarr...)\n",
    "        return extract_derivative(result)\n",
    "    end\n",
    "    df\n",
    "end"
   ]
  },
  {
   "cell_type": "code",
   "execution_count": 12,
   "id": "emerging-motorcycle",
   "metadata": {},
   "outputs": [
    {
     "data": {
      "text/plain": [
       "^ (generic function with 67 methods)"
      ]
     },
     "execution_count": 12,
     "metadata": {},
     "output_type": "execute_result"
    }
   ],
   "source": [
    "function +(x::Infinitesimal, y::Infinitesimal)\n",
    "    Infinitesimal(x.x+y.x, x.dx+y.dx)\n",
    "end\n",
    "function -(x::Infinitesimal, y::Infinitesimal)\n",
    "    Infinitesimal(x.x-y.x, x.dx-y.dx)\n",
    "end\n",
    "function -(x::Infinitesimal)\n",
    "    Infinitesimal(-x.x, -x.dx)\n",
    "end\n",
    "function *(x::Infinitesimal, y::Infinitesimal)\n",
    "    Infinitesimal(x.x*y.x, x.x*y.dx + x.dx*y.x)\n",
    "end\n",
    "function /(x::Infinitesimal, y::Infinitesimal)\n",
    "    Infinitesimal(x.x/y.x, x.dx/y.x - x.x*y.dx/(y.x*y.x))\n",
    "end\n",
    "function /(x::Array, y::Number)\n",
    "    return [i / y for i in x]\n",
    "end\n",
    "function ^(a::Infinitesimal, x::Infinitesimal)\n",
    "    Infinitesimal(a.x^x.x,a.x^x.x*log(a.x)*x.dx)\n",
    "end"
   ]
  },
  {
   "cell_type": "code",
   "execution_count": 13,
   "id": "progressive-comment",
   "metadata": {},
   "outputs": [
    {
     "data": {
      "text/plain": [
       "sqrt (generic function with 21 methods)"
      ]
     },
     "execution_count": 13,
     "metadata": {},
     "output_type": "execute_result"
    }
   ],
   "source": [
    "function sqrt(x::Infinitesimal)\n",
    "    Infinitesimal(sqrt(x.x), x.dx/(2*sqrt(x.x)))\n",
    "end"
   ]
  },
  {
   "cell_type": "code",
   "execution_count": 14,
   "id": "drawn-monte",
   "metadata": {},
   "outputs": [
    {
     "data": {
      "text/plain": [
       "cos (generic function with 14 methods)"
      ]
     },
     "execution_count": 14,
     "metadata": {},
     "output_type": "execute_result"
    }
   ],
   "source": [
    "function exp(x::Infinitesimal)\n",
    "    return Infinitesimal(exp(x.x), exp(x.x)*x.dx)\n",
    "end\n",
    "function exp(xs::Array)\n",
    "    return [exp(x) for x in xs]\n",
    "end\n",
    "function sin(x::Infinitesimal)\n",
    "    return Infinitesimal(sin(x.x), cos(x.x)*x.dx)\n",
    "end\n",
    "function cos(x::Infinitesimal)\n",
    "    return Infinitesimal(cos(x.x), -sin(x.x)*x.dx)\n",
    "end"
   ]
  },
  {
   "cell_type": "code",
   "execution_count": 15,
   "id": "eight-lounge",
   "metadata": {},
   "outputs": [
    {
     "data": {
      "text/plain": [
       "max (generic function with 13 methods)"
      ]
     },
     "execution_count": 15,
     "metadata": {},
     "output_type": "execute_result"
    }
   ],
   "source": [
    "function max(x::Infinitesimal)\n",
    "    return Infinitesimal(max(0,x.x), x.x < 0 ? 0 : 1 * x.dx)\n",
    "end"
   ]
  },
  {
   "cell_type": "code",
   "execution_count": 16,
   "id": "digital-thinking",
   "metadata": {},
   "outputs": [
    {
     "data": {
      "text/plain": [
       "iterate (generic function with 212 methods)"
      ]
     },
     "execution_count": 16,
     "metadata": {},
     "output_type": "execute_result"
    }
   ],
   "source": [
    "function iterate(iter::Infinitesimal, state=1)\n",
    "    if state > length(iter.val)\n",
    "        return nothing\n",
    "    end\n",
    "    return (iter[state],state+1)\n",
    "end"
   ]
  },
  {
   "cell_type": "code",
   "execution_count": 17,
   "id": "comparable-judge",
   "metadata": {},
   "outputs": [
    {
     "data": {
      "text/plain": [
       "\u001b[32m\u001b[1mTest Passed\u001b[22m\u001b[39m"
      ]
     },
     "execution_count": 17,
     "metadata": {},
     "output_type": "execute_result"
    }
   ],
   "source": [
    "@test begin\n",
    "    x = randn()\n",
    "    isapprox(D(exp)(x), exp(x))\n",
    "end"
   ]
  },
  {
   "cell_type": "code",
   "execution_count": 18,
   "id": "spoken-daily",
   "metadata": {},
   "outputs": [
    {
     "data": {
      "text/plain": [
       "(::var\"#df#1\"{typeof(f)}) (generic function with 1 method)"
      ]
     },
     "execution_count": 18,
     "metadata": {},
     "output_type": "execute_result"
    }
   ],
   "source": [
    "function f(x)\n",
    "    return exp(-x/pi)*sin(2.0*pi*sqrt(2)*x)\n",
    "end\n",
    "fprime = D(f)"
   ]
  },
  {
   "cell_type": "code",
   "execution_count": 19,
   "id": "incident-manchester",
   "metadata": {},
   "outputs": [
    {
     "data": {
      "text/plain": [
       "0.03569811122195761"
      ]
     },
     "execution_count": 19,
     "metadata": {},
     "output_type": "execute_result"
    }
   ],
   "source": [
    "fprime(3)"
   ]
  },
  {
   "cell_type": "code",
   "execution_count": 20,
   "id": "british-packing",
   "metadata": {},
   "outputs": [
    {
     "data": {
      "text/plain": [
       "(::var\"#df#1\"{typeof(f)}) (generic function with 1 method)"
      ]
     },
     "execution_count": 20,
     "metadata": {},
     "output_type": "execute_result"
    }
   ],
   "source": [
    "function f(x)\n",
    "#     return exp(-x/pi)*sin(2.0*pi*sqrt(2)*x)\n",
    "    return sin(x*x)\n",
    "end\n",
    "fprime = D(f)"
   ]
  },
  {
   "cell_type": "code",
   "execution_count": 21,
   "id": "reported-communist",
   "metadata": {},
   "outputs": [
    {
     "data": {
      "text/plain": [
       "(::var\"#df#1\"{Int64}) (generic function with 1 method)"
      ]
     },
     "execution_count": 21,
     "metadata": {},
     "output_type": "execute_result"
    }
   ],
   "source": [
    "D(2)"
   ]
  },
  {
   "cell_type": "code",
   "execution_count": null,
   "id": "reverse-solution",
   "metadata": {},
   "outputs": [],
   "source": []
  },
  {
   "cell_type": "code",
   "execution_count": 22,
   "id": "careful-modification",
   "metadata": {},
   "outputs": [
    {
     "data": {
      "text/plain": [
       "linear (generic function with 1 method)"
      ]
     },
     "execution_count": 22,
     "metadata": {},
     "output_type": "execute_result"
    }
   ],
   "source": [
    "function linear(x, m, b)\n",
    "    return m*x+b\n",
    "end\n"
   ]
  },
  {
   "cell_type": "code",
   "execution_count": 23,
   "id": "every-verification",
   "metadata": {},
   "outputs": [
    {
     "data": {
      "text/plain": [
       "(::var\"#df#3\"{Int64,typeof(linear)}) (generic function with 1 method)"
      ]
     },
     "execution_count": 23,
     "metadata": {},
     "output_type": "execute_result"
    }
   ],
   "source": [
    "dldx = D(1, linear)"
   ]
  },
  {
   "cell_type": "code",
   "execution_count": 24,
   "id": "intermediate-emperor",
   "metadata": {},
   "outputs": [
    {
     "data": {
      "text/plain": [
       "2"
      ]
     },
     "execution_count": 24,
     "metadata": {},
     "output_type": "execute_result"
    }
   ],
   "source": [
    "dldx(1,2,3)"
   ]
  },
  {
   "cell_type": "code",
   "execution_count": 25,
   "id": "registered-float",
   "metadata": {},
   "outputs": [
    {
     "data": {
      "text/plain": [
       "relu (generic function with 1 method)"
      ]
     },
     "execution_count": 25,
     "metadata": {},
     "output_type": "execute_result"
    }
   ],
   "source": [
    "function relu(x)\n",
    "    return max(0,x)\n",
    "end"
   ]
  },
  {
   "cell_type": "code",
   "execution_count": 26,
   "id": "colored-psychiatry",
   "metadata": {},
   "outputs": [
    {
     "data": {
      "text/plain": [
       "f (generic function with 1 method)"
      ]
     },
     "execution_count": 26,
     "metadata": {},
     "output_type": "execute_result"
    }
   ],
   "source": [
    "function f(x)\n",
    "    return x+relu(x*x)\n",
    "end"
   ]
  },
  {
   "cell_type": "code",
   "execution_count": 27,
   "id": "exceptional-cloud",
   "metadata": {},
   "outputs": [
    {
     "data": {
      "text/plain": [
       "(::var\"#df#1\"{typeof(f)}) (generic function with 1 method)"
      ]
     },
     "execution_count": 27,
     "metadata": {},
     "output_type": "execute_result"
    }
   ],
   "source": [
    "d= D(f)"
   ]
  },
  {
   "cell_type": "code",
   "execution_count": 28,
   "id": "smoking-plate",
   "metadata": {},
   "outputs": [
    {
     "ename": "LoadError",
     "evalue": "\u001b[91mMethodError: no method matching isless(::Infinitesimal{Int64}, ::Int64)\u001b[39m\n\u001b[91m\u001b[0mClosest candidates are:\u001b[39m\n\u001b[91m\u001b[0m  isless(\u001b[91m::Missing\u001b[39m, ::Any) at missing.jl:87\u001b[39m\n\u001b[91m\u001b[0m  isless(\u001b[91m::AbstractFloat\u001b[39m, ::Real) at operators.jl:167\u001b[39m\n\u001b[91m\u001b[0m  isless(\u001b[91m::Real\u001b[39m, ::Real) at operators.jl:355\u001b[39m\n\u001b[91m\u001b[0m  ...\u001b[39m",
     "output_type": "error",
     "traceback": [
      "\u001b[91mMethodError: no method matching isless(::Infinitesimal{Int64}, ::Int64)\u001b[39m\n\u001b[91m\u001b[0mClosest candidates are:\u001b[39m\n\u001b[91m\u001b[0m  isless(\u001b[91m::Missing\u001b[39m, ::Any) at missing.jl:87\u001b[39m\n\u001b[91m\u001b[0m  isless(\u001b[91m::AbstractFloat\u001b[39m, ::Real) at operators.jl:167\u001b[39m\n\u001b[91m\u001b[0m  isless(\u001b[91m::Real\u001b[39m, ::Real) at operators.jl:355\u001b[39m\n\u001b[91m\u001b[0m  ...\u001b[39m",
      "",
      "Stacktrace:",
      " [1] max(::Int64, ::Infinitesimal{Int64}) at ./operators.jl:417",
      " [2] relu(::Infinitesimal{Int64}) at ./In[25]:2",
      " [3] f(::Infinitesimal{Int64}) at ./In[26]:2",
      " [4] (::var\"#df#1\"{typeof(f)})(::Int64) at ./In[11]:4",
      " [5] top-level scope at In[28]:1",
      " [6] include_string(::Function, ::Module, ::String, ::String) at ./loading.jl:1091"
     ]
    }
   ],
   "source": [
    "d(-2)"
   ]
  },
  {
   "cell_type": "code",
   "execution_count": 29,
   "id": "assumed-racing",
   "metadata": {},
   "outputs": [
    {
     "data": {
      "text/plain": [
       "softmax (generic function with 1 method)"
      ]
     },
     "execution_count": 29,
     "metadata": {},
     "output_type": "execute_result"
    }
   ],
   "source": [
    "function softmax(vector::Array)\n",
    "    e = exp(vector)\n",
    "    return e / sum(e)\n",
    "end"
   ]
  },
  {
   "cell_type": "code",
   "execution_count": 30,
   "id": "falling-congress",
   "metadata": {},
   "outputs": [
    {
     "data": {
      "text/plain": [
       "(::var\"#df#1\"{typeof(softmax)}) (generic function with 1 method)"
      ]
     },
     "execution_count": 30,
     "metadata": {},
     "output_type": "execute_result"
    }
   ],
   "source": [
    "d=D(softmax)"
   ]
  },
  {
   "cell_type": "code",
   "execution_count": 31,
   "id": "copyrighted-import",
   "metadata": {},
   "outputs": [
    {
     "ename": "LoadError",
     "evalue": "\u001b[91mMethodError: no method matching (::var\"#df#1\"{typeof(softmax)})(::Int64, ::Array{Int64,1})\u001b[39m\n\u001b[91m\u001b[0mClosest candidates are:\u001b[39m\n\u001b[91m\u001b[0m  df(::Any) at In[11]:2\u001b[39m",
     "output_type": "error",
     "traceback": [
      "\u001b[91mMethodError: no method matching (::var\"#df#1\"{typeof(softmax)})(::Int64, ::Array{Int64,1})\u001b[39m\n\u001b[91m\u001b[0mClosest candidates are:\u001b[39m\n\u001b[91m\u001b[0m  df(::Any) at In[11]:2\u001b[39m",
      "",
      "Stacktrace:",
      " [1] top-level scope at In[31]:1",
      " [2] include_string(::Function, ::Module, ::String, ::String) at ./loading.jl:1091"
     ]
    }
   ],
   "source": [
    "d(2, [1,2,3])"
   ]
  },
  {
   "cell_type": "code",
   "execution_count": 32,
   "id": "genuine-overall",
   "metadata": {},
   "outputs": [
    {
     "data": {
      "text/plain": [
       "ftest (generic function with 1 method)"
      ]
     },
     "execution_count": 32,
     "metadata": {},
     "output_type": "execute_result"
    }
   ],
   "source": [
    "function ftest(x)\n",
    "    return 2^x\n",
    "end"
   ]
  },
  {
   "cell_type": "code",
   "execution_count": 33,
   "id": "related-insertion",
   "metadata": {},
   "outputs": [
    {
     "data": {
      "text/plain": [
       "(::var\"#df#1\"{typeof(ftest)}) (generic function with 1 method)"
      ]
     },
     "execution_count": 33,
     "metadata": {},
     "output_type": "execute_result"
    }
   ],
   "source": [
    "d=D(ftest)"
   ]
  },
  {
   "cell_type": "code",
   "execution_count": 34,
   "id": "fiscal-register",
   "metadata": {},
   "outputs": [
    {
     "ename": "LoadError",
     "evalue": "\u001b[91mMethodError: no method matching Infinitesimal(::Int64, ::Float64)\u001b[39m\n\u001b[91m\u001b[0mClosest candidates are:\u001b[39m\n\u001b[91m\u001b[0m  Infinitesimal(::T, \u001b[91m::T\u001b[39m) where T<:Number at In[3]:2\u001b[39m\n\u001b[91m\u001b[0m  Infinitesimal(::T) where T<:Number at boot.jl:716\u001b[39m",
     "output_type": "error",
     "traceback": [
      "\u001b[91mMethodError: no method matching Infinitesimal(::Int64, ::Float64)\u001b[39m\n\u001b[91m\u001b[0mClosest candidates are:\u001b[39m\n\u001b[91m\u001b[0m  Infinitesimal(::T, \u001b[91m::T\u001b[39m) where T<:Number at In[3]:2\u001b[39m\n\u001b[91m\u001b[0m  Infinitesimal(::T) where T<:Number at boot.jl:716\u001b[39m",
      "",
      "Stacktrace:",
      " [1] ^(::Infinitesimal{Int64}, ::Infinitesimal{Int64}) at ./In[12]:20",
      " [2] ^(::Int64, ::Infinitesimal{Int64}) at ./promotion.jl:343",
      " [3] ftest(::Infinitesimal{Int64}) at ./In[32]:2",
      " [4] (::var\"#df#1\"{typeof(ftest)})(::Int64) at ./In[11]:4",
      " [5] top-level scope at In[34]:1",
      " [6] include_string(::Function, ::Module, ::String, ::String) at ./loading.jl:1091"
     ]
    }
   ],
   "source": [
    "d(2)"
   ]
  },
  {
   "cell_type": "code",
   "execution_count": 35,
   "id": "outdoor-gauge",
   "metadata": {},
   "outputs": [
    {
     "ename": "LoadError",
     "evalue": "\u001b[91mUndefVarError: x not defined\u001b[39m",
     "output_type": "error",
     "traceback": [
      "\u001b[91mUndefVarError: x not defined\u001b[39m",
      "",
      "Stacktrace:",
      " [1] top-level scope at In[35]:1",
      " [2] include_string(::Function, ::Module, ::String, ::String) at ./loading.jl:1091"
     ]
    }
   ],
   "source": [
    "typeof(x)"
   ]
  },
  {
   "cell_type": "code",
   "execution_count": 36,
   "id": "academic-digest",
   "metadata": {},
   "outputs": [
    {
     "data": {
      "text/plain": [
       "szmurlo (generic function with 1 method)"
      ]
     },
     "execution_count": 36,
     "metadata": {},
     "output_type": "execute_result"
    }
   ],
   "source": [
    "function szmurlo(x,x2,x3)\n",
    "    return sin(x)^4+cos(sin(x2))*x3\n",
    "end"
   ]
  },
  {
   "cell_type": "code",
   "execution_count": 37,
   "id": "thirty-adams",
   "metadata": {},
   "outputs": [
    {
     "data": {
      "text/plain": [
       "(::var\"#df#3\"{Int64,typeof(szmurlo)}) (generic function with 1 method)"
      ]
     },
     "execution_count": 37,
     "metadata": {},
     "output_type": "execute_result"
    }
   ],
   "source": [
    "d = D(1, szmurlo)"
   ]
  },
  {
   "cell_type": "code",
   "execution_count": 41,
   "id": "similar-gothic",
   "metadata": {},
   "outputs": [
    {
     "data": {
      "text/plain": [
       "1.287698674479646"
      ]
     },
     "execution_count": 41,
     "metadata": {},
     "output_type": "execute_result"
    }
   ],
   "source": [
    "d(1,1,1)"
   ]
  },
  {
   "cell_type": "code",
   "execution_count": null,
   "id": "ranking-effects",
   "metadata": {},
   "outputs": [],
   "source": []
  }
 ],
 "metadata": {
  "kernelspec": {
   "display_name": "Julia 1.5.3",
   "language": "julia",
   "name": "julia-1.5"
  },
  "language_info": {
   "file_extension": ".jl",
   "mimetype": "application/julia",
   "name": "julia",
   "version": "1.5.3"
  }
 },
 "nbformat": 4,
 "nbformat_minor": 5
}

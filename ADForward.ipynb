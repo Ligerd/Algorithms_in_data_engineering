{
 "cells": [
  {
   "cell_type": "code",
   "execution_count": 1,
   "id": "elegant-death",
   "metadata": {},
   "outputs": [],
   "source": [
    "import Base: iterate,max, exp, sin, cos, tan, +, ^, -, *, /, sqrt, convert, promote_rule, zero,isless\n",
    "using BenchmarkTools\n",
    "import Test: @test, @testset"
   ]
  },
  {
   "cell_type": "code",
   "execution_count": 2,
   "id": "median-welding",
   "metadata": {},
   "outputs": [
    {
     "data": {
      "text/plain": [
       "4"
      ]
     },
     "execution_count": 2,
     "metadata": {},
     "output_type": "execute_result"
    }
   ],
   "source": [
    "2^2"
   ]
  },
  {
   "cell_type": "markdown",
   "id": "processed-roots",
   "metadata": {},
   "source": [
    "# Define dual number"
   ]
  },
  {
   "cell_type": "code",
   "execution_count": 3,
   "id": "limited-calculator",
   "metadata": {},
   "outputs": [
    {
     "data": {
      "text/plain": [
       "Dual"
      ]
     },
     "execution_count": 3,
     "metadata": {},
     "output_type": "execute_result"
    }
   ],
   "source": [
    "struct Dual{T <: Number} <: Number\n",
    "    x::T\n",
    "    dx::T\n",
    "end\n",
    "Dual(n::Integer, d::Float64) = Dual(promote(n, d)...)\n",
    "Dual(n::Float64, d::Integer) = Dual(promote(n, d)...)"
   ]
  },
  {
   "cell_type": "code",
   "execution_count": 4,
   "id": "level-attachment",
   "metadata": {},
   "outputs": [
    {
     "data": {
      "text/plain": [
       "convert (generic function with 191 methods)"
      ]
     },
     "execution_count": 4,
     "metadata": {},
     "output_type": "execute_result"
    }
   ],
   "source": [
    "function convert(::Type{Dual{T}}, x::T) where {T}\n",
    "   Dual(x, zero(x)) \n",
    "end\n",
    "function convert(::Type{Dual{T}}, x::Dual{S}) where {S, T}\n",
    "    Dual(T(x.x), T(x.dx))\n",
    "end\n",
    "# This is needed according to an error before\n",
    "function convert(::Type{Dual{T}}, x::T) where {T <: Number}\n",
    "    Dual(x, zero(x))\n",
    "end\n",
    "function convert(::Type{Dual{T}}, x::S) where {T, S <: Number}\n",
    "    x_as_T = convert(T, x)\n",
    "    Dual(x_as_T, zero(x_as_T))\n",
    "end"
   ]
  },
  {
   "cell_type": "code",
   "execution_count": 5,
   "id": "dying-december",
   "metadata": {},
   "outputs": [
    {
     "data": {
      "text/plain": [
       "zero (generic function with 23 methods)"
      ]
     },
     "execution_count": 5,
     "metadata": {},
     "output_type": "execute_result"
    }
   ],
   "source": [
    "function zero(x::Dual{T}) where T\n",
    "    Dual(zero(x.x), zero(x.dx))\n",
    "end"
   ]
  },
  {
   "cell_type": "code",
   "execution_count": 6,
   "id": "wired-efficiency",
   "metadata": {},
   "outputs": [
    {
     "data": {
      "text/plain": [
       "promote_rule (generic function with 128 methods)"
      ]
     },
     "execution_count": 6,
     "metadata": {},
     "output_type": "execute_result"
    }
   ],
   "source": [
    "function promote_rule(::Type{Dual{T}}, ::Type{Dual{S}}) where {T,S}\n",
    "    Dual{promote_type(T,S)}\n",
    "end\n",
    "function promote_rule(::Type{Dual{T}}, ::Type{S}) where {T, S <: Number}\n",
    "    Dual{promote_type(T,S)}\n",
    "end\n",
    "function promote_rule(::Type{T}, ::Type{Dual{S}}) where {T <: Number, S}\n",
    "    Dual{promote_type(T,S)}\n",
    "end\n",
    "function promote_rule(::Type{S}, ::Type{Dual{T}}) where {S <: AbstractIrrational, T}\n",
    "    Dual{promote_type(S,T)}\n",
    "end"
   ]
  },
  {
   "cell_type": "code",
   "execution_count": null,
   "id": "identical-hartford",
   "metadata": {},
   "outputs": [],
   "source": []
  },
  {
   "cell_type": "code",
   "execution_count": 7,
   "id": "focused-portable",
   "metadata": {},
   "outputs": [
    {
     "data": {
      "text/plain": [
       "extract_derivative (generic function with 3 methods)"
      ]
     },
     "execution_count": 7,
     "metadata": {},
     "output_type": "execute_result"
    }
   ],
   "source": [
    "function extract_derivative(xdx::Dual)\n",
    "    return xdx.dx\n",
    "end\n",
    "function extract_derivative(xs::Array)\n",
    "    [extract_derivative(x) for x in xs]\n",
    "end\n",
    "function extract_derivative(xs::Tuple)\n",
    "    convert(Tuple, [extract_derivative(x) for x in xs])\n",
    "end"
   ]
  },
  {
   "cell_type": "markdown",
   "id": "posted-canon",
   "metadata": {},
   "source": [
    "# Differential operator"
   ]
  },
  {
   "cell_type": "code",
   "execution_count": 8,
   "id": "military-ecology",
   "metadata": {},
   "outputs": [
    {
     "data": {
      "text/plain": [
       "derivativeСalculation (generic function with 2 methods)"
      ]
     },
     "execution_count": 8,
     "metadata": {},
     "output_type": "execute_result"
    }
   ],
   "source": [
    "function derivativeСalculation(f, value)\n",
    "    function df(x)\n",
    "        xdx = Dual(x, one(x))\n",
    "        result = f(xdx)\n",
    "        return extract_derivative(result)\n",
    "    end\n",
    "    df(value)\n",
    "end\n",
    "function derivativeСalculation(f,i::Integer,values)\n",
    "    function df(valuesS)\n",
    "        xarr = [(j != i ? x : Dual(x, one(x))) for (j,x) in enumerate(valuesS)]\n",
    "        result = f(xarr...)\n",
    "        return extract_derivative(result)\n",
    "    end\n",
    "    df(values)\n",
    "end\n",
    "function derivativeСalculation(f,values)\n",
    "    function df(xs...)\n",
    "        xarr = [(j != i ? x : Dual(x, one(x))) for (j,x) in enumerate(xs)]\n",
    "        result = f(xarr...)\n",
    "        return extract_derivative(result)\n",
    "    end\n",
    "    df(values)\n",
    "end"
   ]
  },
  {
   "cell_type": "code",
   "execution_count": 9,
   "id": "emerging-motorcycle",
   "metadata": {},
   "outputs": [
    {
     "data": {
      "text/plain": [
       "^ (generic function with 68 methods)"
      ]
     },
     "execution_count": 9,
     "metadata": {},
     "output_type": "execute_result"
    }
   ],
   "source": [
    "function +(x::Dual, y::Dual)\n",
    "    Dual(x.x+y.x, x.dx+y.dx)\n",
    "end\n",
    "function -(x::Dual, y::Dual)\n",
    "    Dual(x.x-y.x, x.dx-y.dx)\n",
    "end\n",
    "function -(x::Dual)\n",
    "    Dual(-x.x, -x.dx)\n",
    "end\n",
    "function *(x::Dual, y::Dual)\n",
    "#      println(\"mnożenie\")\n",
    "     Dual(x.x*y.x, x.x*y.dx + x.dx*y.x)\n",
    "end\n",
    "function /(x::Dual, y::Dual)\n",
    "    Dual(x.x/y.x, x.dx/y.x - x.x*y.dx/(y.x*y.x))\n",
    "end\n",
    "function /(x::Array, y::Number)\n",
    "    return [i / y for i in x]\n",
    "end\n",
    "\n",
    "function ^(a::Dual, x::Dual)\n",
    "#     println(\"Daszek\")\n",
    "    Dual(a.x^x.x, a.dx * x.x * a.x ^ (x.x - 1) + x.dx * a.x ^ x.x * log(a.x)) \n",
    "end\n",
    "\n",
    "function ^(a::Dual, x::Integer)\n",
    "#     println(\"Daszek\")\n",
    "    Dual(a.x^x, a.dx * x * a.x ^ (x - 1)) \n",
    "end"
   ]
  },
  {
   "cell_type": "code",
   "execution_count": 10,
   "id": "progressive-comment",
   "metadata": {},
   "outputs": [
    {
     "data": {
      "text/plain": [
       "sqrt (generic function with 20 methods)"
      ]
     },
     "execution_count": 10,
     "metadata": {},
     "output_type": "execute_result"
    }
   ],
   "source": [
    "function sqrt(x::Dual)\n",
    "    Dual(sqrt(x.x), x.dx/(2*sqrt(x.x)))\n",
    "end"
   ]
  },
  {
   "cell_type": "code",
   "execution_count": 11,
   "id": "drawn-monte",
   "metadata": {},
   "outputs": [],
   "source": [
    "function exp(x::Dual)\n",
    "    return Dual(exp(x.x), exp(x.x)*x.dx)\n",
    "end\n",
    "function exp(xs::Array)\n",
    "    print(xs)\n",
    "    return [exp(x) for x in xs]\n",
    "end\n",
    "function sin(x::Dual)\n",
    "    return Dual(sin(x.x), cos(x.x)*x.dx)\n",
    "end\n",
    "function cos(x::Dual)\n",
    "    return Dual(cos(x.x), -sin(x.x)*x.dx)\n",
    "end\n",
    "\n",
    "function tan(x::Dual)\n",
    "    return Dual(tan(x.x),(1/cos(x.x)^2)*x.dx)\n",
    "end\n",
    "isless(x::Dual, y::Dual) = x.x < y.x;"
   ]
  },
  {
   "cell_type": "code",
   "execution_count": 12,
   "id": "eight-lounge",
   "metadata": {},
   "outputs": [
    {
     "data": {
      "text/plain": [
       "max (generic function with 14 methods)"
      ]
     },
     "execution_count": 12,
     "metadata": {},
     "output_type": "execute_result"
    }
   ],
   "source": [
    "function max(x::Dual)\n",
    "    return Dual(max(0,x.x), x.x < 0 ? 0 : 1 * x.dx)\n",
    "end"
   ]
  },
  {
   "cell_type": "code",
   "execution_count": 13,
   "id": "valued-problem",
   "metadata": {},
   "outputs": [
    {
     "data": {
      "text/plain": [
       "softmax (generic function with 1 method)"
      ]
     },
     "execution_count": 13,
     "metadata": {},
     "output_type": "execute_result"
    }
   ],
   "source": [
    "function softmax(vector::Array)\n",
    "    e = exp(vector)\n",
    "    return e / sum(e)\n",
    "#     z = [Dual(2.0, 1.0), Dual(21.0, 1.0)]\n",
    "#     s = zero(vector[1])\n",
    "#     for x in z\n",
    "#        s = s + x \n",
    "#     end    \n",
    "#     return e / s\n",
    "end"
   ]
  },
  {
   "cell_type": "code",
   "execution_count": 14,
   "id": "digital-thinking",
   "metadata": {},
   "outputs": [
    {
     "data": {
      "text/plain": [
       "iterate (generic function with 228 methods)"
      ]
     },
     "execution_count": 14,
     "metadata": {},
     "output_type": "execute_result"
    }
   ],
   "source": [
    "function iterate(iter::Vector{Dual}, state=1)\n",
    "#     println(iter, \"Test22232323\")\n",
    "    if state > length(iter)\n",
    "        return nothing\n",
    "    end\n",
    "    return (iter[state],state+1)\n",
    "end"
   ]
  },
  {
   "cell_type": "code",
   "execution_count": null,
   "id": "fleet-rings",
   "metadata": {},
   "outputs": [],
   "source": []
  },
  {
   "cell_type": "code",
   "execution_count": 15,
   "id": "golden-hamilton",
   "metadata": {},
   "outputs": [
    {
     "data": {
      "text/plain": [
       "jacobian (generic function with 1 method)"
      ]
     },
     "execution_count": 15,
     "metadata": {},
     "output_type": "execute_result"
    }
   ],
   "source": [
    "J = function jacobian(f, args::Vector{T}) where {T <:Number}\n",
    "    jacobian_columns = Matrix{T}[]\n",
    "    \n",
    "    for i=1:length(args)\n",
    "        x = Dual{T}[]\n",
    "        for j=1:length(args)\n",
    "            seed = (i == j)\n",
    "            push!(x, seed ?\n",
    "                Dual(args[j], one(args[j])) :\n",
    "                Dual(args[j],zero(args[j])) )\n",
    "        end\n",
    "        temp  = [f(x)...]\n",
    "        column = extract_derivative.([f(x)...])\n",
    "        push!(jacobian_columns, column[:,:])\n",
    "    end\n",
    "    hcat(jacobian_columns...)\n",
    "end"
   ]
  },
  {
   "cell_type": "code",
   "execution_count": 16,
   "id": "accessory-sperm",
   "metadata": {
    "scrolled": true
   },
   "outputs": [
    {
     "name": "stdout",
     "output_type": "stream",
     "text": [
      "Dual{Float64}[Dual{Float64}(1.0, 1.0), Dual{Float64}(2.0, 0.0)]Dual{Float64}[Dual{Float64}(1.0, 1.0), Dual{Float64}(2.0, 0.0)]Dual{Float64}[Dual{Float64}(1.0, 0.0), Dual{Float64}(2.0, 1.0)]Dual{Float64}[Dual{Float64}(1.0, 0.0), Dual{Float64}(2.0, 1.0)]"
     ]
    },
    {
     "data": {
      "text/plain": [
       "2×2 Matrix{Float64}:\n",
       "  0.196612  -0.196612\n",
       " -0.196612   0.196612"
      ]
     },
     "execution_count": 16,
     "metadata": {},
     "output_type": "execute_result"
    }
   ],
   "source": [
    "f(x::Vector) = softmax(x)\n",
    "J(softmax, [1., 2.])"
   ]
  },
  {
   "cell_type": "code",
   "execution_count": 17,
   "id": "governmental-safety",
   "metadata": {},
   "outputs": [
    {
     "data": {
      "text/plain": [
       "5×3 Matrix{Float64}:\n",
       " 1.0        0.0         0.0\n",
       " 0.0        0.0        -0.555556\n",
       " 0.0       16.0        -2.0\n",
       " 1.62091    0.0         0.841471\n",
       " 0.377539  -0.0755078  -0.0755078"
      ]
     },
     "execution_count": 17,
     "metadata": {},
     "output_type": "execute_result"
    }
   ],
   "source": [
    "f(x::Vector) = [x[1], 5/x[3], 4x[2]^2-2x[3], x[3]*sin(x[1]), exp(x[1])/sum(x)]\n",
    "J(f, [1, 2., 3])"
   ]
  },
  {
   "cell_type": "code",
   "execution_count": 18,
   "id": "careful-modification",
   "metadata": {},
   "outputs": [
    {
     "data": {
      "text/plain": [
       "linear (generic function with 1 method)"
      ]
     },
     "execution_count": 18,
     "metadata": {},
     "output_type": "execute_result"
    }
   ],
   "source": [
    "function linear(x)\n",
    "    return x^2\n",
    "end\n"
   ]
  },
  {
   "cell_type": "code",
   "execution_count": 19,
   "id": "every-verification",
   "metadata": {},
   "outputs": [
    {
     "data": {
      "text/plain": [
       "24"
      ]
     },
     "execution_count": 19,
     "metadata": {},
     "output_type": "execute_result"
    }
   ],
   "source": [
    "derivativeСalculation(linear,1,[12])"
   ]
  },
  {
   "cell_type": "code",
   "execution_count": 20,
   "id": "catholic-judges",
   "metadata": {},
   "outputs": [
    {
     "name": "stdout",
     "output_type": "stream",
     "text": [
      "[1, 2, 3]"
     ]
    },
    {
     "data": {
      "text/plain": [
       "3-element Vector{Float64}:\n",
       " 0.09003057317038046\n",
       " 0.24472847105479767\n",
       " 0.6652409557748219"
      ]
     },
     "execution_count": 20,
     "metadata": {},
     "output_type": "execute_result"
    }
   ],
   "source": [
    "softmax([1,2,3])"
   ]
  },
  {
   "cell_type": "code",
   "execution_count": 21,
   "id": "registered-float",
   "metadata": {},
   "outputs": [
    {
     "data": {
      "text/plain": [
       "relu (generic function with 1 method)"
      ]
     },
     "execution_count": 21,
     "metadata": {},
     "output_type": "execute_result"
    }
   ],
   "source": [
    "function relu(x)\n",
    "    return max(0,x)\n",
    "end"
   ]
  },
  {
   "cell_type": "code",
   "execution_count": 22,
   "id": "removed-consumption",
   "metadata": {},
   "outputs": [
    {
     "data": {
      "text/plain": [
       "rosenbrock (generic function with 1 method)"
      ]
     },
     "execution_count": 22,
     "metadata": {},
     "output_type": "execute_result"
    }
   ],
   "source": [
    "function rosenbrock(x::Vector)\n",
    "    value = zero(x[1])\n",
    "    for i=2:length(x)\n",
    "        value += (1-x[i-1])^2 + 100*(x[i] - x[i-1]^2)^2\n",
    "    end\n",
    "    value\n",
    "end\n"
   ]
  },
  {
   "cell_type": "code",
   "execution_count": 23,
   "id": "false-motivation",
   "metadata": {
    "scrolled": false
   },
   "outputs": [
    {
     "data": {
      "text/plain": [
       "BenchmarkTools.Trial: \n",
       "  memory estimate:  32.11 MiB\n",
       "  allocs estimate:  15018\n",
       "  --------------\n",
       "  minimum time:     43.212 ms (0.00% GC)\n",
       "  median time:      44.108 ms (1.45% GC)\n",
       "  mean time:        44.209 ms (1.13% GC)\n",
       "  maximum time:     47.521 ms (0.00% GC)\n",
       "  --------------\n",
       "  samples:          114\n",
       "  evals/sample:     1"
      ]
     },
     "execution_count": 23,
     "metadata": {},
     "output_type": "execute_result"
    }
   ],
   "source": [
    "# d = derivativeСalculation(rosenbrock,[1.0,2.0,3.0])\n",
    "@benchmark J(rosenbrock, [rand(1000,1)...])"
   ]
  },
  {
   "cell_type": "code",
   "execution_count": 24,
   "id": "composed-radio",
   "metadata": {
    "scrolled": false
   },
   "outputs": [
    {
     "data": {
      "text/plain": [
       "3-element Vector{Float64}:\n",
       " 0.45729765595003324\n",
       " 0.9551764265774303\n",
       " 0.5506191695086682"
      ]
     },
     "execution_count": 24,
     "metadata": {},
     "output_type": "execute_result"
    }
   ],
   "source": [
    "[rand(3,1)...]"
   ]
  },
  {
   "cell_type": "code",
   "execution_count": 25,
   "id": "christian-classics",
   "metadata": {},
   "outputs": [
    {
     "name": "stdout",
     "output_type": "stream",
     "text": [
      "0.6475895176869497"
     ]
    }
   ],
   "source": [
    "s = rand(3,1)\n",
    "print(s[1][1])"
   ]
  },
  {
   "cell_type": "code",
   "execution_count": 26,
   "id": "orange-jefferson",
   "metadata": {},
   "outputs": [
    {
     "data": {
      "text/plain": [
       "1×7 Matrix{Float64}:\n",
       " -400.0  1002.0  5804.0  16606.0  35808.0  65810.0  -5800.0"
      ]
     },
     "execution_count": 26,
     "metadata": {},
     "output_type": "execute_result"
    }
   ],
   "source": [
    "J(rosenbrock, [1., 2., 3, 4, 5,6 ,7])"
   ]
  },
  {
   "cell_type": "code",
   "execution_count": 27,
   "id": "fabulous-river",
   "metadata": {},
   "outputs": [
    {
     "data": {
      "text/plain": [
       "100"
      ]
     },
     "execution_count": 27,
     "metadata": {},
     "output_type": "execute_result"
    }
   ],
   "source": [
    "rosenbrock([1,2])"
   ]
  },
  {
   "cell_type": "code",
   "execution_count": 28,
   "id": "efficient-advancement",
   "metadata": {},
   "outputs": [
    {
     "data": {
      "text/plain": [
       "rosenbrock (generic function with 2 methods)"
      ]
     },
     "execution_count": 28,
     "metadata": {},
     "output_type": "execute_result"
    }
   ],
   "source": [
    "function rosenbrock(x)\n",
    "    value = zero(x[1])\n",
    "#     value = (1-a)^2 + 100*(x - a^2)^2\n",
    "    for i=2:length(x)\n",
    "        value += (1-x[i-1])^2 + 100*(x[i] - x[i-1]^2)^3\n",
    "    end\n",
    "    value\n",
    "end"
   ]
  },
  {
   "cell_type": "code",
   "execution_count": 29,
   "id": "european-triumph",
   "metadata": {},
   "outputs": [
    {
     "ename": "LoadError",
     "evalue": "MethodError: no method matching rosenbrock(::Dual{Int64}, ::Int64, ::Int64)\n\u001b[0mClosest candidates are:\n\u001b[0m  rosenbrock(::Any) at In[28]:1",
     "output_type": "error",
     "traceback": [
      "MethodError: no method matching rosenbrock(::Dual{Int64}, ::Int64, ::Int64)\n\u001b[0mClosest candidates are:\n\u001b[0m  rosenbrock(::Any) at In[28]:1",
      "",
      "Stacktrace:",
      " [1] (::var\"#df#3\"{typeof(rosenbrock), Int64})(valuesS::Vector{Int64})",
      "   @ Main ./In[8]:12",
      " [2] derivativeСalculation(f::Function, i::Int64, values::Vector{Int64})",
      "   @ Main ./In[8]:15",
      " [3] top-level scope",
      "   @ In[29]:1",
      " [4] eval",
      "   @ ./boot.jl:360 [inlined]",
      " [5] include_string(mapexpr::typeof(REPL.softscope), mod::Module, code::String, filename::String)",
      "   @ Base ./loading.jl:1094"
     ]
    }
   ],
   "source": [
    "derivativeСalculation(rosenbrock,1,[1,2,3])"
   ]
  },
  {
   "cell_type": "code",
   "execution_count": 30,
   "id": "recreational-study",
   "metadata": {},
   "outputs": [
    {
     "data": {
      "text/plain": [
       "-2.185039863261519"
      ]
     },
     "execution_count": 30,
     "metadata": {},
     "output_type": "execute_result"
    }
   ],
   "source": [
    "tan(2)"
   ]
  },
  {
   "cell_type": "code",
   "execution_count": 31,
   "id": "otherwise-things",
   "metadata": {},
   "outputs": [
    {
     "data": {
      "text/plain": [
       "BenchmarkTools.Trial: \n",
       "  memory estimate:  5.27 KiB\n",
       "  allocs estimate:  79\n",
       "  --------------\n",
       "  minimum time:     3.933 μs (0.00% GC)\n",
       "  median time:      4.041 μs (0.00% GC)\n",
       "  mean time:        4.394 μs (5.21% GC)\n",
       "  maximum time:     289.774 μs (97.92% GC)\n",
       "  --------------\n",
       "  samples:          10000\n",
       "  evals/sample:     8"
      ]
     },
     "execution_count": 31,
     "metadata": {},
     "output_type": "execute_result"
    }
   ],
   "source": [
    "f(x::Vector) = [x[1], 5/x[3], 4x[2]^2-2x[3], x[3]*sin(x[1]), exp(x[1])/sum(x), x[1]^2 - x[2]^3 - 88]\n",
    "z = @benchmark J(f,[rand(3,1)...]) "
   ]
  },
  {
   "cell_type": "code",
   "execution_count": 32,
   "id": "convenient-migration",
   "metadata": {},
   "outputs": [
    {
     "data": {
      "text/plain": [
       "6×3 Matrix{Float64}:\n",
       "     1.0          0.0          0.0\n",
       "     0.0          0.0         -2.09133e-6\n",
       "     0.0         17.6         -2.0\n",
       " -1501.32         0.0          0.239249\n",
       "     0.0117077   -7.55172e-6  -7.55172e-6\n",
       "     5.8        -14.52         0.0"
      ]
     },
     "execution_count": 32,
     "metadata": {},
     "output_type": "execute_result"
    }
   ],
   "source": [
    "J(f, [2.9,2.2,1546.23])"
   ]
  },
  {
   "cell_type": "code",
   "execution_count": 33,
   "id": "returning-ethiopia",
   "metadata": {},
   "outputs": [
    {
     "name": "stdout",
     "output_type": "stream",
     "text": [
      "BenchmarkTools.Parameters(5.0, 10000, 8, 0.0, true, false, 0.05, 0.01)\n"
     ]
    }
   ],
   "source": [
    "println(z.params)\n"
   ]
  },
  {
   "cell_type": "code",
   "execution_count": 34,
   "id": "monetary-vermont",
   "metadata": {},
   "outputs": [
    {
     "name": "stdout",
     "output_type": "stream",
     "text": [
      "BenchmarkTools.Trial\n",
      "  params: BenchmarkTools.Parameters\n",
      "    seconds: Float64 5.0\n",
      "    samples: Int64 10000\n",
      "    evals: Int64 8\n",
      "    overhead: Float64 0.0\n",
      "    gctrial: Bool true\n",
      "    gcsample: Bool false\n",
      "    time_tolerance: Float64 0.05\n",
      "    memory_tolerance: Float64 0.01\n",
      "  times: Array{Float64}((10000,)) [3933.375, 3935.0, 3937.875, 3942.875, 3943.125, 3944.0, 3944.5, 3944.875, 3946.625, 3946.625  …  11986.75, 247868.625, 249471.25, 250823.5, 253074.125, 253084.125, 256742.25, 260741.875, 271286.25, 289774.0]\n",
      "  gctimes: Array{Float64}((10000,)) [0.0, 0.0, 0.0, 0.0, 0.0, 0.0, 0.0, 0.0, 0.0, 0.0  …  0.0, 243103.5, 244699.125, 245910.625, 248343.75, 248148.125, 251971.75, 255965.125, 266294.125, 283754.0]\n",
      "  memory: Int64 5392\n",
      "  allocs: Int64 79\n"
     ]
    },
    {
     "data": {
      "text/plain": [
       "3-element Vector{Float64}:\n",
       " 0.05492853965120337\n",
       " 0.09530128421030515\n",
       " 0.15436688597484238"
      ]
     },
     "execution_count": 34,
     "metadata": {},
     "output_type": "execute_result"
    }
   ],
   "source": [
    "dump(z)\n",
    "rand(3)"
   ]
  },
  {
   "cell_type": "markdown",
   "id": "92f7e7e5",
   "metadata": {},
   "source": [
    "## Definicja funkcji testowych"
   ]
  },
  {
   "cell_type": "code",
   "execution_count": 35,
   "id": "electrical-watson",
   "metadata": {},
   "outputs": [
    {
     "data": {
      "text/plain": [
       "viennet (generic function with 1 method)"
      ]
     },
     "execution_count": 35,
     "metadata": {},
     "output_type": "execute_result"
    }
   ],
   "source": [
    "function styblinskiTang(x)\n",
    "    value = zero(x[1])\n",
    "    for i=1:length(x)\n",
    "        value += x[i]^4 - 16 * x[i]^2 + 5 * x[i]\n",
    "    end\n",
    "    value / 2\n",
    "end\n",
    "\n",
    "function rosenbrock(x)\n",
    "    value = zero(x[1])\n",
    "    for i=2:length(x)\n",
    "        value += (1-x[i-1])^2 + 100*(x[i] - x[i-1]^2)^2\n",
    "    end\n",
    "    value\n",
    "end\n",
    "\n",
    "function KarolikJeleniewiczFunction(x)\n",
    "    f1 = 222.83*(x[2]^8+x[3]^-3)^2 + sin(x[5]^18) - cos(x[1])/exp(x[3])\n",
    "    f2 = x[1] - 5/x[2] + 4*x[3]^2-2*x[4] / (x[3]*sin(x[5])^2 + 1)\n",
    "    f3 = sqrt(exp(x[2])^2) + x[3]^x[2] - x[4]\n",
    "    [f1,f2,f3]\n",
    "end\n",
    "\n",
    "function viennet(x)\n",
    "    f1 = 0.5*(x[1]^2+x[2]^2) + sin(x[1]^2+ x[2]^2)\n",
    "    f2 = (x[1]-2*x[2]+4)^2/8 + (x[1]-x[2]+1)^2/27 + 15\n",
    "    f3 = 1/(x[1]^2+x[2]^2+1) - 1.1* exp(-(x[1]^2+x[2]^2))\n",
    "    [f1,f2,f3]\n",
    "end\n"
   ]
  },
  {
   "cell_type": "markdown",
   "id": "01c98fd9",
   "metadata": {},
   "source": [
    "## Testy funkcji weluzmiennych "
   ]
  },
  {
   "cell_type": "markdown",
   "id": "21b1e419",
   "metadata": {},
   "source": [
    "### Testowanie funkcji Rosenbrock"
   ]
  },
  {
   "cell_type": "code",
   "execution_count": 36,
   "id": "ca8f756b",
   "metadata": {},
   "outputs": [
    {
     "data": {
      "text/plain": [
       "1×4 Matrix{Float64}:\n",
       " 54895.4  -31012.4  1.43226e7  -209308.0"
      ]
     },
     "execution_count": 36,
     "metadata": {},
     "output_type": "execute_result"
    }
   ],
   "source": [
    "J(rosenbrock, [5.3,2.2,34.2,123.1])"
   ]
  },
  {
   "cell_type": "code",
   "execution_count": 37,
   "id": "8a2582e8",
   "metadata": {},
   "outputs": [
    {
     "data": {
      "text/plain": [
       "BenchmarkTools.Trial: \n",
       "  memory estimate:  4.11 KiB\n",
       "  allocs estimate:  48\n",
       "  --------------\n",
       "  minimum time:     2.834 μs (0.00% GC)\n",
       "  median time:      2.984 μs (0.00% GC)\n",
       "  mean time:        3.316 μs (7.99% GC)\n",
       "  maximum time:     378.986 μs (98.84% GC)\n",
       "  --------------\n",
       "  samples:          10000\n",
       "  evals/sample:     9"
      ]
     },
     "execution_count": 37,
     "metadata": {},
     "output_type": "execute_result"
    }
   ],
   "source": [
    "@benchmark J(rosenbrock, [rand(5,1)...])"
   ]
  },
  {
   "cell_type": "code",
   "execution_count": 38,
   "id": "69563cd8",
   "metadata": {},
   "outputs": [
    {
     "data": {
      "text/plain": [
       "BenchmarkTools.Trial: \n",
       "  memory estimate:  130.81 KiB\n",
       "  allocs estimate:  561\n",
       "  --------------\n",
       "  minimum time:     119.226 μs (0.00% GC)\n",
       "  median time:      120.441 μs (0.00% GC)\n",
       "  mean time:        129.016 μs (3.42% GC)\n",
       "  maximum time:     2.038 ms (93.35% GC)\n",
       "  --------------\n",
       "  samples:          10000\n",
       "  evals/sample:     1"
      ]
     },
     "execution_count": 38,
     "metadata": {},
     "output_type": "execute_result"
    }
   ],
   "source": [
    "@benchmark J(rosenbrock, [rand(50,1)...])"
   ]
  },
  {
   "cell_type": "code",
   "execution_count": 39,
   "id": "1785059f",
   "metadata": {},
   "outputs": [
    {
     "data": {
      "text/plain": [
       "BenchmarkTools.Trial: \n",
       "  memory estimate:  467.36 KiB\n",
       "  allocs estimate:  1212\n",
       "  --------------\n",
       "  minimum time:     461.219 μs (0.00% GC)\n",
       "  median time:      469.946 μs (0.00% GC)\n",
       "  mean time:        493.868 μs (3.13% GC)\n",
       "  maximum time:     3.298 ms (80.00% GC)\n",
       "  --------------\n",
       "  samples:          10000\n",
       "  evals/sample:     1"
      ]
     },
     "execution_count": 39,
     "metadata": {},
     "output_type": "execute_result"
    }
   ],
   "source": [
    "@benchmark J(rosenbrock, [rand(100,1)...])"
   ]
  },
  {
   "cell_type": "code",
   "execution_count": 40,
   "id": "d0ea9d02",
   "metadata": {},
   "outputs": [
    {
     "data": {
      "text/plain": [
       "BenchmarkTools.Trial: \n",
       "  memory estimate:  8.20 MiB\n",
       "  allocs estimate:  7014\n",
       "  --------------\n",
       "  minimum time:     10.926 ms (0.00% GC)\n",
       "  median time:      11.055 ms (0.00% GC)\n",
       "  mean time:        11.237 ms (1.62% GC)\n",
       "  maximum time:     12.861 ms (8.16% GC)\n",
       "  --------------\n",
       "  samples:          445\n",
       "  evals/sample:     1"
      ]
     },
     "execution_count": 40,
     "metadata": {},
     "output_type": "execute_result"
    }
   ],
   "source": [
    "@benchmark J(rosenbrock, [rand(500,1)...])"
   ]
  },
  {
   "cell_type": "code",
   "execution_count": 41,
   "id": "d134959f",
   "metadata": {},
   "outputs": [
    {
     "data": {
      "text/plain": [
       "BenchmarkTools.Trial: \n",
       "  memory estimate:  32.11 MiB\n",
       "  allocs estimate:  15018\n",
       "  --------------\n",
       "  minimum time:     43.243 ms (0.00% GC)\n",
       "  median time:      44.255 ms (1.64% GC)\n",
       "  mean time:        44.794 ms (1.34% GC)\n",
       "  maximum time:     48.740 ms (2.20% GC)\n",
       "  --------------\n",
       "  samples:          112\n",
       "  evals/sample:     1"
      ]
     },
     "execution_count": 41,
     "metadata": {},
     "output_type": "execute_result"
    }
   ],
   "source": [
    "@benchmark J(rosenbrock, [rand(1000,1)...])"
   ]
  },
  {
   "cell_type": "code",
   "execution_count": 42,
   "id": "fe98d13f",
   "metadata": {},
   "outputs": [
    {
     "data": {
      "text/plain": [
       "BenchmarkTools.Trial: \n",
       "  memory estimate:  1.23 GiB\n",
       "  allocs estimate:  90024\n",
       "  --------------\n",
       "  minimum time:     1.098 s (1.26% GC)\n",
       "  median time:      1.107 s (1.42% GC)\n",
       "  mean time:        1.115 s (1.44% GC)\n",
       "  maximum time:     1.141 s (1.59% GC)\n",
       "  --------------\n",
       "  samples:          5\n",
       "  evals/sample:     1"
      ]
     },
     "execution_count": 42,
     "metadata": {},
     "output_type": "execute_result"
    }
   ],
   "source": [
    "@benchmark J(rosenbrock, [rand(5000,1)...])"
   ]
  },
  {
   "cell_type": "code",
   "execution_count": 43,
   "id": "f8edf685",
   "metadata": {},
   "outputs": [
    {
     "data": {
      "text/plain": [
       "BenchmarkTools.Trial: \n",
       "  memory estimate:  4.89 GiB\n",
       "  allocs estimate:  190025\n",
       "  --------------\n",
       "  minimum time:     4.785 s (1.64% GC)\n",
       "  median time:      4.808 s (1.66% GC)\n",
       "  mean time:        4.808 s (1.66% GC)\n",
       "  maximum time:     4.831 s (1.67% GC)\n",
       "  --------------\n",
       "  samples:          2\n",
       "  evals/sample:     1"
      ]
     },
     "execution_count": 43,
     "metadata": {},
     "output_type": "execute_result"
    }
   ],
   "source": [
    "@benchmark J(rosenbrock, [rand(10000,1)...])"
   ]
  },
  {
   "cell_type": "markdown",
   "id": "f22e8b30",
   "metadata": {},
   "source": [
    "### Testowanie funkcji styblinskiTang"
   ]
  },
  {
   "cell_type": "code",
   "execution_count": 44,
   "id": "83b2acac",
   "metadata": {},
   "outputs": [
    {
     "data": {
      "text/plain": [
       "1×4 Matrix{Float64}:\n",
       " 215.454  -11.404  79458.7  3.72885e6"
      ]
     },
     "execution_count": 44,
     "metadata": {},
     "output_type": "execute_result"
    }
   ],
   "source": [
    "J(styblinskiTang, [5.3,2.2,34.2,123.1])"
   ]
  },
  {
   "cell_type": "code",
   "execution_count": 45,
   "id": "ca9b7853",
   "metadata": {},
   "outputs": [
    {
     "data": {
      "text/plain": [
       "BenchmarkTools.Trial: \n",
       "  memory estimate:  4.11 KiB\n",
       "  allocs estimate:  48\n",
       "  --------------\n",
       "  minimum time:     2.905 μs (0.00% GC)\n",
       "  median time:      2.993 μs (0.00% GC)\n",
       "  mean time:        3.472 μs (8.94% GC)\n",
       "  maximum time:     499.458 μs (98.90% GC)\n",
       "  --------------\n",
       "  samples:          10000\n",
       "  evals/sample:     9"
      ]
     },
     "execution_count": 45,
     "metadata": {},
     "output_type": "execute_result"
    }
   ],
   "source": [
    "@benchmark J(styblinskiTang, [rand(5,1)...])"
   ]
  },
  {
   "cell_type": "code",
   "execution_count": 46,
   "id": "e727c6aa",
   "metadata": {},
   "outputs": [
    {
     "data": {
      "text/plain": [
       "BenchmarkTools.Trial: \n",
       "  memory estimate:  130.81 KiB\n",
       "  allocs estimate:  561\n",
       "  --------------\n",
       "  minimum time:     85.789 μs (0.00% GC)\n",
       "  median time:      90.906 μs (0.00% GC)\n",
       "  mean time:        96.727 μs (4.83% GC)\n",
       "  maximum time:     2.191 ms (95.48% GC)\n",
       "  --------------\n",
       "  samples:          10000\n",
       "  evals/sample:     1"
      ]
     },
     "execution_count": 46,
     "metadata": {},
     "output_type": "execute_result"
    }
   ],
   "source": [
    "@benchmark J(styblinskiTang, [rand(50,1)...])"
   ]
  },
  {
   "cell_type": "code",
   "execution_count": 47,
   "id": "bec4c6c1",
   "metadata": {},
   "outputs": [
    {
     "data": {
      "text/plain": [
       "BenchmarkTools.Trial: \n",
       "  memory estimate:  467.36 KiB\n",
       "  allocs estimate:  1212\n",
       "  --------------\n",
       "  minimum time:     332.996 μs (0.00% GC)\n",
       "  median time:      339.232 μs (0.00% GC)\n",
       "  mean time:        358.546 μs (4.26% GC)\n",
       "  maximum time:     2.302 ms (79.92% GC)\n",
       "  --------------\n",
       "  samples:          10000\n",
       "  evals/sample:     1"
      ]
     },
     "execution_count": 47,
     "metadata": {},
     "output_type": "execute_result"
    }
   ],
   "source": [
    "@benchmark J(styblinskiTang, [rand(100,1)...])"
   ]
  },
  {
   "cell_type": "code",
   "execution_count": 48,
   "id": "e19a0938",
   "metadata": {},
   "outputs": [
    {
     "data": {
      "text/plain": [
       "BenchmarkTools.Trial: \n",
       "  memory estimate:  8.20 MiB\n",
       "  allocs estimate:  7014\n",
       "  --------------\n",
       "  minimum time:     7.328 ms (0.00% GC)\n",
       "  median time:      7.626 ms (0.00% GC)\n",
       "  mean time:        7.804 ms (2.45% GC)\n",
       "  maximum time:     10.570 ms (12.90% GC)\n",
       "  --------------\n",
       "  samples:          641\n",
       "  evals/sample:     1"
      ]
     },
     "execution_count": 48,
     "metadata": {},
     "output_type": "execute_result"
    }
   ],
   "source": [
    "@benchmark J(styblinskiTang, [rand(500,1)...])"
   ]
  },
  {
   "cell_type": "code",
   "execution_count": 49,
   "id": "77584e9e",
   "metadata": {},
   "outputs": [
    {
     "data": {
      "text/plain": [
       "BenchmarkTools.Trial: \n",
       "  memory estimate:  32.11 MiB\n",
       "  allocs estimate:  15018\n",
       "  --------------\n",
       "  minimum time:     28.744 ms (0.00% GC)\n",
       "  median time:      29.704 ms (2.16% GC)\n",
       "  mean time:        29.963 ms (1.74% GC)\n",
       "  maximum time:     33.625 ms (3.84% GC)\n",
       "  --------------\n",
       "  samples:          167\n",
       "  evals/sample:     1"
      ]
     },
     "execution_count": 49,
     "metadata": {},
     "output_type": "execute_result"
    }
   ],
   "source": [
    "@benchmark J(styblinskiTang, [rand(1000,1)...])"
   ]
  },
  {
   "cell_type": "code",
   "execution_count": 50,
   "id": "48bffb6d",
   "metadata": {},
   "outputs": [
    {
     "data": {
      "text/plain": [
       "BenchmarkTools.Trial: \n",
       "  memory estimate:  1.23 GiB\n",
       "  allocs estimate:  90024\n",
       "  --------------\n",
       "  minimum time:     737.323 ms (1.85% GC)\n",
       "  median time:      764.241 ms (2.10% GC)\n",
       "  mean time:        760.267 ms (2.09% GC)\n",
       "  maximum time:     787.906 ms (2.37% GC)\n",
       "  --------------\n",
       "  samples:          7\n",
       "  evals/sample:     1"
      ]
     },
     "execution_count": 50,
     "metadata": {},
     "output_type": "execute_result"
    }
   ],
   "source": [
    "@benchmark J(styblinskiTang, [rand(5000,1)...])"
   ]
  },
  {
   "cell_type": "code",
   "execution_count": 51,
   "id": "2ba9d855",
   "metadata": {},
   "outputs": [
    {
     "data": {
      "text/plain": [
       "BenchmarkTools.Trial: \n",
       "  memory estimate:  4.89 GiB\n",
       "  allocs estimate:  190025\n",
       "  --------------\n",
       "  minimum time:     3.107 s (2.39% GC)\n",
       "  median time:      3.124 s (2.36% GC)\n",
       "  mean time:        3.124 s (2.36% GC)\n",
       "  maximum time:     3.142 s (2.32% GC)\n",
       "  --------------\n",
       "  samples:          2\n",
       "  evals/sample:     1"
      ]
     },
     "execution_count": 51,
     "metadata": {},
     "output_type": "execute_result"
    }
   ],
   "source": [
    "@benchmark J(styblinskiTang, [rand(10000,1)...])"
   ]
  },
  {
   "cell_type": "markdown",
   "id": "14905e03",
   "metadata": {},
   "source": [
    "## Testy funkcji wektorowych"
   ]
  },
  {
   "cell_type": "code",
   "execution_count": 42,
   "id": "e83a6ae5",
   "metadata": {},
   "outputs": [
    {
     "data": {
      "text/plain": [
       "BenchmarkTools.Trial: \n",
       "  memory estimate:  2.72 KiB\n",
       "  allocs estimate:  41\n",
       "  --------------\n",
       "  minimum time:     2.290 μs (0.00% GC)\n",
       "  median time:      2.385 μs (0.00% GC)\n",
       "  mean time:        2.602 μs (5.19% GC)\n",
       "  maximum time:     294.911 μs (98.73% GC)\n",
       "  --------------\n",
       "  samples:          10000\n",
       "  evals/sample:     9"
      ]
     },
     "execution_count": 42,
     "metadata": {},
     "output_type": "execute_result"
    }
   ],
   "source": [
    "@benchmark J(viennet, [rand(2,1)...])"
   ]
  },
  {
   "cell_type": "code",
   "execution_count": 61,
   "id": "0a5ac99b",
   "metadata": {},
   "outputs": [
    {
     "data": {
      "text/plain": [
       "BenchmarkTools.Trial: \n",
       "  memory estimate:  7.16 KiB\n",
       "  allocs estimate:  103\n",
       "  --------------\n",
       "  minimum time:     10.838 μs (0.00% GC)\n",
       "  median time:      11.674 μs (0.00% GC)\n",
       "  mean time:        12.357 μs (2.18% GC)\n",
       "  maximum time:     2.709 ms (99.32% GC)\n",
       "  --------------\n",
       "  samples:          10000\n",
       "  evals/sample:     1"
      ]
     },
     "execution_count": 61,
     "metadata": {},
     "output_type": "execute_result"
    }
   ],
   "source": [
    "@benchmark J(KarolikJeleniewiczFunction, [rand(5,1)...])"
   ]
  },
  {
   "cell_type": "code",
   "execution_count": null,
   "id": "11c0b92d",
   "metadata": {},
   "outputs": [],
   "source": []
  },
  {
   "cell_type": "markdown",
   "id": "6d9e2e82",
   "metadata": {},
   "source": [
    "# Testowanie"
   ]
  },
  {
   "cell_type": "code",
   "execution_count": 37,
   "id": "purple-dublin",
   "metadata": {},
   "outputs": [
    {
     "data": {
      "text/plain": [
       "3×5 Matrix{Float64}:\n",
       " 0.0265096   4.88099e8  -31325.0      0.0           1.77884e5\n",
       " 1.0         1.03306      6878.31    -0.647997  -7042.76\n",
       " 0.0        13.493           5.6667  -1.0           0.0"
      ]
     },
     "execution_count": 37,
     "metadata": {},
     "output_type": "execute_result"
    }
   ],
   "source": [
    "J(KarolikJeleniewiczFunction, [2.9,2.2,2.2,34456.5,1.8])"
   ]
  },
  {
   "cell_type": "code",
   "execution_count": null,
   "id": "18f06c30",
   "metadata": {},
   "outputs": [],
   "source": []
  },
  {
   "cell_type": "code",
   "execution_count": 38,
   "id": "advised-argument",
   "metadata": {},
   "outputs": [
    {
     "data": {
      "text/plain": [
       "Dict{String, Vector{Any}} with 2 entries:\n",
       "  \"viennet\"                    => [viennet, 2]\n",
       "  \"KarolikJeleniewiczFunction\" => [KarolikJeleniewiczFunction, 5]"
      ]
     },
     "execution_count": 38,
     "metadata": {},
     "output_type": "execute_result"
    }
   ],
   "source": [
    "D = Dict(\"viennet\" => [viennet, 2], \"KarolikJeleniewiczFunction\" => [KarolikJeleniewiczFunction, 5])"
   ]
  },
  {
   "cell_type": "code",
   "execution_count": 39,
   "id": "driving-literature",
   "metadata": {},
   "outputs": [
    {
     "name": "stdout",
     "output_type": "stream",
     "text": [
      "2\n",
      "5\n"
     ]
    }
   ],
   "source": [
    "    for key in keys(D)\n",
    "           informationAboutFunction = get(D, key, Nothing)\n",
    "            println(informationAboutFunction[2])\n",
    "    end"
   ]
  },
  {
   "cell_type": "code",
   "execution_count": 40,
   "id": "optional-tattoo",
   "metadata": {},
   "outputs": [
    {
     "ename": "LoadError",
     "evalue": "syntax: \"for\" at In[40]:3 expected \"end\", got \")\"",
     "output_type": "error",
     "traceback": [
      "syntax: \"for\" at In[40]:3 expected \"end\", got \")\"",
      "",
      "Stacktrace:",
      " [1] top-level scope",
      "   @ In[40]:7",
      " [2] eval",
      "   @ ./boot.jl:360 [inlined]",
      " [3] include_string(mapexpr::typeof(REPL.softscope), mod::Module, code::String, filename::String)",
      "   @ Base ./loading.jl:1094"
     ]
    }
   ],
   "source": [
    "function makeTestWektorFunction(definition)\n",
    "    benchamarkResults = []\n",
    "    for key in keys(definition)\n",
    "        print(key)\n",
    "       informationAboutFunction = get(definition, key, Nothing)\n",
    "        println(informationAboutFunction[2])\n",
    "       push!(benchamarkResults, d(viennet,[rand(is[2],1)...])))\n",
    "#         print(J(informationAboutFunction[1],[rand(informationAboutFunction[2],1)...]))\n",
    "    end\n",
    "    benchamarkResults\n",
    "end\n"
   ]
  },
  {
   "cell_type": "code",
   "execution_count": 41,
   "id": "analyzed-childhood",
   "metadata": {},
   "outputs": [
    {
     "ename": "LoadError",
     "evalue": "UndefVarError: makeTestWektorFunction not defined",
     "output_type": "error",
     "traceback": [
      "UndefVarError: makeTestWektorFunction not defined",
      "",
      "Stacktrace:",
      " [1] top-level scope",
      "   @ In[41]:1",
      " [2] eval",
      "   @ ./boot.jl:360 [inlined]",
      " [3] include_string(mapexpr::typeof(REPL.softscope), mod::Module, code::String, filename::String)",
      "   @ Base ./loading.jl:1094"
     ]
    }
   ],
   "source": [
    "x = makeTestWektorFunction(D)\n"
   ]
  },
  {
   "cell_type": "code",
   "execution_count": null,
   "id": "unsigned-isolation",
   "metadata": {},
   "outputs": [],
   "source": []
  },
  {
   "cell_type": "code",
   "execution_count": null,
   "id": "9a5d6a23",
   "metadata": {},
   "outputs": [],
   "source": []
  },
  {
   "cell_type": "code",
   "execution_count": null,
   "id": "83394a13",
   "metadata": {},
   "outputs": [],
   "source": []
  },
  {
   "cell_type": "code",
   "execution_count": null,
   "id": "62c0412d",
   "metadata": {},
   "outputs": [],
   "source": []
  },
  {
   "cell_type": "code",
   "execution_count": null,
   "id": "bb256fa8",
   "metadata": {},
   "outputs": [],
   "source": []
  },
  {
   "cell_type": "code",
   "execution_count": null,
   "id": "67ff4dee",
   "metadata": {},
   "outputs": [],
   "source": []
  },
  {
   "cell_type": "code",
   "execution_count": null,
   "id": "d400ede1",
   "metadata": {},
   "outputs": [],
   "source": []
  },
  {
   "cell_type": "code",
   "execution_count": null,
   "id": "bd5dbc49",
   "metadata": {},
   "outputs": [],
   "source": []
  },
  {
   "cell_type": "code",
   "execution_count": null,
   "id": "00ee65c4",
   "metadata": {},
   "outputs": [],
   "source": []
  }
 ],
 "metadata": {
  "kernelspec": {
   "display_name": "Julia 1.6.0",
   "language": "julia",
   "name": "julia-1.6"
  },
  "language_info": {
   "file_extension": ".jl",
   "mimetype": "application/julia",
   "name": "julia",
   "version": "1.6.0"
  }
 },
 "nbformat": 4,
 "nbformat_minor": 5
}

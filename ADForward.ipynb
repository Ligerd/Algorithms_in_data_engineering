{
 "cells": [
  {
   "cell_type": "code",
   "execution_count": 1,
   "id": "elegant-death",
   "metadata": {},
   "outputs": [],
   "source": [
    "import Base: exp, sin, cos, +, -, *, /, sqrt, convert, promote_rule, zero\n",
    "import Test: @test, @testset"
   ]
  },
  {
   "cell_type": "markdown",
   "id": "processed-roots",
   "metadata": {},
   "source": [
    "# Define dual number"
   ]
  },
  {
   "cell_type": "code",
   "execution_count": 2,
   "id": "limited-calculator",
   "metadata": {},
   "outputs": [],
   "source": [
    "struct Infinitesimal{T <: Number} <: Number\n",
    "    x::T\n",
    "    dx::T\n",
    "end"
   ]
  },
  {
   "cell_type": "code",
   "execution_count": 3,
   "id": "level-attachment",
   "metadata": {},
   "outputs": [
    {
     "data": {
      "text/plain": [
       "convert (generic function with 187 methods)"
      ]
     },
     "execution_count": 3,
     "metadata": {},
     "output_type": "execute_result"
    }
   ],
   "source": [
    "function convert(::Type{Infinitesimal{T}}, x::T) where {T}\n",
    "   Infinitesimal(x, zero(x)) \n",
    "end\n",
    "function convert(::Type{Infinitesimal{T}}, x::Infinitesimal{S}) where {S, T}\n",
    "   Infinitesimal(T(x.x), T(x.dx))\n",
    "end\n",
    "# This is needed according to an error before\n",
    "function convert(::Type{Infinitesimal{T}}, x::T) where {T <: Number}\n",
    "    Infinitesimal(x, zero(x))\n",
    "end\n",
    "function convert(::Type{Infinitesimal{T}}, x::S) where {T, S <: Number}\n",
    "    x_as_T = convert(T, x)\n",
    "    Infinitesimal(x_as_T, zero(x_as_T))\n",
    "end"
   ]
  },
  {
   "cell_type": "code",
   "execution_count": 4,
   "id": "dying-december",
   "metadata": {},
   "outputs": [
    {
     "data": {
      "text/plain": [
       "zero (generic function with 23 methods)"
      ]
     },
     "execution_count": 4,
     "metadata": {},
     "output_type": "execute_result"
    }
   ],
   "source": [
    "function zero(x::Infinitesimal{T}) where T\n",
    "    Infinitesimal(zero(x.x), zero(x.dx))\n",
    "end"
   ]
  },
  {
   "cell_type": "code",
   "execution_count": 5,
   "id": "wired-efficiency",
   "metadata": {},
   "outputs": [
    {
     "data": {
      "text/plain": [
       "promote_rule (generic function with 126 methods)"
      ]
     },
     "execution_count": 5,
     "metadata": {},
     "output_type": "execute_result"
    }
   ],
   "source": [
    "function promote_rule(::Type{Infinitesimal{T}}, ::Type{Infinitesimal{S}}) where {T,S}\n",
    "    Infinitesimal{promote_type(T,S)}\n",
    "end\n",
    "function promote_rule(::Type{Infinitesimal{T}}, ::Type{S}) where {T, S <: Number}\n",
    "    Infinitesimal{promote_type(T,S)}\n",
    "end\n",
    "function promote_rule(::Type{T}, ::Type{Infinitesimal{S}}) where {T <: Number, S}\n",
    "    Infinitesimal{promote_type(T,S)}\n",
    "end\n",
    "function promote_rule(::Type{S}, ::Type{Infinitesimal{T}}) where {S <: AbstractIrrational, T}\n",
    "    Infinitesimal{promote_type(S,T)}\n",
    "end"
   ]
  },
  {
   "cell_type": "code",
   "execution_count": 6,
   "id": "focused-portable",
   "metadata": {},
   "outputs": [
    {
     "data": {
      "text/plain": [
       "extract_derivative (generic function with 3 methods)"
      ]
     },
     "execution_count": 6,
     "metadata": {},
     "output_type": "execute_result"
    }
   ],
   "source": [
    "function extract_derivative(xdx::Infinitesimal)\n",
    "    return xdx.dx\n",
    "end\n",
    "function extract_derivative(xs::Array)\n",
    "    [extract_derivative(x) for x in xs]\n",
    "end\n",
    "function extract_derivative(xs::Tuple)\n",
    "    convert(Tuple, [extract_derivative(x) for x in xs])\n",
    "end"
   ]
  },
  {
   "cell_type": "markdown",
   "id": "posted-canon",
   "metadata": {},
   "source": [
    "# Differential operator"
   ]
  },
  {
   "cell_type": "code",
   "execution_count": 7,
   "id": "military-ecology",
   "metadata": {},
   "outputs": [
    {
     "data": {
      "text/plain": [
       "D (generic function with 2 methods)"
      ]
     },
     "execution_count": 7,
     "metadata": {},
     "output_type": "execute_result"
    }
   ],
   "source": [
    "function D(f)\n",
    "    function df(x)\n",
    "        xdx = Infinitesimal(x, one(x))\n",
    "        result = f(xdx)\n",
    "        return extract_derivative(result)\n",
    "    end\n",
    "    df\n",
    "end\n",
    "function D(i::Integer, f)\n",
    "    function df(xs...)\n",
    "        xarr = [(j != i ? x : Infinitesimal(x, one(x))) for (j,x) in enumerate(xs)]\n",
    "        result = f(xarr...)\n",
    "        return extract_derivative(result)\n",
    "    end\n",
    "    df\n",
    "end"
   ]
  },
  {
   "cell_type": "code",
   "execution_count": 9,
   "id": "emerging-motorcycle",
   "metadata": {},
   "outputs": [
    {
     "data": {
      "text/plain": [
       "/ (generic function with 119 methods)"
      ]
     },
     "execution_count": 9,
     "metadata": {},
     "output_type": "execute_result"
    }
   ],
   "source": [
    "function +(x::Infinitesimal, y::Infinitesimal)\n",
    "    Infinitesimal(x.x+y.x, x.dx+y.dx)\n",
    "end\n",
    "function -(x::Infinitesimal, y::Infinitesimal)\n",
    "    Infinitesimal(x.x-y.x, x.dx-y.dx)\n",
    "end\n",
    "function -(x::Infinitesimal)\n",
    "    Infinitesimal(-x.x, -x.dx)\n",
    "end\n",
    "function *(x::Infinitesimal, y::Infinitesimal)\n",
    "    Infinitesimal(x.x*y.x, x.x*y.dx + x.dx*y.x)\n",
    "end\n",
    "function /(x::Infinitesimal, y::Infinitesimal)\n",
    "    Infinitesimal(x.x/y.x, x.dx/y.x - x.x*y.dx/(y.x*y.x))\n",
    "end"
   ]
  },
  {
   "cell_type": "code",
   "execution_count": 10,
   "id": "progressive-comment",
   "metadata": {},
   "outputs": [
    {
     "data": {
      "text/plain": [
       "sqrt (generic function with 21 methods)"
      ]
     },
     "execution_count": 10,
     "metadata": {},
     "output_type": "execute_result"
    }
   ],
   "source": [
    "function sqrt(x::Infinitesimal)\n",
    "    Infinitesimal(sqrt(x.x), x.dx/(2*sqrt(x.x)))\n",
    "end"
   ]
  },
  {
   "cell_type": "code",
   "execution_count": 11,
   "id": "drawn-monte",
   "metadata": {},
   "outputs": [
    {
     "data": {
      "text/plain": [
       "cos (generic function with 14 methods)"
      ]
     },
     "execution_count": 11,
     "metadata": {},
     "output_type": "execute_result"
    }
   ],
   "source": [
    "function exp(x::Infinitesimal)\n",
    "    return Infinitesimal(exp(x.x), exp(x.x)*x.dx)\n",
    "end\n",
    "function sin(x::Infinitesimal)\n",
    "    return Infinitesimal(sin(x.x), cos(x.x)*x.dx)\n",
    "end\n",
    "function cos(x::Infinitesimal)\n",
    "    return Infinitesimal(cos(x.x), -sin(x.x)*x.dx)\n",
    "end"
   ]
  },
  {
   "cell_type": "code",
   "execution_count": 12,
   "id": "comparable-judge",
   "metadata": {},
   "outputs": [
    {
     "data": {
      "text/plain": [
       "\u001b[32m\u001b[1mTest Passed\u001b[22m\u001b[39m"
      ]
     },
     "execution_count": 12,
     "metadata": {},
     "output_type": "execute_result"
    }
   ],
   "source": [
    "@test begin\n",
    "    x = randn()\n",
    "    isapprox(D(exp)(x), exp(x))\n",
    "end"
   ]
  },
  {
   "cell_type": "code",
   "execution_count": 13,
   "id": "spoken-daily",
   "metadata": {},
   "outputs": [
    {
     "data": {
      "text/plain": [
       "(::var\"#df#1\"{typeof(f)}) (generic function with 1 method)"
      ]
     },
     "execution_count": 13,
     "metadata": {},
     "output_type": "execute_result"
    }
   ],
   "source": [
    "function f(x)\n",
    "    return exp(-x/pi)*sin(2.0*pi*sqrt(2)*x)\n",
    "end\n",
    "fprime = D(f)"
   ]
  },
  {
   "cell_type": "code",
   "execution_count": 14,
   "id": "incident-manchester",
   "metadata": {},
   "outputs": [
    {
     "data": {
      "text/plain": [
       "0.03569811122195761"
      ]
     },
     "execution_count": 14,
     "metadata": {},
     "output_type": "execute_result"
    }
   ],
   "source": [
    "fprime(3)"
   ]
  },
  {
   "cell_type": "code",
   "execution_count": 15,
   "id": "british-packing",
   "metadata": {},
   "outputs": [
    {
     "data": {
      "text/plain": [
       "(::var\"#df#1\"{typeof(f)}) (generic function with 1 method)"
      ]
     },
     "execution_count": 15,
     "metadata": {},
     "output_type": "execute_result"
    }
   ],
   "source": [
    "function f(x)\n",
    "#     return exp(-x/pi)*sin(2.0*pi*sqrt(2)*x)\n",
    "    return sin(x*x)\n",
    "end\n",
    "fprime = D(f)"
   ]
  },
  {
   "cell_type": "code",
   "execution_count": 16,
   "id": "reported-communist",
   "metadata": {},
   "outputs": [
    {
     "data": {
      "text/plain": [
       "(::var\"#df#1\"{Int64}) (generic function with 1 method)"
      ]
     },
     "execution_count": 16,
     "metadata": {},
     "output_type": "execute_result"
    }
   ],
   "source": [
    "D(2)"
   ]
  },
  {
   "cell_type": "code",
   "execution_count": null,
   "id": "reverse-solution",
   "metadata": {},
   "outputs": [],
   "source": []
  }
 ],
 "metadata": {
  "kernelspec": {
   "display_name": "Julia 1.5.3",
   "language": "julia",
   "name": "julia-1.5"
  },
  "language_info": {
   "file_extension": ".jl",
   "mimetype": "application/julia",
   "name": "julia",
   "version": "1.5.3"
  }
 },
 "nbformat": 4,
 "nbformat_minor": 5
}

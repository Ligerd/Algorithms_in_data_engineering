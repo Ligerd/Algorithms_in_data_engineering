{
 "cells": [
  {
   "cell_type": "code",
   "execution_count": 59,
   "id": "elegant-death",
   "metadata": {},
   "outputs": [
    {
     "name": "stderr",
     "output_type": "stream",
     "text": [
      "┌ Info: Precompiling BenchmarkTools [6e4b80f9-dd63-53aa-95a3-0cdb28fa8baf]\n",
      "└ @ Base loading.jl:1278\n"
     ]
    }
   ],
   "source": [
    "import Base: iterate,max, exp, sin, cos, tan, +, ^, -, *, /, sqrt, convert, promote_rule, zero,isless\n",
    "using BenchmarkTools\n",
    "import Test: @test, @testset"
   ]
  },
  {
   "cell_type": "code",
   "execution_count": 58,
   "id": "median-welding",
   "metadata": {},
   "outputs": [
    {
     "data": {
      "text/plain": [
       "4"
      ]
     },
     "execution_count": 58,
     "metadata": {},
     "output_type": "execute_result"
    }
   ],
   "source": [
    "2^2"
   ]
  },
  {
   "cell_type": "markdown",
   "id": "processed-roots",
   "metadata": {},
   "source": [
    "# Define dual number"
   ]
  },
  {
   "cell_type": "code",
   "execution_count": 3,
   "id": "limited-calculator",
   "metadata": {},
   "outputs": [
    {
     "data": {
      "text/plain": [
       "Dual"
      ]
     },
     "execution_count": 3,
     "metadata": {},
     "output_type": "execute_result"
    }
   ],
   "source": [
    "struct Dual{T <: Number} <: Number\n",
    "    x::T\n",
    "    dx::T\n",
    "end\n",
    "Dual(n::Integer, d::Float64) = Dual(promote(n, d)...)\n",
    "Dual(n::Float64, d::Integer) = Dual(promote(n, d)...)"
   ]
  },
  {
   "cell_type": "code",
   "execution_count": 4,
   "id": "level-attachment",
   "metadata": {},
   "outputs": [
    {
     "data": {
      "text/plain": [
       "convert (generic function with 187 methods)"
      ]
     },
     "execution_count": 4,
     "metadata": {},
     "output_type": "execute_result"
    }
   ],
   "source": [
    "function convert(::Type{Dual{T}}, x::T) where {T}\n",
    "   Dual(x, zero(x)) \n",
    "end\n",
    "function convert(::Type{Dual{T}}, x::Dual{S}) where {S, T}\n",
    "    Dual(T(x.x), T(x.dx))\n",
    "end\n",
    "# This is needed according to an error before\n",
    "function convert(::Type{Dual{T}}, x::T) where {T <: Number}\n",
    "    Dual(x, zero(x))\n",
    "end\n",
    "function convert(::Type{Dual{T}}, x::S) where {T, S <: Number}\n",
    "    x_as_T = convert(T, x)\n",
    "    Dual(x_as_T, zero(x_as_T))\n",
    "end"
   ]
  },
  {
   "cell_type": "code",
   "execution_count": 5,
   "id": "dying-december",
   "metadata": {},
   "outputs": [
    {
     "data": {
      "text/plain": [
       "zero (generic function with 23 methods)"
      ]
     },
     "execution_count": 5,
     "metadata": {},
     "output_type": "execute_result"
    }
   ],
   "source": [
    "function zero(x::Dual{T}) where T\n",
    "    Dual(zero(x.x), zero(x.dx))\n",
    "end"
   ]
  },
  {
   "cell_type": "code",
   "execution_count": 6,
   "id": "wired-efficiency",
   "metadata": {},
   "outputs": [
    {
     "data": {
      "text/plain": [
       "promote_rule (generic function with 126 methods)"
      ]
     },
     "execution_count": 6,
     "metadata": {},
     "output_type": "execute_result"
    }
   ],
   "source": [
    "function promote_rule(::Type{Dual{T}}, ::Type{Dual{S}}) where {T,S}\n",
    "    Dual{promote_type(T,S)}\n",
    "end\n",
    "function promote_rule(::Type{Dual{T}}, ::Type{S}) where {T, S <: Number}\n",
    "    Dual{promote_type(T,S)}\n",
    "end\n",
    "function promote_rule(::Type{T}, ::Type{Dual{S}}) where {T <: Number, S}\n",
    "    Dual{promote_type(T,S)}\n",
    "end\n",
    "function promote_rule(::Type{S}, ::Type{Dual{T}}) where {S <: AbstractIrrational, T}\n",
    "    Dual{promote_type(S,T)}\n",
    "end"
   ]
  },
  {
   "cell_type": "code",
   "execution_count": null,
   "id": "identical-hartford",
   "metadata": {},
   "outputs": [],
   "source": []
  },
  {
   "cell_type": "code",
   "execution_count": 7,
   "id": "focused-portable",
   "metadata": {},
   "outputs": [
    {
     "data": {
      "text/plain": [
       "extract_derivative (generic function with 3 methods)"
      ]
     },
     "execution_count": 7,
     "metadata": {},
     "output_type": "execute_result"
    }
   ],
   "source": [
    "function extract_derivative(xdx::Dual)\n",
    "    return xdx.dx\n",
    "end\n",
    "function extract_derivative(xs::Array)\n",
    "    [extract_derivative(x) for x in xs]\n",
    "end\n",
    "function extract_derivative(xs::Tuple)\n",
    "    convert(Tuple, [extract_derivative(x) for x in xs])\n",
    "end"
   ]
  },
  {
   "cell_type": "markdown",
   "id": "posted-canon",
   "metadata": {},
   "source": [
    "# Differential operator"
   ]
  },
  {
   "cell_type": "code",
   "execution_count": 8,
   "id": "military-ecology",
   "metadata": {},
   "outputs": [
    {
     "data": {
      "text/plain": [
       "derivativeСalculation (generic function with 2 methods)"
      ]
     },
     "execution_count": 8,
     "metadata": {},
     "output_type": "execute_result"
    }
   ],
   "source": [
    "function derivativeСalculation(f, value)\n",
    "    function df(x)\n",
    "        xdx = Dual(x, one(x))\n",
    "        result = f(xdx)\n",
    "        return extract_derivative(result)\n",
    "    end\n",
    "    df(value)\n",
    "end\n",
    "function derivativeСalculation(f,i::Integer,values)\n",
    "    function df(valuesS)\n",
    "        xarr = [(j != i ? x : Dual(x, one(x))) for (j,x) in enumerate(valuesS)]\n",
    "        result = f(xarr...)\n",
    "        return extract_derivative(result)\n",
    "    end\n",
    "    df(values)\n",
    "end\n",
    "function derivativeСalculation(f,values)\n",
    "    function df(xs...)\n",
    "        xarr = [(j != i ? x : Dual(x, one(x))) for (j,x) in enumerate(xs)]\n",
    "        result = f(xarr...)\n",
    "        return extract_derivative(result)\n",
    "    end\n",
    "    df(values)\n",
    "end"
   ]
  },
  {
   "cell_type": "code",
   "execution_count": 61,
   "id": "emerging-motorcycle",
   "metadata": {},
   "outputs": [
    {
     "data": {
      "text/plain": [
       "^ (generic function with 68 methods)"
      ]
     },
     "execution_count": 61,
     "metadata": {},
     "output_type": "execute_result"
    }
   ],
   "source": [
    "function +(x::Dual, y::Dual)\n",
    "    Dual(x.x+y.x, x.dx+y.dx)\n",
    "end\n",
    "function -(x::Dual, y::Dual)\n",
    "    Dual(x.x-y.x, x.dx-y.dx)\n",
    "end\n",
    "function -(x::Dual)\n",
    "    Dual(-x.x, -x.dx)\n",
    "end\n",
    "function *(x::Dual, y::Dual)\n",
    "#      println(\"mnożenie\")\n",
    "     Dual(x.x*y.x, x.x*y.dx + x.dx*y.x)\n",
    "end\n",
    "function /(x::Dual, y::Dual)\n",
    "    Dual(x.x/y.x, x.dx/y.x - x.x*y.dx/(y.x*y.x))\n",
    "end\n",
    "function /(x::Array, y::Number)\n",
    "    return [i / y for i in x]\n",
    "end\n",
    "\n",
    "function ^(a::Dual, x::Dual)\n",
    "#     println(\"Daszek\")\n",
    "    Dual(a.x^x.x, a.dx * x.x * a.x ^ (x.x - 1) + x.dx * a.x ^ x.x * log(a.x)) \n",
    "end\n",
    "\n",
    "function ^(a::Dual, x::Integer)\n",
    "#     println(\"Daszek\")\n",
    "    Dual(a.x^x, a.dx * x * a.x ^ (x - 1)) \n",
    "end"
   ]
  },
  {
   "cell_type": "code",
   "execution_count": 10,
   "id": "progressive-comment",
   "metadata": {},
   "outputs": [
    {
     "data": {
      "text/plain": [
       "sqrt (generic function with 21 methods)"
      ]
     },
     "execution_count": 10,
     "metadata": {},
     "output_type": "execute_result"
    }
   ],
   "source": [
    "function sqrt(x::Dual)\n",
    "    Dual(sqrt(x.x), x.dx/(2*sqrt(x.x)))\n",
    "end"
   ]
  },
  {
   "cell_type": "code",
   "execution_count": 11,
   "id": "drawn-monte",
   "metadata": {},
   "outputs": [],
   "source": [
    "function exp(x::Dual)\n",
    "    return Dual(exp(x.x), exp(x.x)*x.dx)\n",
    "end\n",
    "function exp(xs::Array)\n",
    "    print(xs)\n",
    "    return [exp(x) for x in xs]\n",
    "end\n",
    "function sin(x::Dual)\n",
    "    return Dual(sin(x.x), cos(x.x)*x.dx)\n",
    "end\n",
    "function cos(x::Dual)\n",
    "    return Dual(cos(x.x), -sin(x.x)*x.dx)\n",
    "end\n",
    "\n",
    "function tan(x::Dual)\n",
    "    return Dual(tan(x.x),(1/cos(x.x)^2)*x.dx)\n",
    "end\n",
    "isless(x::Dual, y::Dual) = x.x < y.x;"
   ]
  },
  {
   "cell_type": "code",
   "execution_count": 12,
   "id": "eight-lounge",
   "metadata": {},
   "outputs": [
    {
     "data": {
      "text/plain": [
       "max (generic function with 13 methods)"
      ]
     },
     "execution_count": 12,
     "metadata": {},
     "output_type": "execute_result"
    }
   ],
   "source": [
    "function max(x::Dual)\n",
    "    return Dual(max(0,x.x), x.x < 0 ? 0 : 1 * x.dx)\n",
    "end"
   ]
  },
  {
   "cell_type": "code",
   "execution_count": 13,
   "id": "valued-problem",
   "metadata": {},
   "outputs": [
    {
     "data": {
      "text/plain": [
       "softmax (generic function with 1 method)"
      ]
     },
     "execution_count": 13,
     "metadata": {},
     "output_type": "execute_result"
    }
   ],
   "source": [
    "function softmax(vector::Array)\n",
    "    e = exp(vector)\n",
    "    return e / sum(e)\n",
    "#     z = [Dual(2.0, 1.0), Dual(21.0, 1.0)]\n",
    "#     s = zero(vector[1])\n",
    "#     for x in z\n",
    "#        s = s + x \n",
    "#     end    \n",
    "#     return e / s\n",
    "end"
   ]
  },
  {
   "cell_type": "code",
   "execution_count": 14,
   "id": "digital-thinking",
   "metadata": {},
   "outputs": [
    {
     "data": {
      "text/plain": [
       "iterate (generic function with 212 methods)"
      ]
     },
     "execution_count": 14,
     "metadata": {},
     "output_type": "execute_result"
    }
   ],
   "source": [
    "function iterate(iter::Vector{Dual}, state=1)\n",
    "#     println(iter, \"Test22232323\")\n",
    "    if state > length(iter)\n",
    "        return nothing\n",
    "    end\n",
    "    return (iter[state],state+1)\n",
    "end"
   ]
  },
  {
   "cell_type": "code",
   "execution_count": null,
   "id": "fleet-rings",
   "metadata": {},
   "outputs": [],
   "source": []
  },
  {
   "cell_type": "code",
   "execution_count": 15,
   "id": "golden-hamilton",
   "metadata": {},
   "outputs": [
    {
     "data": {
      "text/plain": [
       "jacobian (generic function with 1 method)"
      ]
     },
     "execution_count": 15,
     "metadata": {},
     "output_type": "execute_result"
    }
   ],
   "source": [
    "J = function jacobian(f, args::Vector{T}) where {T <:Number}\n",
    "    jacobian_columns = Matrix{T}[]\n",
    "    \n",
    "    for i=1:length(args)\n",
    "        x = Dual{T}[]\n",
    "        for j=1:length(args)\n",
    "            seed = (i == j)\n",
    "            push!(x, seed ?\n",
    "                Dual(args[j], one(args[j])) :\n",
    "                Dual(args[j],zero(args[j])) )\n",
    "        end\n",
    "        temp  = [f(x)...]\n",
    "        column = extract_derivative.([f(x)...])\n",
    "        push!(jacobian_columns, column[:,:])\n",
    "    end\n",
    "    hcat(jacobian_columns...)\n",
    "end"
   ]
  },
  {
   "cell_type": "code",
   "execution_count": 16,
   "id": "accessory-sperm",
   "metadata": {
    "scrolled": true
   },
   "outputs": [
    {
     "name": "stdout",
     "output_type": "stream",
     "text": [
      "Dual{Float64}[Dual{Float64}(1.0, 1.0), Dual{Float64}(2.0, 0.0)]Dual{Float64}[Dual{Float64}(1.0, 1.0), Dual{Float64}(2.0, 0.0)]Dual{Float64}[Dual{Float64}(1.0, 0.0), Dual{Float64}(2.0, 1.0)]Dual{Float64}[Dual{Float64}(1.0, 0.0), Dual{Float64}(2.0, 1.0)]"
     ]
    },
    {
     "data": {
      "text/plain": [
       "2×2 Array{Float64,2}:\n",
       "  0.196612  -0.196612\n",
       " -0.196612   0.196612"
      ]
     },
     "execution_count": 16,
     "metadata": {},
     "output_type": "execute_result"
    }
   ],
   "source": [
    "f(x::Vector) = softmax(x)\n",
    "J(softmax, [1., 2.])"
   ]
  },
  {
   "cell_type": "code",
   "execution_count": 17,
   "id": "governmental-safety",
   "metadata": {},
   "outputs": [
    {
     "data": {
      "text/plain": [
       "5×3 Array{Float64,2}:\n",
       " 1.0        0.0         0.0\n",
       " 0.0        0.0        -0.555556\n",
       " 0.0       16.0        -2.0\n",
       " 1.62091    0.0         0.841471\n",
       " 0.377539  -0.0755078  -0.0755078"
      ]
     },
     "execution_count": 17,
     "metadata": {},
     "output_type": "execute_result"
    }
   ],
   "source": [
    "f(x::Vector) = [x[1], 5/x[3], 4x[2]^2-2x[3], x[3]*sin(x[1]), exp(x[1])/sum(x)]\n",
    "J(f, [1, 2., 3])"
   ]
  },
  {
   "cell_type": "code",
   "execution_count": 18,
   "id": "careful-modification",
   "metadata": {},
   "outputs": [
    {
     "data": {
      "text/plain": [
       "linear (generic function with 1 method)"
      ]
     },
     "execution_count": 18,
     "metadata": {},
     "output_type": "execute_result"
    }
   ],
   "source": [
    "function linear(x)\n",
    "    return x^2\n",
    "end\n"
   ]
  },
  {
   "cell_type": "code",
   "execution_count": 19,
   "id": "every-verification",
   "metadata": {},
   "outputs": [
    {
     "data": {
      "text/plain": [
       "24"
      ]
     },
     "execution_count": 19,
     "metadata": {},
     "output_type": "execute_result"
    }
   ],
   "source": [
    "derivativeСalculation(linear,1,[12])"
   ]
  },
  {
   "cell_type": "code",
   "execution_count": 20,
   "id": "catholic-judges",
   "metadata": {},
   "outputs": [
    {
     "name": "stdout",
     "output_type": "stream",
     "text": [
      "[1, 2, 3]"
     ]
    },
    {
     "data": {
      "text/plain": [
       "3-element Array{Float64,1}:\n",
       " 0.09003057317038046\n",
       " 0.24472847105479767\n",
       " 0.6652409557748219"
      ]
     },
     "execution_count": 20,
     "metadata": {},
     "output_type": "execute_result"
    }
   ],
   "source": [
    "softmax([1,2,3])"
   ]
  },
  {
   "cell_type": "code",
   "execution_count": 21,
   "id": "intermediate-emperor",
   "metadata": {},
   "outputs": [
    {
     "ename": "LoadError",
     "evalue": "\u001b[91mUndefVarError: dldx not defined\u001b[39m",
     "output_type": "error",
     "traceback": [
      "\u001b[91mUndefVarError: dldx not defined\u001b[39m",
      "",
      "Stacktrace:",
      " [1] top-level scope at In[21]:1",
      " [2] include_string(::Function, ::Module, ::String, ::String) at ./loading.jl:1091"
     ]
    }
   ],
   "source": [
    "dldx(1.2,2,3)"
   ]
  },
  {
   "cell_type": "code",
   "execution_count": 22,
   "id": "registered-float",
   "metadata": {},
   "outputs": [
    {
     "data": {
      "text/plain": [
       "relu (generic function with 1 method)"
      ]
     },
     "execution_count": 22,
     "metadata": {},
     "output_type": "execute_result"
    }
   ],
   "source": [
    "function relu(x)\n",
    "    return max(0,x)\n",
    "end"
   ]
  },
  {
   "cell_type": "code",
   "execution_count": 23,
   "id": "colored-psychiatry",
   "metadata": {},
   "outputs": [
    {
     "data": {
      "text/plain": [
       "f (generic function with 2 methods)"
      ]
     },
     "execution_count": 23,
     "metadata": {},
     "output_type": "execute_result"
    }
   ],
   "source": [
    "function f(x)\n",
    "    return x+relu(x*x)\n",
    "end"
   ]
  },
  {
   "cell_type": "code",
   "execution_count": 24,
   "id": "related-insertion",
   "metadata": {},
   "outputs": [
    {
     "ename": "LoadError",
     "evalue": "\u001b[91mUndefVarError: D not defined\u001b[39m",
     "output_type": "error",
     "traceback": [
      "\u001b[91mUndefVarError: D not defined\u001b[39m",
      "",
      "Stacktrace:",
      " [1] top-level scope at In[24]:1",
      " [2] include_string(::Function, ::Module, ::String, ::String) at ./loading.jl:1091"
     ]
    }
   ],
   "source": [
    "d=D(ftest)"
   ]
  },
  {
   "cell_type": "code",
   "execution_count": 25,
   "id": "fiscal-register",
   "metadata": {},
   "outputs": [
    {
     "ename": "LoadError",
     "evalue": "\u001b[91mUndefVarError: d not defined\u001b[39m",
     "output_type": "error",
     "traceback": [
      "\u001b[91mUndefVarError: d not defined\u001b[39m",
      "",
      "Stacktrace:",
      " [1] top-level scope at In[25]:1",
      " [2] include_string(::Function, ::Module, ::String, ::String) at ./loading.jl:1091"
     ]
    }
   ],
   "source": [
    "d(2.0)"
   ]
  },
  {
   "cell_type": "code",
   "execution_count": 26,
   "id": "surrounded-stationery",
   "metadata": {},
   "outputs": [
    {
     "data": {
      "text/plain": [
       "Dual{Float64}(6.4, 6.1)"
      ]
     },
     "execution_count": 26,
     "metadata": {},
     "output_type": "execute_result"
    }
   ],
   "source": [
    "Dual(2,4)+Dual(4.4, 2.1)"
   ]
  },
  {
   "cell_type": "code",
   "execution_count": null,
   "id": "personalized-burning",
   "metadata": {},
   "outputs": [],
   "source": []
  },
  {
   "cell_type": "code",
   "execution_count": 65,
   "id": "removed-consumption",
   "metadata": {},
   "outputs": [
    {
     "data": {
      "text/plain": [
       "rosenbrock (generic function with 2 methods)"
      ]
     },
     "execution_count": 65,
     "metadata": {},
     "output_type": "execute_result"
    }
   ],
   "source": [
    "function rosenbrock(x::Vector)\n",
    "    value = zero(x[1])\n",
    "    for i=2:length(x)\n",
    "        value += (1-x[i-1])^2 + 100*(x[i] - x[i-1]^2)^2\n",
    "    end\n",
    "    value\n",
    "end\n"
   ]
  },
  {
   "cell_type": "code",
   "execution_count": 91,
   "id": "false-motivation",
   "metadata": {
    "scrolled": false
   },
   "outputs": [
    {
     "data": {
      "text/plain": [
       "BenchmarkTools.Trial: \n",
       "  memory estimate:  32.30 MiB\n",
       "  allocs estimate:  21021\n",
       "  --------------\n",
       "  minimum time:     61.076 ms (0.00% GC)\n",
       "  median time:      63.394 ms (2.19% GC)\n",
       "  mean time:        63.776 ms (1.76% GC)\n",
       "  maximum time:     68.505 ms (1.98% GC)\n",
       "  --------------\n",
       "  samples:          79\n",
       "  evals/sample:     1"
      ]
     },
     "execution_count": 91,
     "metadata": {},
     "output_type": "execute_result"
    }
   ],
   "source": [
    "# d = derivativeСalculation(rosenbrock,[1.0,2.0,3.0])\n",
    "@benchmark J(rosenbrock, [rand(1000,1)...])"
   ]
  },
  {
   "cell_type": "code",
   "execution_count": 78,
   "id": "composed-radio",
   "metadata": {
    "scrolled": false
   },
   "outputs": [
    {
     "data": {
      "text/plain": [
       "0.5340167841882746"
      ]
     },
     "execution_count": 78,
     "metadata": {},
     "output_type": "execute_result"
    }
   ],
   "source": [
    "[rand(3,1)...]"
   ]
  },
  {
   "cell_type": "code",
   "execution_count": 86,
   "id": "christian-classics",
   "metadata": {},
   "outputs": [
    {
     "name": "stdout",
     "output_type": "stream",
     "text": [
      "0.223582100365062"
     ]
    }
   ],
   "source": [
    "s = rand(3,1)\n",
    "print(s[1][1])"
   ]
  },
  {
   "cell_type": "code",
   "execution_count": 92,
   "id": "orange-jefferson",
   "metadata": {},
   "outputs": [
    {
     "data": {
      "text/plain": [
       "1×7 Array{Float64,2}:\n",
       " -400.0  1002.0  5804.0  16606.0  35808.0  65810.0  -5800.0"
      ]
     },
     "execution_count": 92,
     "metadata": {},
     "output_type": "execute_result"
    }
   ],
   "source": [
    "J(rosenbrock, [1., 2., 3, 4, 5,6 ,7])"
   ]
  },
  {
   "cell_type": "code",
   "execution_count": 29,
   "id": "fabulous-river",
   "metadata": {},
   "outputs": [
    {
     "data": {
      "text/plain": [
       "100"
      ]
     },
     "execution_count": 29,
     "metadata": {},
     "output_type": "execute_result"
    }
   ],
   "source": [
    "rosenbrock([1,2])"
   ]
  },
  {
   "cell_type": "code",
   "execution_count": 43,
   "id": "efficient-advancement",
   "metadata": {},
   "outputs": [
    {
     "data": {
      "text/plain": [
       "rosenbrock (generic function with 2 methods)"
      ]
     },
     "execution_count": 43,
     "metadata": {},
     "output_type": "execute_result"
    }
   ],
   "source": [
    "function rosenbrock(x)\n",
    "    value = zero(x[1])\n",
    "#     value = (1-a)^2 + 100*(x - a^2)^2\n",
    "    for i=2:length(x)\n",
    "        value += (1-x[i-1])^2 + 100*(x[i] - x[i-1]^2)^3\n",
    "    end\n",
    "    value\n",
    "end"
   ]
  },
  {
   "cell_type": "code",
   "execution_count": 31,
   "id": "european-triumph",
   "metadata": {},
   "outputs": [
    {
     "ename": "LoadError",
     "evalue": "\u001b[91mMethodError: no method matching rosenbrock(::Dual{Int64}, ::Int64, ::Int64)\u001b[39m\n\u001b[91m\u001b[0mClosest candidates are:\u001b[39m\n\u001b[91m\u001b[0m  rosenbrock(::Any) at In[30]:1\u001b[39m",
     "output_type": "error",
     "traceback": [
      "\u001b[91mMethodError: no method matching rosenbrock(::Dual{Int64}, ::Int64, ::Int64)\u001b[39m\n\u001b[91m\u001b[0mClosest candidates are:\u001b[39m\n\u001b[91m\u001b[0m  rosenbrock(::Any) at In[30]:1\u001b[39m",
      "",
      "Stacktrace:",
      " [1] (::var\"#df#3\"{typeof(rosenbrock),Int64})(::Array{Int64,1}) at ./In[8]:12",
      " [2] derivativeСalculation(::Function, ::Int64, ::Array{Int64,1}) at ./In[8]:15",
      " [3] top-level scope at In[31]:1",
      " [4] include_string(::Function, ::Module, ::String, ::String) at ./loading.jl:1091"
     ]
    }
   ],
   "source": [
    "derivativeСalculation(rosenbrock,1,[1,2,3])"
   ]
  },
  {
   "cell_type": "code",
   "execution_count": 32,
   "id": "recreational-study",
   "metadata": {},
   "outputs": [
    {
     "data": {
      "text/plain": [
       "-2.185039863261519"
      ]
     },
     "execution_count": 32,
     "metadata": {},
     "output_type": "execute_result"
    }
   ],
   "source": [
    "tan(2)"
   ]
  },
  {
   "cell_type": "code",
   "execution_count": 93,
   "id": "otherwise-things",
   "metadata": {},
   "outputs": [
    {
     "data": {
      "text/plain": [
       "BenchmarkTools.Trial: \n",
       "  memory estimate:  5.20 KiB\n",
       "  allocs estimate:  77\n",
       "  --------------\n",
       "  minimum time:     3.273 μs (0.00% GC)\n",
       "  median time:      3.661 μs (0.00% GC)\n",
       "  mean time:        4.419 μs (8.19% GC)\n",
       "  maximum time:     455.269 μs (98.17% GC)\n",
       "  --------------\n",
       "  samples:          10000\n",
       "  evals/sample:     8"
      ]
     },
     "execution_count": 93,
     "metadata": {},
     "output_type": "execute_result"
    }
   ],
   "source": [
    "f(x::Vector) = [x[1], 5/x[3], 4x[2]^2-2x[3], x[3]*sin(x[1]), exp(x[1])/sum(x), x[1]^2 - x[2]^3 - 88]\n",
    "@benchmark J(f,[rand(3,1)...]) "
   ]
  },
  {
   "cell_type": "code",
   "execution_count": 94,
   "id": "convenient-migration",
   "metadata": {},
   "outputs": [
    {
     "data": {
      "text/plain": [
       "6×3 Array{Float64,2}:\n",
       "     1.0          0.0          0.0\n",
       "     0.0          0.0         -2.09133e-6\n",
       "     0.0         17.6         -2.0\n",
       " -1501.32         0.0          0.239249\n",
       "     0.0117077   -7.55172e-6  -7.55172e-6\n",
       "     5.8        -14.52         0.0"
      ]
     },
     "execution_count": 94,
     "metadata": {},
     "output_type": "execute_result"
    }
   ],
   "source": [
    "J(f, [2.9,2.2,1546.23])"
   ]
  },
  {
   "cell_type": "code",
   "execution_count": null,
   "id": "returning-ethiopia",
   "metadata": {},
   "outputs": [],
   "source": []
  }
 ],
 "metadata": {
  "kernelspec": {
   "display_name": "Julia 1.5.4",
   "language": "julia",
   "name": "julia-1.5"
  },
  "language_info": {
   "file_extension": ".jl",
   "mimetype": "application/julia",
   "name": "julia",
   "version": "1.5.4"
  }
 },
 "nbformat": 4,
 "nbformat_minor": 5
}

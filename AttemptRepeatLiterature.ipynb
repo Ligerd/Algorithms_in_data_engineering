{
 "cells": [
  {
   "cell_type": "code",
   "execution_count": 1,
   "id": "southwest-european",
   "metadata": {},
   "outputs": [],
   "source": [
    "abstract type AbstractNode end"
   ]
  },
  {
   "cell_type": "code",
   "execution_count": 2,
   "id": "received-idaho",
   "metadata": {},
   "outputs": [],
   "source": [
    "abstract type LeafNode <: AbstractNode end"
   ]
  },
  {
   "cell_type": "code",
   "execution_count": 3,
   "id": "african-virginia",
   "metadata": {},
   "outputs": [],
   "source": [
    "mutable struct Variable{T} <: LeafNode\n",
    "    value::T\n",
    "    grad::T\n",
    "\n",
    "    Variable(val::T) where T = new{T}(val)\n",
    "    Variable(val::T, grad::T) where T = new{T}(val)\n",
    "end"
   ]
  },
  {
   "cell_type": "code",
   "execution_count": 4,
   "id": "gorgeous-reduction",
   "metadata": {},
   "outputs": [],
   "source": [
    "struct Node{FT <: Function, ArgsT <: Tuple, KwargsT <: NamedTuple} <: AbstractNode\n",
    "    f::FT\n",
    "    args::ArgsT\n",
    "    kwargs::KwargsT\n",
    "end"
   ]
  },
  {
   "cell_type": "code",
   "execution_count": null,
   "id": "civil-mention",
   "metadata": {},
   "outputs": [],
   "source": [
    "import Pkg; Pkg.add(\"YAAD\")"
   ]
  },
  {
   "cell_type": "code",
   "execution_count": 16,
   "id": "cross-smith",
   "metadata": {},
   "outputs": [
    {
     "name": "stderr",
     "output_type": "stream",
     "text": [
      "WARNING: replacing module Trait.\n"
     ]
    },
    {
     "data": {
      "text/plain": [
       "Main.Trait"
      ]
     },
     "execution_count": 16,
     "metadata": {},
     "output_type": "execute_result"
    }
   ],
   "source": [
    "abstract type Operator end\n",
    "\n",
    "module Trait\n",
    "import YAAD: Operator\n",
    "\n",
    "struct Method{FT} <: Operator\n",
    "    f::FT\n",
    "end\n",
    "\n",
    "struct Broadcasted{FT} <: Operator\n",
    "    f::FT\n",
    "end\n",
    "end # Trait"
   ]
  },
  {
   "cell_type": "code",
   "execution_count": 17,
   "id": "centered-globe",
   "metadata": {},
   "outputs": [
    {
     "ename": "LoadError",
     "evalue": "\u001b[91minvalid redefinition of constant Node\u001b[39m",
     "output_type": "error",
     "traceback": [
      "\u001b[91minvalid redefinition of constant Node\u001b[39m",
      "",
      "Stacktrace:",
      " [1] top-level scope at In[17]:1",
      " [2] include_string(::Function, ::Module, ::String, ::String) at ./loading.jl:1091"
     ]
    }
   ],
   "source": [
    "struct Node{FT <: Operator, ArgsT <: Tuple, KwargsT <: NamedTuple} <: AbstractNode\n",
    "    f::FT\n",
    "    args::ArgsT\n",
    "    kwargs::KwargsT\n",
    "end"
   ]
  },
  {
   "cell_type": "code",
   "execution_count": 18,
   "id": "russian-granny",
   "metadata": {},
   "outputs": [
    {
     "data": {
      "text/plain": [
       "Node"
      ]
     },
     "execution_count": 18,
     "metadata": {},
     "output_type": "execute_result"
    }
   ],
   "source": [
    "# wrap function to Method\n",
    "Node(f::Function, args, kwargs) = Node(Trait.Method(f), args, kwargs)\n",
    "Node(op, args) = Node(op, args, NamedTuple())"
   ]
  },
  {
   "cell_type": "code",
   "execution_count": 19,
   "id": "agreed-gregory",
   "metadata": {},
   "outputs": [],
   "source": [
    "mutable struct CachedNode{NT <: AbstractNode, OutT} <: AbstractNode\n",
    "    node::NT\n",
    "    output::OutT\n",
    "end"
   ]
  },
  {
   "cell_type": "code",
   "execution_count": 20,
   "id": "interesting-marijuana",
   "metadata": {},
   "outputs": [
    {
     "data": {
      "text/plain": [
       "CachedNode"
      ]
     },
     "execution_count": 20,
     "metadata": {},
     "output_type": "execute_result"
    }
   ],
   "source": [
    "function CachedNode(f, args...; kwargs...)\n",
    "    node = Node(f, args, kwargs.data) # this constructs a Node\n",
    "    output = forward(node)\n",
    "    CachedNode(node, output)\n",
    "end"
   ]
  },
  {
   "cell_type": "code",
   "execution_count": 21,
   "id": "surprised-poverty",
   "metadata": {},
   "outputs": [
    {
     "data": {
      "text/plain": [
       "forward (generic function with 1 method)"
      ]
     },
     "execution_count": 21,
     "metadata": {},
     "output_type": "execute_result"
    }
   ],
   "source": [
    "forward(node::Node) = forward(node.f, map(forward, node.args)...; map(forward, node.kwargs)...)"
   ]
  },
  {
   "cell_type": "code",
   "execution_count": 22,
   "id": "disturbed-ecuador",
   "metadata": {},
   "outputs": [
    {
     "data": {
      "text/plain": [
       "forward (generic function with 2 methods)"
      ]
     },
     "execution_count": 22,
     "metadata": {},
     "output_type": "execute_result"
    }
   ],
   "source": [
    "struct Linear <: Operator\n",
    "  w::Matrix{Float64}\n",
    "  b::Vector{Float64}\n",
    "end\n",
    "\n",
    "forward(op::Linear, x::Vector{Float64}) = op.w * x + b"
   ]
  },
  {
   "cell_type": "code",
   "execution_count": 23,
   "id": "crazy-palestine",
   "metadata": {},
   "outputs": [
    {
     "data": {
      "text/plain": [
       "forward (generic function with 3 methods)"
      ]
     },
     "execution_count": 23,
     "metadata": {},
     "output_type": "execute_result"
    }
   ],
   "source": [
    "forward(node::CachedNode) = (node.output = forward(node.node))"
   ]
  },
  {
   "cell_type": "code",
   "execution_count": 25,
   "id": "modern-catholic",
   "metadata": {},
   "outputs": [
    {
     "ename": "LoadError",
     "evalue": "\u001b[91mTypeError: in Type{...} expression, expected UnionAll, got Type{Method}\u001b[39m",
     "output_type": "error",
     "traceback": [
      "\u001b[91mTypeError: in Type{...} expression, expected UnionAll, got Type{Method}\u001b[39m",
      "",
      "Stacktrace:",
      " [1] top-level scope at In[25]:1",
      " [2] include_string(::Function, ::Module, ::String, ::String) at ./loading.jl:1091"
     ]
    }
   ],
   "source": [
    "function forward(::Method{typeof(sin)}, x)\n",
    "  sin(x)\n",
    "end"
   ]
  },
  {
   "cell_type": "code",
   "execution_count": 26,
   "id": "iraqi-animation",
   "metadata": {},
   "outputs": [
    {
     "data": {
      "text/plain": [
       "forward (generic function with 4 methods)"
      ]
     },
     "execution_count": 26,
     "metadata": {},
     "output_type": "execute_result"
    }
   ],
   "source": [
    "forward(op::Operator, args...; kwargs...) = op.f(args...; kwargs...)"
   ]
  },
  {
   "cell_type": "code",
   "execution_count": 27,
   "id": "brazilian-clerk",
   "metadata": {},
   "outputs": [],
   "source": [
    "(op::Linear)(x::Vector) = op.w * x + b"
   ]
  },
  {
   "cell_type": "markdown",
   "id": "solved-coalition",
   "metadata": {},
   "source": [
    "Nie wiem jak to działa sorry"
   ]
  },
  {
   "cell_type": "code",
   "execution_count": 4,
   "id": "biological-childhood",
   "metadata": {},
   "outputs": [
    {
     "name": "stderr",
     "output_type": "stream",
     "text": [
      "\u001b[32m\u001b[1m  Resolving\u001b[22m\u001b[39m package versions...\n",
      "\u001b[32m\u001b[1mUpdating\u001b[22m\u001b[39m `~/.julia/environments/v1.5/Project.toml`\n",
      " \u001b[90m [276daf66] \u001b[39m\u001b[92m+ SpecialFunctions v0.10.3\u001b[39m\n",
      "\u001b[32m\u001b[1mNo Changes\u001b[22m\u001b[39m to `~/.julia/environments/v1.5/Manifest.toml`\n",
      "\u001b[32m\u001b[1m  Resolving\u001b[22m\u001b[39m package versions...\n",
      "\u001b[32m\u001b[1mNo Changes\u001b[22m\u001b[39m to `~/.julia/environments/v1.5/Project.toml`\n",
      "\u001b[32m\u001b[1mNo Changes\u001b[22m\u001b[39m to `~/.julia/environments/v1.5/Manifest.toml`\n"
     ]
    }
   ],
   "source": [
    "import Pkg; Pkg.add(\"SpecialFunctions\")\n",
    "import Pkg; Pkg.add(\"MacroTools\")\n",
    "include(\"utils.jl\");"
   ]
  },
  {
   "cell_type": "code",
   "execution_count": 5,
   "id": "divine-seattle",
   "metadata": {},
   "outputs": [
    {
     "data": {
      "text/plain": [
       ":(3 * x ^ 2 + (2x + 1))"
      ]
     },
     "execution_count": 5,
     "metadata": {},
     "output_type": "execute_result"
    }
   ],
   "source": [
    "y = :(3x^2 + (2x + 1))"
   ]
  },
  {
   "cell_type": "code",
   "execution_count": 6,
   "id": "banner-adjustment",
   "metadata": {},
   "outputs": [
    {
     "data": {
      "text/plain": [
       "Wengert List\n",
       "y1 = x ^ 2\n",
       "y2 = 3 * y1\n",
       "y3 = 2x\n",
       "y4 = y3 + 1\n",
       "y5 = y2 + y4\n"
      ]
     },
     "execution_count": 6,
     "metadata": {},
     "output_type": "execute_result"
    }
   ],
   "source": [
    "wy = Wengert(y)"
   ]
  },
  {
   "cell_type": "code",
   "execution_count": 7,
   "id": "exciting-apple",
   "metadata": {},
   "outputs": [
    {
     "data": {
      "text/plain": [
       ":((3 * x ^ 2 + (2x + 1),;))"
      ]
     },
     "execution_count": 7,
     "metadata": {},
     "output_type": "execute_result"
    }
   ],
   "source": [
    "Expr(wy)"
   ]
  },
  {
   "cell_type": "code",
   "execution_count": 8,
   "id": "prescribed-audience",
   "metadata": {},
   "outputs": [
    {
     "data": {
      "text/plain": [
       "Wengert List\n",
       "y1 = x ^ 2\n"
      ]
     },
     "execution_count": 8,
     "metadata": {},
     "output_type": "execute_result"
    }
   ],
   "source": [
    "w = Wengert()\n",
    "tmp = push!(w, :(x^2))\n",
    "w"
   ]
  },
  {
   "cell_type": "code",
   "execution_count": 9,
   "id": "quick-timothy",
   "metadata": {},
   "outputs": [
    {
     "data": {
      "text/plain": [
       "Wengert List\n",
       "y1 = x ^ 2\n",
       "y2 = y1 + 1\n"
      ]
     },
     "execution_count": 9,
     "metadata": {},
     "output_type": "execute_result"
    }
   ],
   "source": [
    "push!(w, :($tmp + 1))\n",
    "w"
   ]
  },
  {
   "cell_type": "code",
   "execution_count": null,
   "id": "unlimited-nickname",
   "metadata": {},
   "outputs": [],
   "source": []
  },
  {
   "cell_type": "code",
   "execution_count": 1,
   "id": "recreational-maldives",
   "metadata": {},
   "outputs": [],
   "source": [
    "struct Dual{T<:Real} <: Real\n",
    "  x::T\n",
    "  ϵ::T\n",
    "end"
   ]
  },
  {
   "cell_type": "code",
   "execution_count": 1,
   "id": "worthy-weather",
   "metadata": {},
   "outputs": [
    {
     "data": {
      "text/plain": [
       "2-element Array{Float64,1}:\n",
       "  6.0\n",
       " -0.4161468365471424"
      ]
     },
     "execution_count": 1,
     "metadata": {},
     "output_type": "execute_result"
    }
   ],
   "source": [
    "f(x) = [x[1] * x[2], cos(x[1])]\n",
    "\n",
    "x = [2, 3]\n",
    "y = f(x)"
   ]
  },
  {
   "cell_type": "markdown",
   "id": "intermediate-venice",
   "metadata": {},
   "source": [
    "Symbolic Differentiation"
   ]
  },
  {
   "cell_type": "code",
   "execution_count": 4,
   "id": "overall-camcorder",
   "metadata": {},
   "outputs": [
    {
     "data": {
      "text/plain": [
       "derive (generic function with 2 methods)"
      ]
     },
     "execution_count": 4,
     "metadata": {},
     "output_type": "execute_result"
    }
   ],
   "source": [
    "function derive(ex, x)\n",
    "  ex == x ? 1 :\n",
    "  ex isa Union{Number,Symbol} ? 0 :\n",
    "  error(\"$ex is not differentiable\")\n",
    "end"
   ]
  },
  {
   "cell_type": "code",
   "execution_count": 8,
   "id": "thirty-graduate",
   "metadata": {},
   "outputs": [
    {
     "data": {
      "text/plain": [
       ":(x + 1)"
      ]
     },
     "execution_count": 8,
     "metadata": {},
     "output_type": "execute_result"
    }
   ],
   "source": [
    "using MacroTools\n",
    "\n",
    "y = :(x + 1)"
   ]
  },
  {
   "cell_type": "code",
   "execution_count": 9,
   "id": "relative-kazakhstan",
   "metadata": {},
   "outputs": [
    {
     "data": {
      "text/plain": [
       "false"
      ]
     },
     "execution_count": 9,
     "metadata": {},
     "output_type": "execute_result"
    }
   ],
   "source": [
    "@capture(y, a_ * b_)"
   ]
  },
  {
   "cell_type": "code",
   "execution_count": 11,
   "id": "fifty-dictionary",
   "metadata": {},
   "outputs": [
    {
     "data": {
      "text/plain": [
       "true"
      ]
     },
     "execution_count": 11,
     "metadata": {},
     "output_type": "execute_result"
    }
   ],
   "source": [
    "@capture(y, a_ + b_)"
   ]
  },
  {
   "cell_type": "markdown",
   "id": "dated-traveler",
   "metadata": {},
   "source": [
    ": what it's mean \n",
    "https://docs.julialang.org/en/v1/manual/metaprogramming/"
   ]
  },
  {
   "cell_type": "code",
   "execution_count": 12,
   "id": "prerequisite-ecuador",
   "metadata": {},
   "outputs": [
    {
     "data": {
      "text/plain": [
       "derive (generic function with 2 methods)"
      ]
     },
     "execution_count": 12,
     "metadata": {},
     "output_type": "execute_result"
    }
   ],
   "source": [
    "function derive(ex, x)\n",
    "  ex == x ? 1 :\n",
    "  ex isa Union{Number,Symbol} ? 0 :\n",
    "  @capture(ex, a_ + b_) ? :($(derive(a, x)) + $(derive(b, x))) :\n",
    "  error(\"$ex is not differentiable\")\n",
    "end"
   ]
  },
  {
   "cell_type": "code",
   "execution_count": 13,
   "id": "completed-clearing",
   "metadata": {},
   "outputs": [
    {
     "data": {
      "text/plain": [
       ":(1 + 0)"
      ]
     },
     "execution_count": 13,
     "metadata": {},
     "output_type": "execute_result"
    }
   ],
   "source": [
    "y = :(x + 1)\n",
    "derive(y, :x)"
   ]
  },
  {
   "cell_type": "code",
   "execution_count": 14,
   "id": "original-conditioning",
   "metadata": {},
   "outputs": [
    {
     "data": {
      "text/plain": [
       ":(1 + (0 + (1 + 0)))"
      ]
     },
     "execution_count": 14,
     "metadata": {},
     "output_type": "execute_result"
    }
   ],
   "source": [
    "y = :(x + (1 + (x + 1)))\n",
    "derive(y, :x)"
   ]
  },
  {
   "cell_type": "code",
   "execution_count": 15,
   "id": "otherwise-laugh",
   "metadata": {},
   "outputs": [
    {
     "data": {
      "text/plain": [
       "derive (generic function with 2 methods)"
      ]
     },
     "execution_count": 15,
     "metadata": {},
     "output_type": "execute_result"
    }
   ],
   "source": [
    "function derive(ex, x)\n",
    "  ex == x ? 1 :\n",
    "  ex isa Union{Number,Symbol} ? 0 :\n",
    "  @capture(ex, a_ + b_) ? :($(derive(a, x)) + $(derive(b, x))) :\n",
    "  @capture(ex, a_ * b_) ? :($a * $(derive(b, x)) + $b * $(derive(a, x))) :\n",
    "  @capture(ex, a_^n_Number) ? :($(derive(a, x)) * ($n * $a^$(n-1))) :\n",
    "  @capture(ex, a_ / b_) ? :($b * $(derive(a, x)) - $a * $(derive(b, x)) / $b^2) :\n",
    "  error(\"$ex is not differentiable\")\n",
    "end"
   ]
  },
  {
   "cell_type": "code",
   "execution_count": 16,
   "id": "brown-melissa",
   "metadata": {},
   "outputs": [
    {
     "data": {
      "text/plain": [
       ":((3 * (1 * (2 * x ^ 1)) + x ^ 2 * 0) + ((2 * 1 + x * 0) + 0))"
      ]
     },
     "execution_count": 16,
     "metadata": {},
     "output_type": "execute_result"
    }
   ],
   "source": [
    "y = :(3x^2 + (2x + 1))\n",
    "dy = derive(y, :x)"
   ]
  },
  {
   "cell_type": "code",
   "execution_count": 17,
   "id": "treated-dance",
   "metadata": {},
   "outputs": [
    {
     "data": {
      "text/plain": [
       "mulm (generic function with 2 methods)"
      ]
     },
     "execution_count": 17,
     "metadata": {},
     "output_type": "execute_result"
    }
   ],
   "source": [
    "addm(a, b) = a == 0 ? b : b == 0 ? a : :($a + $b)\n",
    "mulm(a, b) = 0 in (a, b) ? 0 : a == 1 ? b : b == 1 ? a : :($a * $b)\n",
    "mulm(a, b, c...) = mulm(mulm(a, b), c...)"
   ]
  },
  {
   "cell_type": "code",
   "execution_count": 18,
   "id": "conscious-sheriff",
   "metadata": {},
   "outputs": [
    {
     "data": {
      "text/plain": [
       "derive (generic function with 2 methods)"
      ]
     },
     "execution_count": 18,
     "metadata": {},
     "output_type": "execute_result"
    }
   ],
   "source": [
    "function derive(ex, x)\n",
    "  ex == x ? 1 :\n",
    "  ex isa Union{Number,Symbol} ? 0 :\n",
    "  @capture(ex, a_ + b_) ? addm(derive(a, x), derive(b, x)) :\n",
    "  @capture(ex, a_ * b_) ? addm(mulm(a, derive(b, x)), mulm(b, derive(a, x))) :\n",
    "  @capture(ex, a_^n_Number) ? mulm(derive(a, x),n,:($a^$(n-1))) :\n",
    "  @capture(ex, a_ / b_) ? :($(mulm(b, derive(a, x))) - $(mulm(a, derive(b, x))) / $b^2) :\n",
    "  error(\"$ex is not differentiable\")\n",
    "end"
   ]
  },
  {
   "cell_type": "code",
   "execution_count": 19,
   "id": "specified-northern",
   "metadata": {},
   "outputs": [
    {
     "data": {
      "text/plain": [
       ":(3 * (2 * x ^ 1) + 2)"
      ]
     },
     "execution_count": 19,
     "metadata": {},
     "output_type": "execute_result"
    }
   ],
   "source": [
    "y = :(3x^2 + (2x + 1))\n",
    "dy = derive(y, :x)"
   ]
  },
  {
   "cell_type": "code",
   "execution_count": 20,
   "id": "indirect-floating",
   "metadata": {},
   "outputs": [
    {
     "data": {
      "text/plain": [
       ":(3 * (2 * x ^ 0))"
      ]
     },
     "execution_count": 20,
     "metadata": {},
     "output_type": "execute_result"
    }
   ],
   "source": [
    "ddy = derive(dy, :x)"
   ]
  },
  {
   "cell_type": "markdown",
   "id": "controlled-boston",
   "metadata": {},
   "source": [
    "Forward Mode"
   ]
  },
  {
   "cell_type": "code",
   "execution_count": 2,
   "id": "steady-generator",
   "metadata": {},
   "outputs": [],
   "source": [
    "include(\"utils.jl\");"
   ]
  },
  {
   "cell_type": "code",
   "execution_count": 3,
   "id": "organized-bunny",
   "metadata": {},
   "outputs": [
    {
     "data": {
      "text/plain": [
       "Wengert List\n",
       "y1 = log(x)\n",
       "y2 = sin(y1)\n",
       "y3 = 5 * y2\n",
       "y4 = 1 / x\n",
       "y5 = cos(y1)\n",
       "y6 = y5 * y4\n",
       "y7 = 5 * y6\n"
      ]
     },
     "execution_count": 3,
     "metadata": {},
     "output_type": "execute_result"
    }
   ],
   "source": [
    "y = Wengert(:(5sin(log(x))))\n",
    "derive(y, :x)"
   ]
  },
  {
   "cell_type": "code",
   "execution_count": 21,
   "id": "positive-algorithm",
   "metadata": {},
   "outputs": [],
   "source": [
    "struct Dual{T<:Real} <: Real\n",
    "  x::T\n",
    "  ϵ::T\n",
    "end"
   ]
  },
  {
   "cell_type": "code",
   "execution_count": 22,
   "id": "greatest-stress",
   "metadata": {},
   "outputs": [
    {
     "data": {
      "text/plain": [
       "1 + 2ϵ"
      ]
     },
     "execution_count": 22,
     "metadata": {},
     "output_type": "execute_result"
    }
   ],
   "source": [
    "Base.show(io::IO, d::Dual) = print(io, d.x, \" + \", d.ϵ, \"ϵ\")\n",
    "Dual(1,2)"
   ]
  },
  {
   "cell_type": "code",
   "execution_count": 23,
   "id": "provincial-irish",
   "metadata": {},
   "outputs": [],
   "source": [
    "import Base: +, -, *, /\n",
    "a::Dual + b::Dual = Dual(a.x + b.x, a.ϵ + b.ϵ)\n",
    "a::Dual - b::Dual = Dual(a.x - b.x, a.ϵ - b.ϵ)\n",
    "a::Dual * b::Dual = Dual(a.x * b.x, b.x * a.ϵ + a.x * b.ϵ)\n",
    "a::Dual / b::Dual = Dual(a.x * b.x, b.x * a.ϵ - a.x * b.ϵ)\n",
    "\n",
    "Base.sin(d::Dual) = Dual(sin(d.x), d.ϵ * cos(d.x))\n",
    "Base.cos(d::Dual) = Dual(cos(d.x), - d.ϵ * sin(d.x))"
   ]
  },
  {
   "cell_type": "code",
   "execution_count": 24,
   "id": "lightweight-voluntary",
   "metadata": {},
   "outputs": [
    {
     "data": {
      "text/plain": [
       "3 + 6ϵ"
      ]
     },
     "execution_count": 24,
     "metadata": {},
     "output_type": "execute_result"
    }
   ],
   "source": [
    "Base.convert(::Type{Dual{T}}, x::Dual) where T = Dual(convert(T, x.x), convert(T, x.ϵ))\n",
    "Base.convert(::Type{Dual{T}}, x::Real) where T = Dual(convert(T, x), zero(T))\n",
    "Base.promote_rule(::Type{Dual{T}}, ::Type{R}) where {T,R} = Dual{promote_type(T,R)}\n",
    "\n",
    "Dual(1, 2) * 3"
   ]
  },
  {
   "cell_type": "code",
   "execution_count": 25,
   "id": "wanted-narrative",
   "metadata": {},
   "outputs": [
    {
     "data": {
      "text/plain": [
       "130.0 + -24.0ϵ"
      ]
     },
     "execution_count": 25,
     "metadata": {},
     "output_type": "execute_result"
    }
   ],
   "source": [
    "f(x) = x / (1 + x*x)\n",
    "\n",
    "f(Dual(5., 1.))"
   ]
  },
  {
   "cell_type": "code",
   "execution_count": 26,
   "id": "comprehensive-intro",
   "metadata": {},
   "outputs": [
    {
     "data": {
      "text/plain": [
       "-24.0"
      ]
     },
     "execution_count": 26,
     "metadata": {},
     "output_type": "execute_result"
    }
   ],
   "source": [
    "D(f, x) = f(Dual(x, one(x))).ϵ\n",
    "\n",
    "D(f, 5.)"
   ]
  },
  {
   "cell_type": "code",
   "execution_count": null,
   "id": "recognized-briefing",
   "metadata": {},
   "outputs": [],
   "source": []
  }
 ],
 "metadata": {
  "kernelspec": {
   "display_name": "Julia 1.5.3",
   "language": "julia",
   "name": "julia-1.5"
  },
  "language_info": {
   "file_extension": ".jl",
   "mimetype": "application/julia",
   "name": "julia",
   "version": "1.5.3"
  }
 },
 "nbformat": 4,
 "nbformat_minor": 5
}

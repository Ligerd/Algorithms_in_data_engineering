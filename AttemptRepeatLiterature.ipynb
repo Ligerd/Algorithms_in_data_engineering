{
 "cells": [
  {
   "cell_type": "code",
   "execution_count": 1,
   "id": "southwest-european",
   "metadata": {},
   "outputs": [],
   "source": [
    "abstract type AbstractNode end"
   ]
  },
  {
   "cell_type": "code",
   "execution_count": 2,
   "id": "received-idaho",
   "metadata": {},
   "outputs": [],
   "source": [
    "abstract type LeafNode <: AbstractNode end"
   ]
  },
  {
   "cell_type": "code",
   "execution_count": 3,
   "id": "african-virginia",
   "metadata": {},
   "outputs": [],
   "source": [
    "mutable struct Variable{T} <: LeafNode\n",
    "    value::T\n",
    "    grad::T\n",
    "\n",
    "    Variable(val::T) where T = new{T}(val)\n",
    "    Variable(val::T, grad::T) where T = new{T}(val)\n",
    "end"
   ]
  },
  {
   "cell_type": "code",
   "execution_count": 4,
   "id": "gorgeous-reduction",
   "metadata": {},
   "outputs": [],
   "source": [
    "struct Node{FT <: Function, ArgsT <: Tuple, KwargsT <: NamedTuple} <: AbstractNode\n",
    "    f::FT\n",
    "    args::ArgsT\n",
    "    kwargs::KwargsT\n",
    "end"
   ]
  },
  {
   "cell_type": "code",
   "execution_count": null,
   "id": "civil-mention",
   "metadata": {},
   "outputs": [],
   "source": [
    "import Pkg; Pkg.add(\"YAAD\")"
   ]
  },
  {
   "cell_type": "code",
   "execution_count": 16,
   "id": "cross-smith",
   "metadata": {},
   "outputs": [
    {
     "name": "stderr",
     "output_type": "stream",
     "text": [
      "WARNING: replacing module Trait.\n"
     ]
    },
    {
     "data": {
      "text/plain": [
       "Main.Trait"
      ]
     },
     "execution_count": 16,
     "metadata": {},
     "output_type": "execute_result"
    }
   ],
   "source": [
    "abstract type Operator end\n",
    "\n",
    "module Trait\n",
    "import YAAD: Operator\n",
    "\n",
    "struct Method{FT} <: Operator\n",
    "    f::FT\n",
    "end\n",
    "\n",
    "struct Broadcasted{FT} <: Operator\n",
    "    f::FT\n",
    "end\n",
    "end # Trait"
   ]
  },
  {
   "cell_type": "code",
   "execution_count": 17,
   "id": "centered-globe",
   "metadata": {},
   "outputs": [
    {
     "ename": "LoadError",
     "evalue": "\u001b[91minvalid redefinition of constant Node\u001b[39m",
     "output_type": "error",
     "traceback": [
      "\u001b[91minvalid redefinition of constant Node\u001b[39m",
      "",
      "Stacktrace:",
      " [1] top-level scope at In[17]:1",
      " [2] include_string(::Function, ::Module, ::String, ::String) at ./loading.jl:1091"
     ]
    }
   ],
   "source": [
    "struct Node{FT <: Operator, ArgsT <: Tuple, KwargsT <: NamedTuple} <: AbstractNode\n",
    "    f::FT\n",
    "    args::ArgsT\n",
    "    kwargs::KwargsT\n",
    "end"
   ]
  },
  {
   "cell_type": "code",
   "execution_count": 18,
   "id": "russian-granny",
   "metadata": {},
   "outputs": [
    {
     "data": {
      "text/plain": [
       "Node"
      ]
     },
     "execution_count": 18,
     "metadata": {},
     "output_type": "execute_result"
    }
   ],
   "source": [
    "# wrap function to Method\n",
    "Node(f::Function, args, kwargs) = Node(Trait.Method(f), args, kwargs)\n",
    "Node(op, args) = Node(op, args, NamedTuple())"
   ]
  },
  {
   "cell_type": "code",
   "execution_count": 19,
   "id": "agreed-gregory",
   "metadata": {},
   "outputs": [],
   "source": [
    "mutable struct CachedNode{NT <: AbstractNode, OutT} <: AbstractNode\n",
    "    node::NT\n",
    "    output::OutT\n",
    "end"
   ]
  },
  {
   "cell_type": "code",
   "execution_count": 20,
   "id": "interesting-marijuana",
   "metadata": {},
   "outputs": [
    {
     "data": {
      "text/plain": [
       "CachedNode"
      ]
     },
     "execution_count": 20,
     "metadata": {},
     "output_type": "execute_result"
    }
   ],
   "source": [
    "function CachedNode(f, args...; kwargs...)\n",
    "    node = Node(f, args, kwargs.data) # this constructs a Node\n",
    "    output = forward(node)\n",
    "    CachedNode(node, output)\n",
    "end"
   ]
  },
  {
   "cell_type": "code",
   "execution_count": 21,
   "id": "surprised-poverty",
   "metadata": {},
   "outputs": [
    {
     "data": {
      "text/plain": [
       "forward (generic function with 1 method)"
      ]
     },
     "execution_count": 21,
     "metadata": {},
     "output_type": "execute_result"
    }
   ],
   "source": [
    "forward(node::Node) = forward(node.f, map(forward, node.args)...; map(forward, node.kwargs)...)"
   ]
  },
  {
   "cell_type": "code",
   "execution_count": 22,
   "id": "disturbed-ecuador",
   "metadata": {},
   "outputs": [
    {
     "data": {
      "text/plain": [
       "forward (generic function with 2 methods)"
      ]
     },
     "execution_count": 22,
     "metadata": {},
     "output_type": "execute_result"
    }
   ],
   "source": [
    "struct Linear <: Operator\n",
    "  w::Matrix{Float64}\n",
    "  b::Vector{Float64}\n",
    "end\n",
    "\n",
    "forward(op::Linear, x::Vector{Float64}) = op.w * x + b"
   ]
  },
  {
   "cell_type": "code",
   "execution_count": 23,
   "id": "crazy-palestine",
   "metadata": {},
   "outputs": [
    {
     "data": {
      "text/plain": [
       "forward (generic function with 3 methods)"
      ]
     },
     "execution_count": 23,
     "metadata": {},
     "output_type": "execute_result"
    }
   ],
   "source": [
    "forward(node::CachedNode) = (node.output = forward(node.node))"
   ]
  },
  {
   "cell_type": "code",
   "execution_count": 25,
   "id": "modern-catholic",
   "metadata": {},
   "outputs": [
    {
     "ename": "LoadError",
     "evalue": "\u001b[91mTypeError: in Type{...} expression, expected UnionAll, got Type{Method}\u001b[39m",
     "output_type": "error",
     "traceback": [
      "\u001b[91mTypeError: in Type{...} expression, expected UnionAll, got Type{Method}\u001b[39m",
      "",
      "Stacktrace:",
      " [1] top-level scope at In[25]:1",
      " [2] include_string(::Function, ::Module, ::String, ::String) at ./loading.jl:1091"
     ]
    }
   ],
   "source": [
    "function forward(::Method{typeof(sin)}, x)\n",
    "  sin(x)\n",
    "end"
   ]
  },
  {
   "cell_type": "code",
   "execution_count": 26,
   "id": "iraqi-animation",
   "metadata": {},
   "outputs": [
    {
     "data": {
      "text/plain": [
       "forward (generic function with 4 methods)"
      ]
     },
     "execution_count": 26,
     "metadata": {},
     "output_type": "execute_result"
    }
   ],
   "source": [
    "forward(op::Operator, args...; kwargs...) = op.f(args...; kwargs...)"
   ]
  },
  {
   "cell_type": "code",
   "execution_count": 27,
   "id": "brazilian-clerk",
   "metadata": {},
   "outputs": [],
   "source": [
    "(op::Linear)(x::Vector) = op.w * x + b"
   ]
  },
  {
   "cell_type": "code",
   "execution_count": null,
   "id": "anonymous-healthcare",
   "metadata": {},
   "outputs": [],
   "source": []
  }
 ],
 "metadata": {
  "kernelspec": {
   "display_name": "Julia 1.5.3",
   "language": "julia",
   "name": "julia-1.5"
  },
  "language_info": {
   "file_extension": ".jl",
   "mimetype": "application/julia",
   "name": "julia",
   "version": "1.5.3"
  }
 },
 "nbformat": 4,
 "nbformat_minor": 5
}

{
 "cells": [
  {
   "cell_type": "code",
   "execution_count": 1,
   "id": "requested-variable",
   "metadata": {},
   "outputs": [],
   "source": [
    "import Base: iterate, exp, log, sin, cos, tan, +, ^, -, *, /, sqrt, convert, promote_rule, zero,max, isless\n",
    "using BenchmarkTools"
   ]
  },
  {
   "cell_type": "code",
   "execution_count": 2,
   "id": "found-offer",
   "metadata": {},
   "outputs": [],
   "source": [
    "# The elements are `value`, the result of a computation; \n",
    "# `dfdy` a storage location where the derivative of some overall \n",
    "# computation (`f(value)`) with respect to the output of this element is stored;\n",
    "\n",
    "# `parent` storing the \"parent\" locations that have been used to produce the result `value`;\n",
    "# `backpropagation!` a function that propogates the derivative `dfdy` to the\n",
    "# parents via `dfdx = dydx * dfdy` where `dydx` is the derivative of this piece\n",
    "# of the computation, `dfdy` is the derivative of the overall function with\n",
    "# respect to the output, and `dfdx` is the same for the next level up.\n",
    "mutable struct Dual{T <: Number} <: Number\n",
    "    value::T\n",
    "    dfdy::T\n",
    "    parent::Union{Dual{T}, Array{Dual{T},1}, Int, Nothing}\n",
    "    backpropagation!\n",
    "end\n",
    "# Dual(n::Integer, d::Float64, parent::Union{Dual{T}, Array{Dual{T},1}, Int, Nothing}, bp!::Any)  where {T <: Number} = Dual(promote(n, d)..., parent, bp!)\n",
    "# Dual(n::Float64, d::Integer, parent::Union{Dual{T}, Array{Dual{T},1}, Int, Nothing}, bp!::Any)  where {T <: Number} = Dual(promote(n, d)..., parent, bp!)\n"
   ]
  },
  {
   "cell_type": "code",
   "execution_count": 3,
   "id": "overall-drain",
   "metadata": {
    "scrolled": true
   },
   "outputs": [],
   "source": [
    "# x = Dual(2.0, 2, 1, (dfdy, parents) -> nothing)*  Dual(2, 2, 1, (dfdy, parents) -> nothing)\n",
    "# promote_type(Dual{Real}, Dual{Number})"
   ]
  },
  {
   "cell_type": "code",
   "execution_count": 4,
   "id": "documentary-nickel",
   "metadata": {},
   "outputs": [
    {
     "data": {
      "text/plain": [
       "convert (generic function with 190 methods)"
      ]
     },
     "execution_count": 4,
     "metadata": {},
     "output_type": "execute_result"
    }
   ],
   "source": [
    "function convert(::Type{Dual{T}}, x::T) where T <: Number\n",
    "    Dual(x, zero(T), nothing, (dfdy, parents) -> nothing)\n",
    "end\n",
    "\n",
    "# function convert(::Type{Dual{T}}, x::Dual{S}) where {T, S <: Number}\n",
    "#     Dual(T(x.value), T(x.dfdy), x.parent, x.backpropagation!)\n",
    "# end\n",
    "\n",
    "\n",
    "function convert(::Type{Dual{T}}, x::S) where {T, S <: Number}\n",
    "#     print(\"2asdsadsda\", typeof(x), \"\\n\")\n",
    "    Dual(T(x), zero(T), nothing, (dfdy, parents) -> nothing)\n",
    "end\n",
    "\n",
    "function convert(::Type{Dual{T}}, x::Dual{T}) where T\n",
    "    x\n",
    "end\n"
   ]
  },
  {
   "cell_type": "code",
   "execution_count": 5,
   "id": "distinct-reconstruction",
   "metadata": {},
   "outputs": [
    {
     "data": {
      "text/plain": [
       "zero (generic function with 23 methods)"
      ]
     },
     "execution_count": 5,
     "metadata": {},
     "output_type": "execute_result"
    }
   ],
   "source": [
    "function zero(x::Dual{T}) where T\n",
    "    Dual(zero(T), zero(T), nothing, (dfdy, parents) -> nothing)\n",
    "end"
   ]
  },
  {
   "cell_type": "code",
   "execution_count": 6,
   "id": "entitled-proportion",
   "metadata": {},
   "outputs": [
    {
     "data": {
      "text/plain": [
       "promote_rule (generic function with 127 methods)"
      ]
     },
     "execution_count": 6,
     "metadata": {},
     "output_type": "execute_result"
    }
   ],
   "source": [
    "# function promote_rule(::Type{Dual{T}}, ::Type{Dual{S}}) where {T,S}\n",
    "#     Dual{promote_type(T,S)}\n",
    "# end\n",
    "function promote_rule(::Type{Dual{T}}, ::Type{S}) where {T, S <: Number}\n",
    "    Dual{promote_type(T,S)}\n",
    "end\n",
    "\n",
    "function promote_rule(::Type{T}, ::Type{Dual{S}}) where {T <: Number, S}\n",
    "    Dual{promote_type(T,S)}\n",
    "end\n",
    "\n",
    "function promote_rule(::Type{S}, ::Type{Dual{T}}) where {S <: AbstractIrrational, T}\n",
    "    Dual{promote_type(S, T)}\n",
    "end\n"
   ]
  },
  {
   "cell_type": "code",
   "execution_count": 7,
   "id": "acceptable-aquatic",
   "metadata": {},
   "outputs": [
    {
     "data": {
      "text/plain": [
       "push_parents! (generic function with 4 methods)"
      ]
     },
     "execution_count": 7,
     "metadata": {},
     "output_type": "execute_result"
    }
   ],
   "source": [
    "function push_parents!(queue::Array{Dual{T}, 1}, ::Nothing) where T\n",
    "    # Do nothing\n",
    "end\n",
    "function push_parents!(queue::Array{Dual{T}, 1}, i::Int) where T\n",
    "    # Do nothing\n",
    "end\n",
    "function push_parents!(queue::Array{Dual{T}, 1}, ls::Array{Dual{T}, 1}) where T\n",
    "    append!(queue, ls)\n",
    "end\n",
    "function push_parents!(queue::Array{Dual{T}, 1}, l::Dual{T}) where T\n",
    "    push!(queue, l)\n",
    "end"
   ]
  },
  {
   "cell_type": "code",
   "execution_count": 8,
   "id": "approved-diagram",
   "metadata": {},
   "outputs": [
    {
     "data": {
      "text/plain": [
       "backprop! (generic function with 2 methods)"
      ]
     },
     "execution_count": 8,
     "metadata": {},
     "output_type": "execute_result"
    }
   ],
   "source": [
    "function backprop!(l::Dual{T}) where T\n",
    "    # Apparently we need this construction because otherwise l gets copied when\n",
    "    # put into the array.\n",
    "    backprop!([l])\n",
    "end\n",
    "function backprop!(queue::Array{Dual{T},1}) where T\n",
    "    while length(queue) > 0\n",
    "        l = popfirst!(queue)\n",
    "        l.backpropagation!(l.dfdy, l.parent)\n",
    "        push_parents!(queue, l.parent)\n",
    "    end\n",
    "end"
   ]
  },
  {
   "cell_type": "code",
   "execution_count": 9,
   "id": "tropical-dietary",
   "metadata": {},
   "outputs": [
    {
     "data": {
      "text/plain": [
       "collect_outputs (generic function with 1 method)"
      ]
     },
     "execution_count": 9,
     "metadata": {},
     "output_type": "execute_result"
    }
   ],
   "source": [
    "function collect_outputs(l::Dual{T}) where T\n",
    "    queue = Dual{T}[l]\n",
    "\n",
    "    outputs = Dual{T}[]\n",
    "\n",
    "    while length(queue) > 0\n",
    "        l = popfirst!(queue)\n",
    "        if typeof(l.parent) <: Int\n",
    "            push!(outputs, l)\n",
    "        elseif typeof(l.parent) == Dual{T}\n",
    "            push!(queue, l.parent)\n",
    "        elseif typeof(l.parent) == Array{Dual{T}, 1}\n",
    "            append!(queue, l.parent)\n",
    "        else # Nothing\n",
    "            # Do nothing\n",
    "        end\n",
    "    end\n",
    "\n",
    "    outputs\n",
    "end\n"
   ]
  },
  {
   "cell_type": "code",
   "execution_count": 10,
   "id": "boolean-rocket",
   "metadata": {},
   "outputs": [
    {
     "data": {
      "text/plain": [
       "derivativeСalculation (generic function with 1 method)"
      ]
     },
     "execution_count": 10,
     "metadata": {},
     "output_type": "execute_result"
    }
   ],
   "source": [
    "function derivativeСalculation(f)\n",
    "    function dfdx(x::T) where T <: Number\n",
    "        # Pass the function a backward infinitesimal whose backprop function\n",
    "        # stores the backprop derivative in dfdx_store\n",
    "#         print(\"x::T\", \"\\n\")\n",
    "\n",
    "        x = Dual(x, zero(x), 1, (dfdy, parents) -> nothing)\n",
    "\n",
    "        result = f(x)\n",
    "\n",
    "        result.dfdy = one(result.value)\n",
    "        backprop!(result)\n",
    "\n",
    "        y = collect_outputs(result)[1]\n",
    "\n",
    "        return y.dfdy\n",
    "    end\n",
    "\n",
    "    function dfdx(x::Array{T}, i) where T <: Number\n",
    "#         print(\"array\", \"\\n\")\n",
    "        fargs = [Dual(xelt, zero(xelt), i, (dfdy, parents) -> nothing) for (i, xelt) in enumerate(x)]\n",
    "        result = f(fargs)[i]\n",
    "#         println(result)\n",
    "        result.dfdy = one(result.value)\n",
    "#         println(result)\n",
    "        backprop!(result)\n",
    "        y = collect_outputs(result)\n",
    "        grad = zeros(typeof(result.value), length(x))\n",
    "        for yelt in y\n",
    "            grad[yelt.parent] = yelt.dfdy\n",
    "        end\n",
    "\n",
    "        return grad\n",
    "    end\n",
    "\n",
    "    function dfdx(x...)\n",
    "        print(\"x...\", \"\\n\")\n",
    "\n",
    "        fargs = [Dual(xelt, zero(xelt), i, (dfdy, parents) -> nothing) for (i, xelt) in enumerate(x)]\n",
    "        result = f(fargs...)\n",
    "        result.dfdy = one(result.value)\n",
    "        backprop!(result)\n",
    "        y = collect_outputs(result)\n",
    "\n",
    "        grad = zeros(typeof(result.value), length(x))\n",
    "        for yelt in y\n",
    "            grad[yelt.parent] = yelt.dfdy\n",
    "        end\n",
    "\n",
    "        return grad\n",
    "    end\n",
    "\n",
    "    return dfdx\n",
    "end"
   ]
  },
  {
   "cell_type": "code",
   "execution_count": 11,
   "id": "boring-reconstruction",
   "metadata": {},
   "outputs": [
    {
     "data": {
      "text/plain": [
       "derivativeСalculation (generic function with 2 methods)"
      ]
     },
     "execution_count": 11,
     "metadata": {},
     "output_type": "execute_result"
    }
   ],
   "source": [
    "function derivativeСalculation(i::Integer, f)\n",
    "    df = derivativeСalculation(f)\n",
    "    function df_wrapper(x...)\n",
    "        g = df(x...)\n",
    "        return g[i]\n",
    "    end\n",
    "    return df_wrapper\n",
    "end"
   ]
  },
  {
   "cell_type": "code",
   "execution_count": 12,
   "id": "religious-velvet",
   "metadata": {
    "scrolled": true
   },
   "outputs": [],
   "source": [
    "# overloading Plus\n",
    "function backpropagationForPlus!(dfdy, xy)\n",
    "    x, y = xy\n",
    "    x.dfdy += dfdy\n",
    "    y.dfdy += dfdy\n",
    "end\n",
    "\n",
    "function +(x::Dual{T}, y::Dual{T}) where T\n",
    "#     println(\"Przecieążenie +\")\n",
    "    if x == y\n",
    "#         println(\"x = y +\")\n",
    "        new_y = Dual(y.value, y.dfdy, y.parent, y.backpropagation!)\n",
    "        return Dual(x.value + y.value, zero(T), [x, new_y], backpropagationForPlus!)\n",
    "    end\n",
    "    Dual(x.value + y.value, zero(T), [x, y], backpropagationForPlus!)\n",
    "end\n",
    "\n",
    "#--------------- overloading Minus\n",
    "function backpropagationForMinus!(dfdy, xy) \n",
    "    x, y = xy\n",
    "    x.dfdy += dfdy\n",
    "    y.dfdy -= dfdy\n",
    "end\n",
    "\n",
    "function -(x::Dual{T}, y::Dual{T}) where T\n",
    "    Dual(x.value - y.value, zero(T), [x, y], backpropagationForMinus!)\n",
    "end\n",
    "\n",
    "\n",
    "\n",
    "function backpropagationForMinusOneDual!(dfdy, x)\n",
    "    x.dfdy -= dfdy\n",
    "end\n",
    "\n",
    "function -(x::Dual{T}) where T\n",
    "    Dual(-x.value, zero(T), x, backpropagationForMinusOneDual!)\n",
    "end\n",
    "\n",
    "\n",
    "#------------------- overloading Multiplication\n",
    "\n",
    "function backpropagationForMultiplication!(dfdy, xy)\n",
    "    x,y = xy\n",
    "    \n",
    "    x.dfdy += dfdy*y.value\n",
    "    y.dfdy += x.value*dfdy\n",
    "end\n",
    "\n",
    "\n",
    "function *(x::Dual{T}, y::Dual{T}) where T\n",
    "#     println(\"mnożenie\", x == y)\n",
    "#     println(x)\n",
    "#     println(y)\n",
    "    return Dual(x.value*y.value, zero(T), [x,y], backpropagationForMultiplication!)\n",
    "end\n",
    "\n",
    "\n",
    "#-------------------- overloading Dividing\n",
    "\n",
    "function /(x::Dual{T}, y::Dual{T}) where T\n",
    "    yinv = one(T)/y.value\n",
    "\n",
    "    function backpropagationForDividing!(dfdy, xy)\n",
    "        a,b = xy\n",
    "        a.dfdy += dfdy*yinv\n",
    "        b.dfdy -= a.value*dfdy*(yinv*yinv)\n",
    "    end\n",
    "    if x == y\n",
    "#         println(\"x = y /\")\n",
    "        new_y = Dual(y.value, y.dfdy, y.parent, y.backpropagation!)\n",
    "        return Dual(x.value*yinv, zero(T), [x, new_y], backpropagationForDividing!)\n",
    "    end\n",
    "    Dual(x.value*yinv, zero(T), [x,y], backpropagationForDividing!)\n",
    "end\n",
    "\n",
    "#-------------------- overloading EXP\n",
    "\n",
    "function exp(x::Dual{T}) where T\n",
    "    expValue = exp(x.value)\n",
    "\n",
    "    function bp!(dfdy, p)\n",
    "        p.dfdy += dfdy*expValue\n",
    "    end\n",
    "\n",
    "    Dual(expValue, zero(expValue), x, bp!)\n",
    "end\n",
    "\n",
    "function exp(xs::Array)\n",
    "    return [exp(x) for x in xs]\n",
    "end\n",
    "\n",
    "\n",
    "#-------------------- overloading SIN\n",
    "function sin(x::Dual{T}) where T\n",
    "    \n",
    "    function bp!(dfdy, p)\n",
    "        p.dfdy += cos(x.value)*dfdy\n",
    "    end\n",
    "\n",
    "    sx = sin(x.value)\n",
    "    Dual(sx, zero(sx), x, bp!)\n",
    "end\n",
    "\n",
    "#-------------------- overloading COS\n",
    "function cos(x::Dual{T}) where T\n",
    "    \n",
    "    function bp!(dfdy, p)\n",
    "        p.dfdy -= sin(x.value)*dfdy\n",
    "    end\n",
    "\n",
    "    cx = cos(x.value)\n",
    "    Dual(cx, zero(cx), x, bp!)\n",
    "end\n",
    "#-------------------- overloading TAN\n",
    "function tan(x::Dual{T}) where T\n",
    "    c = cos(x.value)\n",
    "    \n",
    "    function bp!(dfdy, p)\n",
    "        p.dfdy += dfdy/(c*c)\n",
    "    end\n",
    "\n",
    "    tx = tan(x.value)\n",
    "    Dual(tx, zero(tx), x, bp!)\n",
    "end\n",
    "\n",
    "#---------------------- overloading SQRT\n",
    "function sqrt(x::Dual{T}) where T\n",
    "    sqrtValue = sqrt(x.value)\n",
    "\n",
    "    function bp!(dfdy, p)\n",
    "        p.dfdy += dfdy/(2*sqrtValue)\n",
    "    end\n",
    "\n",
    "    Dual(sqrtValue, zero(sqrtValue), x, bp!)\n",
    "end\n",
    "\n",
    "#------------------ overloading ^\n",
    "function ^(a::Dual{T}, x::Dual{T}) where T\n",
    "    value = a.value^x.value\n",
    "#     println(\"potegowanie daszek\")\n",
    "    function bp!(dfdy, xy)\n",
    "        a,x = xy\n",
    "#         print(typeof(dfdy * (x.value) * (a.value)^(x.value - 1)), \" nic  \", typeof(dfdy * a.value^x.value*log(a.value)))\n",
    "        a.dfdy += dfdy * (x.value) * (a.value)^(x.value - 1)\n",
    "        x.dfdy += dfdy * a.value^x.value*log(a.value)\n",
    "    end\n",
    "\n",
    "    Dual(value, zero(value), [a, x], bp!)\n",
    "end\n",
    "\n",
    "function ^(x::Dual{T}, n::Integer) where T\n",
    "    value = x.value^n\n",
    "#     println(\"potegowanie daszek22\")\n",
    "    function bp!(dfdy, x)\n",
    "        x.dfdy += n * dfdy*x.value^(n-1)\n",
    "    end\n",
    "    \n",
    "    Dual(value, zero(value), x, bp!)\n",
    "end\n",
    "\n",
    "#------------------ overloading log\n",
    "function log(x::Dual{T}) where T\n",
    "    \n",
    "    function bp!(dfdy, p)\n",
    "        p.dfdy += dfdy/x.value\n",
    "    end\n",
    "    \n",
    "    Dual(log(x.value), zero(T), x, bp!)\n",
    "end\n",
    "#----------------------- overloading max\n",
    "function max(a, x::Dual{T}) where T\n",
    "    \n",
    "    function bp!(dfdy,p)\n",
    "        p.dfdy += x.value < a ? a : 1 * dfdy\n",
    "    end\n",
    "    \n",
    "    Dual(max(0, x.value), zero(T), x, bp!)\n",
    "    \n",
    "end\n",
    "\n",
    "\n",
    "isless(x::Dual, y::Dual) = x.value < y.value;"
   ]
  },
  {
   "cell_type": "code",
   "execution_count": 13,
   "id": "center-gazette",
   "metadata": {},
   "outputs": [
    {
     "data": {
      "text/plain": [
       "softmax (generic function with 1 method)"
      ]
     },
     "execution_count": 13,
     "metadata": {},
     "output_type": "execute_result"
    }
   ],
   "source": [
    "\n",
    "# function iterate(iter::Dual, state=1)\n",
    "# #     print(\"iterate\")\n",
    "#     if state > length(iter.x)\n",
    "#         return nothing\n",
    "#     end\n",
    "#     return (iter[state],state+1)\n",
    "# end\n",
    "\n",
    "function softmax(vector::Array)\n",
    "    e = exp(vector)\n",
    "#     e = [MathConstants.e^(x) for x in vector]\n",
    "#     s = zero(vector[1])\n",
    "#     z = [Dual(2.0, 1.0, nothing, (dfdy, parents) -> nothing), Dual(21.0, 1.0, nothing, (dfdy, parents) -> nothing)]\n",
    "#     for x in z\n",
    "#        s = s + x \n",
    "#     end    \n",
    "#     println(s, sum(e))\n",
    "    return e / sum(e)\n",
    "end"
   ]
  },
  {
   "cell_type": "code",
   "execution_count": 14,
   "id": "green-integral",
   "metadata": {},
   "outputs": [
    {
     "data": {
      "text/plain": [
       "jacobian (generic function with 1 method)"
      ]
     },
     "execution_count": 14,
     "metadata": {},
     "output_type": "execute_result"
    }
   ],
   "source": [
    "J = function jacobian(f, number_of_functions, args::Vector{T}) where {T <:Number}\n",
    "    jacobian_rows = Matrix{T}[]\n",
    "    d = derivativeСalculation(f)  \n",
    "    for i=1:number_of_functions\n",
    "#         x = Dual{T}[]\n",
    "#         for j=1:length(args)\n",
    "#             seed = (i == j)\n",
    "#             push!(x, seed ?\n",
    "#                 Dual(args[j], one(args[j])) :\n",
    "#                 Dual(args[j],zero(args[j])) )\n",
    "#         end\n",
    "#         temp  = [f(x)..]\n",
    "        rows = d(args,i)\n",
    "        push!(jacobian_rows, rows[:,:])\n",
    "    end\n",
    "    jacobian_rows\n",
    "end"
   ]
  },
  {
   "cell_type": "code",
   "execution_count": 15,
   "id": "fitting-drawing",
   "metadata": {},
   "outputs": [
    {
     "data": {
      "text/plain": [
       "test (generic function with 1 method)"
      ]
     },
     "execution_count": 15,
     "metadata": {},
     "output_type": "execute_result"
    }
   ],
   "source": [
    "function test(a, x)\n",
    "    return a*x\n",
    "end"
   ]
  },
  {
   "cell_type": "code",
   "execution_count": 16,
   "id": "encouraging-termination",
   "metadata": {},
   "outputs": [
    {
     "data": {
      "text/plain": [
       "(::var\"#dfdx#12\"{typeof(test)}) (generic function with 3 methods)"
      ]
     },
     "execution_count": 16,
     "metadata": {},
     "output_type": "execute_result"
    }
   ],
   "source": [
    "d = derivativeСalculation(test)"
   ]
  },
  {
   "cell_type": "code",
   "execution_count": 17,
   "id": "available-willow",
   "metadata": {
    "scrolled": true
   },
   "outputs": [
    {
     "name": "stdout",
     "output_type": "stream",
     "text": [
      "x...\n"
     ]
    },
    {
     "data": {
      "text/plain": [
       "2-element Vector{Int64}:\n",
       " 3\n",
       " 2"
      ]
     },
     "execution_count": 17,
     "metadata": {},
     "output_type": "execute_result"
    }
   ],
   "source": [
    "d(2, 3)"
   ]
  },
  {
   "cell_type": "code",
   "execution_count": 18,
   "id": "republican-boxing",
   "metadata": {},
   "outputs": [
    {
     "data": {
      "text/plain": [
       "f (generic function with 1 method)"
      ]
     },
     "execution_count": 18,
     "metadata": {},
     "output_type": "execute_result"
    }
   ],
   "source": [
    "# f(x::Vector) = [2x[1]*x[2], 3x[2]*x[3]^2]\n",
    "f(x::Vector) = [x[1], 5/x[3], 4x[2]^2-2x[3], x[3]*sin(x[1]), exp(x[1])/sum(x), x[1]^2 - x[2]^3 - 88]\n"
   ]
  },
  {
   "cell_type": "code",
   "execution_count": 20,
   "id": "pacific-niger",
   "metadata": {},
   "outputs": [
    {
     "data": {
      "text/plain": [
       "3-element Vector{Float64}:\n",
       "  0.37753914284153406\n",
       " -0.0755078285683068\n",
       " -0.0755078285683068"
      ]
     },
     "execution_count": 20,
     "metadata": {},
     "output_type": "execute_result"
    }
   ],
   "source": [
    "# f(x::Vector) = x[1]*x[2]*x[3]\n",
    "d = derivativeСalculation(f)\n",
    "d([1.0,2.0,3.0], 5)"
   ]
  },
  {
   "cell_type": "code",
   "execution_count": 21,
   "id": "agricultural-expression",
   "metadata": {},
   "outputs": [
    {
     "data": {
      "text/plain": [
       "5-element Vector{Matrix{Float64}}:\n",
       " [1.0; 0.0; 0.0]\n",
       " [0.0; 0.0; -0.5555555555555556]\n",
       " [0.0; 16.0; -2.0]\n",
       " [1.6209069176044193; 0.0; 0.8414709848078965]\n",
       " [0.37753914284153406; -0.0755078285683068; -0.0755078285683068]"
      ]
     },
     "execution_count": 21,
     "metadata": {},
     "output_type": "execute_result"
    }
   ],
   "source": [
    "J(f,5,[1.,2., 3.]) \n"
   ]
  },
  {
   "cell_type": "code",
   "execution_count": 22,
   "id": "convenient-failing",
   "metadata": {
    "scrolled": false
   },
   "outputs": [
    {
     "data": {
      "text/plain": [
       "2-element Vector{Matrix{Float64}}:\n",
       " [0.46555335461147695; -0.19661193324148185]\n",
       " [-0.19661193324148188; 0.9276705118714866]"
      ]
     },
     "execution_count": 22,
     "metadata": {},
     "output_type": "execute_result"
    }
   ],
   "source": [
    "J(softmax,2,[1., 2.]) "
   ]
  },
  {
   "cell_type": "code",
   "execution_count": 23,
   "id": "twenty-wisconsin",
   "metadata": {},
   "outputs": [
    {
     "data": {
      "text/plain": [
       "3-element Vector{Dual{Float64}}:\n",
       " Dual{Float64}(2.0, 0.0, nothing, nothing)\n",
       " Dual{Float64}(2.0, 0.0, nothing, nothing)\n",
       " Dual{Float64}(2.0, 0.0, nothing, nothing)"
      ]
     },
     "execution_count": 23,
     "metadata": {},
     "output_type": "execute_result"
    }
   ],
   "source": [
    "x = [Dual(1.0, 0.0, nothing, nothing), Dual(2.0, 0.0, nothing, nothing), Dual(3.0, 0.0, nothing, nothing)]\n",
    "y = [Dual(2.0, 0.0, nothing, nothing), Dual(2.0, 0.0, nothing, nothing), Dual(2.0, 0.0, nothing, nothing)]\n"
   ]
  },
  {
   "cell_type": "code",
   "execution_count": 24,
   "id": "asian-toolbox",
   "metadata": {},
   "outputs": [
    {
     "data": {
      "text/plain": [
       "Dual{Float64}(6.0, 0.0, Dual{Float64}[Dual{Float64}(3.0, 0.0, Dual{Float64}[Dual{Float64}(1.0, 0.0, nothing, nothing), Dual{Float64}(2.0, 0.0, nothing, nothing)], backpropagationForPlus!), Dual{Float64}(3.0, 0.0, nothing, nothing)], backpropagationForPlus!)"
      ]
     },
     "execution_count": 24,
     "metadata": {},
     "output_type": "execute_result"
    }
   ],
   "source": [
    "sum(x)\n"
   ]
  },
  {
   "cell_type": "code",
   "execution_count": 25,
   "id": "efficient-details",
   "metadata": {
    "scrolled": true
   },
   "outputs": [
    {
     "data": {
      "text/plain": [
       "sa (generic function with 1 method)"
      ]
     },
     "execution_count": 25,
     "metadata": {},
     "output_type": "execute_result"
    }
   ],
   "source": [
    "sa(x) = sin.(x.*x)\n"
   ]
  },
  {
   "cell_type": "code",
   "execution_count": 26,
   "id": "constant-therapist",
   "metadata": {},
   "outputs": [
    {
     "data": {
      "text/plain": [
       "2-element Vector{Float64}:\n",
       " -0.7568024953079282\n",
       "  0.4121184852417566"
      ]
     },
     "execution_count": 26,
     "metadata": {},
     "output_type": "execute_result"
    }
   ],
   "source": [
    "sa([2, 3])"
   ]
  },
  {
   "cell_type": "code",
   "execution_count": 27,
   "id": "advanced-deposit",
   "metadata": {},
   "outputs": [
    {
     "data": {
      "text/plain": [
       "3-element Vector{Matrix{Float64}}:\n",
       " [1.0806046117362795; 0.0; 0.0]\n",
       " [0.0; -2.6145744834544478; 0.0]\n",
       " [0.0; 0.0; -5.466781571308061]"
      ]
     },
     "execution_count": 27,
     "metadata": {},
     "output_type": "execute_result"
    }
   ],
   "source": [
    "#J(s,3, [1., 2., 3.]) \n",
    "d = derivativeСalculation(sa)\n",
    "J(sa,3, [1., 2., 3.]) "
   ]
  },
  {
   "cell_type": "code",
   "execution_count": 28,
   "id": "little-oklahoma",
   "metadata": {},
   "outputs": [
    {
     "data": {
      "text/plain": [
       "2-element Vector{Float64}:\n",
       " 0.2689414213699951\n",
       " 0.7310585786300049"
      ]
     },
     "execution_count": 28,
     "metadata": {},
     "output_type": "execute_result"
    }
   ],
   "source": [
    "softmax([1,2])\n"
   ]
  },
  {
   "cell_type": "code",
   "execution_count": 28,
   "id": "considered-commodity",
   "metadata": {},
   "outputs": [
    {
     "data": {
      "text/plain": [
       "rosenbrock (generic function with 1 method)"
      ]
     },
     "execution_count": 28,
     "metadata": {},
     "output_type": "execute_result"
    }
   ],
   "source": [
    "function rosenbrock(x)\n",
    "    value = zero(x[1])\n",
    "#     value = (1-x[1])^2 + 100*(x[2] - x[1]^2)^2\n",
    "    for i=2:length(x)\n",
    "        value += (1-x[i-1])^2 + 100*(x[i] - x[i-1]^2)^2\n",
    "    end\n",
    "    value\n",
    "end"
   ]
  },
  {
   "cell_type": "code",
   "execution_count": 29,
   "id": "differential-tyler",
   "metadata": {},
   "outputs": [
    {
     "ename": "LoadError",
     "evalue": "\u001b[91mUndefVarError: rosenbrocka not defined\u001b[39m",
     "output_type": "error",
     "traceback": [
      "\u001b[91mUndefVarError: rosenbrocka not defined\u001b[39m",
      "",
      "Stacktrace:",
      " [1] top-level scope at In[29]:1",
      " [2] include_string(::Function, ::Module, ::String, ::String) at ./loading.jl:1091"
     ]
    }
   ],
   "source": [
    "rosenbrocka([1.0,2.0])"
   ]
  },
  {
   "cell_type": "code",
   "execution_count": 30,
   "id": "differential-handy",
   "metadata": {},
   "outputs": [
    {
     "data": {
      "text/plain": [
       "(::var\"#dfdx#12\"{typeof(rosenbrock)}) (generic function with 3 methods)"
      ]
     },
     "execution_count": 30,
     "metadata": {},
     "output_type": "execute_result"
    }
   ],
   "source": [
    "d = D(rosenbrock)"
   ]
  },
  {
   "cell_type": "code",
   "execution_count": 37,
   "id": "interim-attachment",
   "metadata": {},
   "outputs": [
    {
     "data": {
      "text/plain": [
       "BenchmarkTools.Trial: \n",
       "  memory estimate:  1.46 MiB\n",
       "  allocs estimate:  41485\n",
       "  --------------\n",
       "  minimum time:     1.957 ms (0.00% GC)\n",
       "  median time:      2.285 ms (0.00% GC)\n",
       "  mean time:        2.466 ms (6.31% GC)\n",
       "  maximum time:     10.538 ms (74.39% GC)\n",
       "  --------------\n",
       "  samples:          2022\n",
       "  evals/sample:     1"
      ]
     },
     "execution_count": 37,
     "metadata": {},
     "output_type": "execute_result"
    }
   ],
   "source": [
    "@benchmark J(rosenbrock,1,[rand(1000,1)...]) "
   ]
  },
  {
   "cell_type": "code",
   "execution_count": 45,
   "id": "identical-radius",
   "metadata": {},
   "outputs": [
    {
     "data": {
      "text/plain": [
       "BenchmarkTools.Trial: \n",
       "  memory estimate:  18.81 KiB\n",
       "  allocs estimate:  352\n",
       "  --------------\n",
       "  minimum time:     9.757 μs (0.00% GC)\n",
       "  median time:      10.883 μs (0.00% GC)\n",
       "  mean time:        14.050 μs (13.66% GC)\n",
       "  maximum time:     5.139 ms (99.48% GC)\n",
       "  --------------\n",
       "  samples:          10000\n",
       "  evals/sample:     1"
      ]
     },
     "execution_count": 45,
     "metadata": {},
     "output_type": "execute_result"
    }
   ],
   "source": [
    "f(x::Vector) = [x[1], 5/x[3], 4x[2]^2-2x[3], x[3]*sin(x[1]), exp(x[1])/sum(x), x[1]^2 - x[2]^3 - 88]\n",
    "@benchmark J(f,6,[rand(3,1)...]) "
   ]
  },
  {
   "cell_type": "code",
   "execution_count": 29,
   "id": "floppy-olympus",
   "metadata": {},
   "outputs": [
    {
     "data": {
      "text/plain": [
       "6-element Vector{Matrix{Float64}}:\n",
       " [1.0; 0.0; 0.0]\n",
       " [0.0; 0.0; -2.0913263714842668e-6]\n",
       " [0.0; 17.6; -2.0]\n",
       " [-1501.3246436992515; 0.0; 0.23924932921398243]\n",
       " [0.011707650961926682; -7.55171541667044e-6; -7.55171541667044e-6]\n",
       " [5.8; -14.520000000000003; 0.0]"
      ]
     },
     "execution_count": 29,
     "metadata": {},
     "output_type": "execute_result"
    }
   ],
   "source": [
    "f(x::Vector) = [x[1], 5/x[3], 4x[2]^2-2x[3], x[3]*sin(x[1]), exp(x[1])/sum(x), x[1]^2 - x[2]^3 - 88]\n",
    "J(f,6,[2.9,2.2,1546.23]) \n"
   ]
  },
  {
   "cell_type": "code",
   "execution_count": null,
   "id": "eight-litigation",
   "metadata": {},
   "outputs": [],
   "source": []
  }
 ],
 "metadata": {
  "kernelspec": {
   "display_name": "Julia 1.6.0",
   "language": "julia",
   "name": "julia-1.6"
  },
  "language_info": {
   "file_extension": ".jl",
   "mimetype": "application/julia",
   "name": "julia",
   "version": "1.6.0"
  }
 },
 "nbformat": 4,
 "nbformat_minor": 5
}

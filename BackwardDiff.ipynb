{
 "cells": [
  {
   "cell_type": "code",
   "execution_count": 1,
   "id": "requested-variable",
   "metadata": {},
   "outputs": [],
   "source": [
    "import Base: iterate, exp, log, sin, cos, tan, +, ^, -, *, /, sqrt, convert, promote_rule, zero,max, isless\n"
   ]
  },
  {
   "cell_type": "code",
   "execution_count": 2,
   "id": "found-offer",
   "metadata": {},
   "outputs": [],
   "source": [
    "# This is the structure that stores the autodiff information.  The name is\n",
    "# `Infinitesimal` spelled backward.  The elements are `x`, the result of a\n",
    "# computation; `dfdy` a storage location where the derivative of some overall\n",
    "# computation (`f(x)`) with respect to the output of this element is stored;\n",
    "# `parent` storing the \"parent\" locations that have been used to produce the\n",
    "# result `x`; and `bp!` a function that propogates the derivative `dfdy` to the\n",
    "# parents via `dfdx = dydx * dfdy` where `dydx` is the derivative of this piece\n",
    "# of the computation, `dfdy` is the derivative of the overall function with\n",
    "# respect to the output, and `dfdx` is the same for the next level up.\n",
    "mutable struct Dual{T <: Number} <: Number\n",
    "    x::T\n",
    "    dfdy::T\n",
    "    parent::Union{Dual{T}, Array{Dual{T},1}, Int, Nothing}\n",
    "    bp!\n",
    "end\n",
    "# Dual(n::Integer, d::Float64, parent::Union{Dual{T}, Array{Dual{T},1}, Int, Nothing}, bp!::Any)  where {T <: Number} = Dual(promote(n, d)..., parent, bp!)\n",
    "# Dual(n::Float64, d::Integer, parent::Union{Dual{T}, Array{Dual{T},1}, Int, Nothing}, bp!::Any)  where {T <: Number} = Dual(promote(n, d)..., parent, bp!)\n"
   ]
  },
  {
   "cell_type": "code",
   "execution_count": 3,
   "id": "overall-drain",
   "metadata": {
    "scrolled": true
   },
   "outputs": [],
   "source": [
    "# x = Dual(2.0, 2, 1, (dfdy, parents) -> nothing)*  Dual(2, 2, 1, (dfdy, parents) -> nothing)\n",
    "# promote_type(Dual{Real}, Dual{Number})"
   ]
  },
  {
   "cell_type": "code",
   "execution_count": 4,
   "id": "documentary-nickel",
   "metadata": {},
   "outputs": [
    {
     "data": {
      "text/plain": [
       "convert (generic function with 186 methods)"
      ]
     },
     "execution_count": 4,
     "metadata": {},
     "output_type": "execute_result"
    }
   ],
   "source": [
    "function convert(::Type{Dual{T}}, x::T) where T <: Number\n",
    "    Dual(x, zero(T), nothing, (dfdy, parents) -> nothing)\n",
    "end\n",
    "\n",
    "# function convert(::Type{Dual{T}}, x::Dual{S}) where {T, S <: Number}\n",
    "#     Dual(T(x.x), T(x.dfdy), x.parent, x.bp!)\n",
    "# end\n",
    "\n",
    "\n",
    "function convert(::Type{Dual{T}}, x::S) where {T, S <: Number}\n",
    "    print(\"2asdsadsda\", typeof(x), \"\\n\")\n",
    "    Dual(T(x), zero(T), nothing, (dfdy, parents) -> nothing)\n",
    "end\n",
    "\n",
    "function convert(::Type{Dual{T}}, x::Dual{T}) where T\n",
    "    x\n",
    "end\n"
   ]
  },
  {
   "cell_type": "code",
   "execution_count": 5,
   "id": "distinct-reconstruction",
   "metadata": {},
   "outputs": [
    {
     "data": {
      "text/plain": [
       "zero (generic function with 23 methods)"
      ]
     },
     "execution_count": 5,
     "metadata": {},
     "output_type": "execute_result"
    }
   ],
   "source": [
    "function zero(x::Dual{T}) where T\n",
    "    Dual(zero(T), zero(T), nothing, (dfdy, parents) -> nothing)\n",
    "end"
   ]
  },
  {
   "cell_type": "code",
   "execution_count": 6,
   "id": "entitled-proportion",
   "metadata": {},
   "outputs": [
    {
     "data": {
      "text/plain": [
       "promote_rule (generic function with 125 methods)"
      ]
     },
     "execution_count": 6,
     "metadata": {},
     "output_type": "execute_result"
    }
   ],
   "source": [
    "# function promote_rule(::Type{Dual{T}}, ::Type{Dual{S}}) where {T,S}\n",
    "#     Dual{promote_type(T,S)}\n",
    "# end\n",
    "function promote_rule(::Type{Dual{T}}, ::Type{S}) where {T, S <: Number}\n",
    "    Dual{promote_type(T,S)}\n",
    "end\n",
    "\n",
    "function promote_rule(::Type{T}, ::Type{Dual{S}}) where {T <: Number, S}\n",
    "    Dual{promote_type(T,S)}\n",
    "end\n",
    "\n",
    "function promote_rule(::Type{S}, ::Type{Dual{T}}) where {S <: AbstractIrrational, T}\n",
    "    Dual{promote_type(S, T)}\n",
    "end\n"
   ]
  },
  {
   "cell_type": "code",
   "execution_count": 7,
   "id": "acceptable-aquatic",
   "metadata": {},
   "outputs": [
    {
     "data": {
      "text/plain": [
       "push_parents! (generic function with 4 methods)"
      ]
     },
     "execution_count": 7,
     "metadata": {},
     "output_type": "execute_result"
    }
   ],
   "source": [
    "function push_parents!(queue::Array{Dual{T}, 1}, ::Nothing) where T\n",
    "    # Do nothing\n",
    "end\n",
    "function push_parents!(queue::Array{Dual{T}, 1}, i::Int) where T\n",
    "    # Do nothing\n",
    "end\n",
    "function push_parents!(queue::Array{Dual{T}, 1}, ls::Array{Dual{T}, 1}) where T\n",
    "    append!(queue, ls)\n",
    "end\n",
    "function push_parents!(queue::Array{Dual{T}, 1}, l::Dual{T}) where T\n",
    "    push!(queue, l)\n",
    "end"
   ]
  },
  {
   "cell_type": "code",
   "execution_count": 8,
   "id": "approved-diagram",
   "metadata": {},
   "outputs": [
    {
     "data": {
      "text/plain": [
       "backprop! (generic function with 2 methods)"
      ]
     },
     "execution_count": 8,
     "metadata": {},
     "output_type": "execute_result"
    }
   ],
   "source": [
    "function backprop!(l::Dual{T}) where T\n",
    "    # Apparently we need this construction because otherwise l gets copied when\n",
    "    # put into the array.\n",
    "    backprop!([l])\n",
    "end\n",
    "function backprop!(queue::Array{Dual{T},1}) where T\n",
    "    while length(queue) > 0\n",
    "        l = popfirst!(queue)\n",
    "        l.bp!(l.dfdy, l.parent)\n",
    "        push_parents!(queue, l.parent)\n",
    "    end\n",
    "end"
   ]
  },
  {
   "cell_type": "code",
   "execution_count": 9,
   "id": "tropical-dietary",
   "metadata": {},
   "outputs": [
    {
     "data": {
      "text/plain": [
       "collect_outputs (generic function with 1 method)"
      ]
     },
     "execution_count": 9,
     "metadata": {},
     "output_type": "execute_result"
    }
   ],
   "source": [
    "function collect_outputs(l::Dual{T}) where T\n",
    "    queue = Dual{T}[l]\n",
    "\n",
    "    outputs = Dual{T}[]\n",
    "\n",
    "    while length(queue) > 0\n",
    "        l = popfirst!(queue)\n",
    "        if typeof(l.parent) <: Int\n",
    "            push!(outputs, l)\n",
    "        elseif typeof(l.parent) == Dual{T}\n",
    "            push!(queue, l.parent)\n",
    "        elseif typeof(l.parent) == Array{Dual{T}, 1}\n",
    "            append!(queue, l.parent)\n",
    "        else # Nothing\n",
    "            # Do nothing\n",
    "        end\n",
    "    end\n",
    "\n",
    "    outputs\n",
    "end\n"
   ]
  },
  {
   "cell_type": "code",
   "execution_count": 10,
   "id": "boolean-rocket",
   "metadata": {},
   "outputs": [
    {
     "data": {
      "text/plain": [
       "D"
      ]
     },
     "execution_count": 10,
     "metadata": {},
     "output_type": "execute_result"
    }
   ],
   "source": [
    "\"\"\"    D([i], f)\n",
    "\n",
    "Returns a function that computes the derivative of `f` (if it is\n",
    "single-argument) or the gradient of `f` (if it is multi-argument or takes a\n",
    "structured argument).  If `i` is given returns the `i`th component of the\n",
    "gradient (though this does not reduce the cost with backprop).\n",
    "\n",
    "Currently works only for `f` with scalar outputs.  Also, note that the autodiff\n",
    "will fail unless the output type is identical to the input type (the code\n",
    "automatically converts constants and non-differentiated expressions to the\n",
    "appropriate type---only the input and output type of the function needs to\n",
    "match).\n",
    "\n",
    "So, for example, `D(cos)(3)` will fail (because the output type is `Float64` not\n",
    "`Int`), while `D(cos)(3.0)` will work fine and return `-sin(3.0)`.\n",
    "\n",
    "\"\"\"\n",
    "function D(f)\n",
    "    function dfdx(x::T) where T <: Number\n",
    "        # Pass the function a backward infinitesimal whose backprop function\n",
    "        # stores the backprop derivative in dfdx_store\n",
    "        print(\"x::T\", \"\\n\")\n",
    "\n",
    "        x = Dual(x, zero(x), 1, (dfdy, parents) -> nothing)\n",
    "\n",
    "        result = f(x)\n",
    "\n",
    "        result.dfdy = one(result.x)\n",
    "        backprop!(result)\n",
    "\n",
    "        y = collect_outputs(result)[1]\n",
    "\n",
    "        return y.dfdy\n",
    "    end\n",
    "\n",
    "    function dfdx(x::Array{T}, i) where T <: Number\n",
    "        print(\"array\", \"\\n\")\n",
    "        fargs = [Dual(xelt, zero(xelt), i, (dfdy, parents) -> nothing) for (i, xelt) in enumerate(x)]\n",
    "        result = f(fargs)[i]\n",
    "#         println(result)\n",
    "        result.dfdy = one(result.x)\n",
    "        println(result)\n",
    "        backprop!(result)\n",
    "        y = collect_outputs(result)\n",
    "        grad = zeros(typeof(result.x), length(x))\n",
    "        for yelt in y\n",
    "            grad[yelt.parent] = yelt.dfdy\n",
    "        end\n",
    "\n",
    "        return grad\n",
    "    end\n",
    "\n",
    "    function dfdx(x...)\n",
    "        print(\"x...\", \"\\n\")\n",
    "\n",
    "        fargs = [Dual(xelt, zero(xelt), i, (dfdy, parents) -> nothing) for (i, xelt) in enumerate(x)]\n",
    "        result = f(fargs...)\n",
    "        result.dfdy = one(result.x)\n",
    "        backprop!(result)\n",
    "        y = collect_outputs(result)\n",
    "\n",
    "        grad = zeros(typeof(result.x), length(x))\n",
    "        for yelt in y\n",
    "            grad[yelt.parent] = yelt.dfdy\n",
    "        end\n",
    "\n",
    "        return grad\n",
    "    end\n",
    "\n",
    "    return dfdx\n",
    "end"
   ]
  },
  {
   "cell_type": "code",
   "execution_count": 11,
   "id": "boring-reconstruction",
   "metadata": {},
   "outputs": [
    {
     "data": {
      "text/plain": [
       "D (generic function with 2 methods)"
      ]
     },
     "execution_count": 11,
     "metadata": {},
     "output_type": "execute_result"
    }
   ],
   "source": [
    "function D(i::Integer, f)\n",
    "    df = D(f)\n",
    "    function df_wrapper(x...)\n",
    "        g = df(x...)\n",
    "        return g[i]\n",
    "    end\n",
    "    return df_wrapper\n",
    "end"
   ]
  },
  {
   "cell_type": "code",
   "execution_count": 12,
   "id": "religious-velvet",
   "metadata": {
    "scrolled": true
   },
   "outputs": [],
   "source": [
    "function bpp!(dfdy, xy)\n",
    "    x, y = xy\n",
    "    x.dfdy += dfdy\n",
    "    y.dfdy += dfdy\n",
    "end\n",
    "\n",
    "function +(x::Dual{T}, y::Dual{T}) where T\n",
    "    println(\"Przecieążenie +\")\n",
    "    if x == y\n",
    "        new_y = Dual(y.x, y.dfdy, y.parent, y.bp!)\n",
    "        return Dual(x.x + y.x, zero(T), [x, new_y], bpp!)\n",
    "    end\n",
    "    Dual(x.x + y.x, zero(T), [x, y], bpp!)\n",
    "end\n",
    "\n",
    "function bpm!(dfdy, xy) \n",
    "    x, y = xy\n",
    "    x.dfdy += dfdy\n",
    "    y.dfdy -= dfdy\n",
    "end\n",
    "function -(x::Dual{T}, y::Dual{T}) where T\n",
    "    Dual(x.x - y.x, zero(T), [x, y], bpm!)\n",
    "end\n",
    "\n",
    "function bpum!(dfdy, x)\n",
    "    x.dfdy -= dfdy\n",
    "end\n",
    "function -(x::Dual{T}) where T\n",
    "    Dual(-x.x, zero(T), x, bpum!)\n",
    "end\n",
    "\n",
    "function bpt!(dfdy, xy)\n",
    "    x,y = xy\n",
    "    x.dfdy += dfdy*y.x\n",
    "    y.dfdy += x.x*dfdy\n",
    "end\n",
    "function *(x::Dual{T}, y::Dual{T}) where T\n",
    "    println(\"mnożenie\", x == y)\n",
    "    println(x)\n",
    "    println(y)\n",
    "    if x == y\n",
    "        new_y = Dual(y.x, y.dfdy, y.parent, y.bp!)\n",
    "        return Dual(x.x*y.x, zero(T), [x, new_y], bpt!)\n",
    "    end\n",
    "    return Dual(x.x*y.x, zero(T), [x,y], bpt!)\n",
    "end\n",
    "\n",
    "function /(x::Dual{T}, y::Dual{T}) where T\n",
    "    yinv = one(T)/y.x\n",
    "\n",
    "    function bp!(dfdy, xy)\n",
    "        a,b = xy\n",
    "        a.dfdy += dfdy*yinv\n",
    "        b.dfdy -= a.x*dfdy*(yinv*yinv)\n",
    "    end\n",
    "    if x == y\n",
    "        new_y = Dual(y.x, y.dfdy, y.parent, y.bp!)\n",
    "        return Dual(x.x*yinv, zero(T), [x, new_y], bp!)\n",
    "    end\n",
    "    Dual(x.x*yinv, zero(T), [x,y], bp!)\n",
    "end\n",
    "\n",
    "function exp(x::Dual{T}) where T\n",
    "    expx = exp(x.x)\n",
    "\n",
    "    function bp!(dfdy, p)\n",
    "        p.dfdy += dfdy*expx\n",
    "    end\n",
    "\n",
    "    Dual(expx, zero(expx), x, bp!)\n",
    "end\n",
    "\n",
    "function exp(xs::Array)\n",
    "    return [exp(x) for x in xs]\n",
    "end\n",
    "\n",
    "function sin(x::Dual{T}) where T\n",
    "    function bp!(dfdy, p)\n",
    "        p.dfdy += cos(x.x)*dfdy\n",
    "    end\n",
    "\n",
    "    sx = sin(x.x)\n",
    "    Dual(sx, zero(sx), x, bp!)\n",
    "end\n",
    "\n",
    "function cos(x::Dual{T}) where T\n",
    "    function bp!(dfdy, p)\n",
    "        p.dfdy -= sin(x.x)*dfdy\n",
    "    end\n",
    "\n",
    "    cx = cos(x.x)\n",
    "    Dual(cx, zero(cx), x, bp!)\n",
    "end\n",
    "\n",
    "function tan(x::Dual{T}) where T\n",
    "    c = cos(x.x)\n",
    "    function bp!(dfdy, p)\n",
    "        p.dfdy += dfdy/(c*c)\n",
    "    end\n",
    "\n",
    "    tx = tan(x.x)\n",
    "    Dual(tx, zero(tx), x, bp!)\n",
    "end\n",
    "\n",
    "function sqrt(x::Dual{T}) where T\n",
    "    sqrtx = sqrt(x.x)\n",
    "\n",
    "    function bp!(dfdy, p)\n",
    "        p.dfdy += dfdy/(2*sqrtx)\n",
    "    end\n",
    "\n",
    "    Dual(sqrtx, zero(sqrtx), x, bp!)\n",
    "end\n",
    "\n",
    "function ^(a::Dual{T}, x::Dual{T}) where T\n",
    "    value = a.x^x.x\n",
    "    println(\"potegowanie daszek\")\n",
    "    function bp!(dfdy, xy)\n",
    "        a,x = xy\n",
    "        print(typeof(dfdy * (x.x) * (a.x)^(x.x - 1)), \" nic  \", typeof(dfdy * a.x^x.x*log(a.x)))\n",
    "        a.dfdy += dfdy * (x.x) * (a.x)^(x.x - 1)\n",
    "        x.dfdy += dfdy * a.x^x.x*log(a.x)\n",
    "    end\n",
    "\n",
    "    Dual(value, zero(value), [a, x], bp!)\n",
    "end\n",
    "\n",
    "function log(x::Dual{T}) where T\n",
    "    function bp!(dfdy, p)\n",
    "        p.dfdy += dfdy/x.x\n",
    "    end\n",
    "    Dual(log(x.x), zero(T), x, bp!)\n",
    "end\n",
    "\n",
    "function max(a, x::Dual{T}) where T\n",
    "    function bp!(dfdy,p)\n",
    "        p.dfdy += x.x < a ? a : 1 * dfdy\n",
    "    end\n",
    "    Dual(max(0, x.x), zero(T), x, bp!)\n",
    "    \n",
    "\n",
    "end\n",
    "\n",
    "\n",
    "isless(x::Dual, y::Dual) = x.x < y.x;"
   ]
  },
  {
   "cell_type": "code",
   "execution_count": 13,
   "id": "center-gazette",
   "metadata": {},
   "outputs": [
    {
     "data": {
      "text/plain": [
       "softmax (generic function with 1 method)"
      ]
     },
     "execution_count": 13,
     "metadata": {},
     "output_type": "execute_result"
    }
   ],
   "source": [
    "function iterate(iter::Dual, state=1)\n",
    "    print(\"iterate\")\n",
    "    if state > length(iter.x)\n",
    "        return nothing\n",
    "    end\n",
    "    return (iter[state],state+1)\n",
    "end\n",
    "\n",
    "function softmax(vector::Array)\n",
    "    e = exp(vector)\n",
    "#     e = [MathConstants.e^(x) for x in vector]\n",
    "#     s = zero(vector[1])\n",
    "#     z = [Dual(2.0, 1.0, nothing, (dfdy, parents) -> nothing), Dual(21.0, 1.0, nothing, (dfdy, parents) -> nothing)]\n",
    "#     for x in z\n",
    "#        s = s + x \n",
    "#     end    \n",
    "#     println(s, sum(e))\n",
    "    return e / sum(e)\n",
    "end"
   ]
  },
  {
   "cell_type": "code",
   "execution_count": 14,
   "id": "green-integral",
   "metadata": {},
   "outputs": [
    {
     "data": {
      "text/plain": [
       "jacobian (generic function with 1 method)"
      ]
     },
     "execution_count": 14,
     "metadata": {},
     "output_type": "execute_result"
    }
   ],
   "source": [
    "J = function jacobian(f, number_of_functions, args::Vector{T}) where {T <:Number}\n",
    "    jacobian_rows = Matrix{T}[]\n",
    "    d = D(f)  \n",
    "    for i=1:number_of_functions\n",
    "#         x = Dual{T}[]\n",
    "#         for j=1:length(args)\n",
    "#             seed = (i == j)\n",
    "#             push!(x, seed ?\n",
    "#                 Dual(args[j], one(args[j])) :\n",
    "#                 Dual(args[j],zero(args[j])) )\n",
    "#         end\n",
    "#         temp  = [f(x)..]\n",
    "        rows = d(args,i)\n",
    "        push!(jacobian_rows, rows[:,:])\n",
    "    end\n",
    "    jacobian_rows\n",
    "end"
   ]
  },
  {
   "cell_type": "code",
   "execution_count": 15,
   "id": "fitting-drawing",
   "metadata": {},
   "outputs": [
    {
     "data": {
      "text/plain": [
       "test (generic function with 1 method)"
      ]
     },
     "execution_count": 15,
     "metadata": {},
     "output_type": "execute_result"
    }
   ],
   "source": [
    "function test(a, x)\n",
    "    return a*x\n",
    "end"
   ]
  },
  {
   "cell_type": "code",
   "execution_count": 16,
   "id": "encouraging-termination",
   "metadata": {},
   "outputs": [
    {
     "data": {
      "text/plain": [
       "(::var\"#dfdx#12\"{typeof(test)}) (generic function with 3 methods)"
      ]
     },
     "execution_count": 16,
     "metadata": {},
     "output_type": "execute_result"
    }
   ],
   "source": [
    "d = D(test)"
   ]
  },
  {
   "cell_type": "code",
   "execution_count": 17,
   "id": "available-willow",
   "metadata": {
    "scrolled": true
   },
   "outputs": [
    {
     "name": "stdout",
     "output_type": "stream",
     "text": [
      "x...\n",
      "mnożeniefalse\n",
      "Dual{Int64}(2, 0, 1, var\"#11#17\"())\n",
      "Dual{Int64}(3, 0, 2, var\"#11#17\"())\n"
     ]
    },
    {
     "data": {
      "text/plain": [
       "2-element Array{Int64,1}:\n",
       " 3\n",
       " 2"
      ]
     },
     "execution_count": 17,
     "metadata": {},
     "output_type": "execute_result"
    }
   ],
   "source": [
    "d(2, 3)"
   ]
  },
  {
   "cell_type": "code",
   "execution_count": 18,
   "id": "republican-boxing",
   "metadata": {},
   "outputs": [
    {
     "data": {
      "text/plain": [
       "f (generic function with 1 method)"
      ]
     },
     "execution_count": 18,
     "metadata": {},
     "output_type": "execute_result"
    }
   ],
   "source": [
    "# f(x::Vector) = [2x[1]*x[2], 3x[2]*x[3]^2]\n",
    "f(x::Vector) = [x[1], 5/x[3], 4x[2]^2-2x[3], x[3]*sin(x[1]), exp(x[1])/sum(x)]\n"
   ]
  },
  {
   "cell_type": "code",
   "execution_count": 32,
   "id": "incomplete-progressive",
   "metadata": {},
   "outputs": [
    {
     "name": "stdout",
     "output_type": "stream",
     "text": [
      "array\n",
      "mnożeniefalse\n",
      "Dual{Float64}(1.0, 0.0, 1, var\"#9#15\"())\n",
      "Dual{Float64}(2.0, 0.0, 2, var\"#9#15\"())\n",
      "mnożeniefalse\n",
      "Dual{Float64}(2.0, 0.0, Dual{Float64}[Dual{Float64}(1.0, 0.0, 1, var\"#9#15\"()), Dual{Float64}(2.0, 0.0, 2, var\"#9#15\"())], bpt!)\n",
      "Dual{Float64}(3.0, 0.0, 3, var\"#9#15\"())\n",
      "Dual{Float64}(6.0, 1.0, Dual{Float64}[Dual{Float64}(2.0, 0.0, Dual{Float64}[Dual{Float64}(1.0, 0.0, 1, var\"#9#15\"()), Dual{Float64}(2.0, 0.0, 2, var\"#9#15\"())], bpt!), Dual{Float64}(3.0, 0.0, 3, var\"#9#15\"())], bpt!)\n"
     ]
    },
    {
     "data": {
      "text/plain": [
       "3-element Array{Float64,1}:\n",
       " 6.0\n",
       " 3.0\n",
       " 2.0"
      ]
     },
     "execution_count": 32,
     "metadata": {},
     "output_type": "execute_result"
    }
   ],
   "source": [
    "f(x::Vector) = x[1]*x[2]*x[3]\n",
    "d = D(f)\n",
    "d([1.0,2.0,3.0], 1)"
   ]
  },
  {
   "cell_type": "code",
   "execution_count": 20,
   "id": "agricultural-expression",
   "metadata": {},
   "outputs": [
    {
     "name": "stdout",
     "output_type": "stream",
     "text": [
      "array\n",
      "mnożeniefalse\n",
      "Dual{Float64}(1.0, 0.0, 1, var\"#9#15\"())\n",
      "Dual{Float64}(2.0, 0.0, 2, var\"#9#15\"())\n",
      "mnożeniefalse\n",
      "Dual{Float64}(2.0, 0.0, Dual{Float64}[Dual{Float64}(1.0, 0.0, 1, var\"#9#15\"()), Dual{Float64}(2.0, 0.0, 2, var\"#9#15\"())], bpt!)\n",
      "Dual{Float64}(0.1411200080598672, 0.0, Dual{Float64}(3.0, 0.0, 3, var\"#9#15\"()), var\"#bp!#21\"{Dual{Float64}}(Dual{Float64}(3.0, 0.0, 3, var\"#9#15\"())))\n",
      "Dual{Float64}(0.2822400161197344, 1.0, Dual{Float64}[Dual{Float64}(2.0, 0.0, Dual{Float64}[Dual{Float64}(1.0, 0.0, 1, var\"#9#15\"()), Dual{Float64}(2.0, 0.0, 2, var\"#9#15\"())], bpt!), Dual{Float64}(0.1411200080598672, 0.0, Dual{Float64}(3.0, 0.0, 3, var\"#9#15\"()), var\"#bp!#21\"{Dual{Float64}}(Dual{Float64}(3.0, 0.0, 3, var\"#9#15\"())))], bpt!)\n"
     ]
    },
    {
     "data": {
      "text/plain": [
       "1-element Array{Array{Float64,2},1}:\n",
       " [0.2822400161197344; 0.1411200080598672; -1.9799849932008908]"
      ]
     },
     "execution_count": 20,
     "metadata": {},
     "output_type": "execute_result"
    }
   ],
   "source": [
    "J(f,1,[1.,2., 3.]) \n"
   ]
  },
  {
   "cell_type": "code",
   "execution_count": 21,
   "id": "convenient-failing",
   "metadata": {
    "scrolled": false
   },
   "outputs": [
    {
     "name": "stdout",
     "output_type": "stream",
     "text": [
      "array\n",
      "Przecieążenie +\n",
      "Dual{Float64}(0.2689414213699951, 1.0, Dual{Float64}[Dual{Float64}(2.718281828459045, 0.0, Dual{Float64}(1.0, 0.0, 1, var\"#9#15\"()), var\"#bp!#20\"{Float64}(2.718281828459045)), Dual{Float64}(10.107337927389695, 0.0, Dual{Float64}[Dual{Float64}(2.718281828459045, 0.0, Dual{Float64}(1.0, 0.0, 1, var\"#9#15\"()), var\"#bp!#20\"{Float64}(2.718281828459045)), Dual{Float64}(7.38905609893065, 0.0, Dual{Float64}(2.0, 0.0, 2, var\"#9#15\"()), var\"#bp!#20\"{Float64}(7.38905609893065))], bpp!)], var\"#bp!#19\"{Float64}(0.0989380198014472))\n",
      "array\n",
      "Przecieążenie +\n",
      "Dual{Float64}(0.7310585786300049, 1.0, Dual{Float64}[Dual{Float64}(7.38905609893065, 0.0, Dual{Float64}(2.0, 0.0, 2, var\"#9#15\"()), var\"#bp!#20\"{Float64}(7.38905609893065)), Dual{Float64}(10.107337927389695, 0.0, Dual{Float64}[Dual{Float64}(2.718281828459045, 0.0, Dual{Float64}(1.0, 0.0, 1, var\"#9#15\"()), var\"#bp!#20\"{Float64}(2.718281828459045)), Dual{Float64}(7.38905609893065, 0.0, Dual{Float64}(2.0, 0.0, 2, var\"#9#15\"()), var\"#bp!#20\"{Float64}(7.38905609893065))], bpp!)], var\"#bp!#19\"{Float64}(0.0989380198014472))\n"
     ]
    },
    {
     "data": {
      "text/plain": [
       "2-element Array{Array{Float64,2},1}:\n",
       " [0.46555335461147695; -0.19661193324148185]\n",
       " [-0.19661193324148188; 0.9276705118714866]"
      ]
     },
     "execution_count": 21,
     "metadata": {},
     "output_type": "execute_result"
    }
   ],
   "source": [
    "J(softmax,2,[1., 2.]) "
   ]
  },
  {
   "cell_type": "code",
   "execution_count": 22,
   "id": "twenty-wisconsin",
   "metadata": {},
   "outputs": [
    {
     "data": {
      "text/plain": [
       "3-element Array{Dual{Float64},1}:\n",
       " Dual{Float64}(2.0, 0.0, nothing, nothing)\n",
       " Dual{Float64}(2.0, 0.0, nothing, nothing)\n",
       " Dual{Float64}(2.0, 0.0, nothing, nothing)"
      ]
     },
     "execution_count": 22,
     "metadata": {},
     "output_type": "execute_result"
    }
   ],
   "source": [
    "x = [Dual(1.0, 0.0, nothing, nothing), Dual(2.0, 0.0, nothing, nothing), Dual(3.0, 0.0, nothing, nothing)]\n",
    "y = [Dual(2.0, 0.0, nothing, nothing), Dual(2.0, 0.0, nothing, nothing), Dual(2.0, 0.0, nothing, nothing)]\n"
   ]
  },
  {
   "cell_type": "code",
   "execution_count": 23,
   "id": "asian-toolbox",
   "metadata": {},
   "outputs": [
    {
     "name": "stdout",
     "output_type": "stream",
     "text": [
      "Przecieążenie +\n",
      "Przecieążenie +\n"
     ]
    },
    {
     "data": {
      "text/plain": [
       "Dual{Float64}(6.0, 0.0, Dual{Float64}[Dual{Float64}(3.0, 0.0, Dual{Float64}[Dual{Float64}(1.0, 0.0, nothing, nothing), Dual{Float64}(2.0, 0.0, nothing, nothing)], bpp!), Dual{Float64}(3.0, 0.0, nothing, nothing)], bpp!)"
      ]
     },
     "execution_count": 23,
     "metadata": {},
     "output_type": "execute_result"
    }
   ],
   "source": [
    "sum(x)\n"
   ]
  },
  {
   "cell_type": "code",
   "execution_count": 24,
   "id": "efficient-details",
   "metadata": {
    "scrolled": true
   },
   "outputs": [
    {
     "data": {
      "text/plain": [
       "sa (generic function with 1 method)"
      ]
     },
     "execution_count": 24,
     "metadata": {},
     "output_type": "execute_result"
    }
   ],
   "source": [
    "sa(x) = sin.(x.*x)\n"
   ]
  },
  {
   "cell_type": "code",
   "execution_count": 25,
   "id": "genuine-corrections",
   "metadata": {},
   "outputs": [
    {
     "data": {
      "text/plain": [
       "2-element Array{Float64,1}:\n",
       " -0.7568024953079282\n",
       "  0.4121184852417566"
      ]
     },
     "execution_count": 25,
     "metadata": {},
     "output_type": "execute_result"
    }
   ],
   "source": [
    "sa([2, 3])"
   ]
  },
  {
   "cell_type": "code",
   "execution_count": 26,
   "id": "advanced-deposit",
   "metadata": {},
   "outputs": [
    {
     "name": "stdout",
     "output_type": "stream",
     "text": [
      "array\n",
      "mnożenietrue\n",
      "Dual{Float64}(1.0, 0.0, 1, var\"#9#15\"())\n",
      "Dual{Float64}(1.0, 0.0, 1, var\"#9#15\"())\n",
      "mnożenietrue\n",
      "Dual{Float64}(2.0, 0.0, 2, var\"#9#15\"())\n",
      "Dual{Float64}(2.0, 0.0, 2, var\"#9#15\"())\n",
      "mnożenietrue\n",
      "Dual{Float64}(3.0, 0.0, 3, var\"#9#15\"())\n",
      "Dual{Float64}(3.0, 0.0, 3, var\"#9#15\"())\n",
      "Dual{Float64}(0.8414709848078965, 1.0, Dual{Float64}(1.0, 0.0, Dual{Float64}[Dual{Float64}(1.0, 0.0, 1, var\"#9#15\"()), Dual{Float64}(1.0, 0.0, 1, var\"#9#15\"())], bpt!), var\"#bp!#21\"{Dual{Float64}}(Dual{Float64}(1.0, 0.0, Dual{Float64}[Dual{Float64}(1.0, 0.0, 1, var\"#9#15\"()), Dual{Float64}(1.0, 0.0, 1, var\"#9#15\"())], bpt!)))\n",
      "array\n",
      "mnożenietrue\n",
      "Dual{Float64}(1.0, 0.0, 1, var\"#9#15\"())\n",
      "Dual{Float64}(1.0, 0.0, 1, var\"#9#15\"())\n",
      "mnożenietrue\n",
      "Dual{Float64}(2.0, 0.0, 2, var\"#9#15\"())\n",
      "Dual{Float64}(2.0, 0.0, 2, var\"#9#15\"())\n",
      "mnożenietrue\n",
      "Dual{Float64}(3.0, 0.0, 3, var\"#9#15\"())\n",
      "Dual{Float64}(3.0, 0.0, 3, var\"#9#15\"())\n",
      "Dual{Float64}(-0.7568024953079282, 1.0, Dual{Float64}(4.0, 0.0, Dual{Float64}[Dual{Float64}(2.0, 0.0, 2, var\"#9#15\"()), Dual{Float64}(2.0, 0.0, 2, var\"#9#15\"())], bpt!), var\"#bp!#21\"{Dual{Float64}}(Dual{Float64}(4.0, 0.0, Dual{Float64}[Dual{Float64}(2.0, 0.0, 2, var\"#9#15\"()), Dual{Float64}(2.0, 0.0, 2, var\"#9#15\"())], bpt!)))\n",
      "array\n",
      "mnożenietrue\n",
      "Dual{Float64}(1.0, 0.0, 1, var\"#9#15\"())\n",
      "Dual{Float64}(1.0, 0.0, 1, var\"#9#15\"())\n",
      "mnożenietrue\n",
      "Dual{Float64}(2.0, 0.0, 2, var\"#9#15\"())\n",
      "Dual{Float64}(2.0, 0.0, 2, var\"#9#15\"())\n",
      "mnożenietrue\n",
      "Dual{Float64}(3.0, 0.0, 3, var\"#9#15\"())\n",
      "Dual{Float64}(3.0, 0.0, 3, var\"#9#15\"())\n",
      "Dual{Float64}(0.4121184852417566, 1.0, Dual{Float64}(9.0, 0.0, Dual{Float64}[Dual{Float64}(3.0, 0.0, 3, var\"#9#15\"()), Dual{Float64}(3.0, 0.0, 3, var\"#9#15\"())], bpt!), var\"#bp!#21\"{Dual{Float64}}(Dual{Float64}(9.0, 0.0, Dual{Float64}[Dual{Float64}(3.0, 0.0, 3, var\"#9#15\"()), Dual{Float64}(3.0, 0.0, 3, var\"#9#15\"())], bpt!)))\n"
     ]
    },
    {
     "data": {
      "text/plain": [
       "3-element Array{Array{Float64,2},1}:\n",
       " [0.5403023058681398; 0.0; 0.0]\n",
       " [0.0; -1.3072872417272239; 0.0]\n",
       " [0.0; 0.0; -2.7333907856540307]"
      ]
     },
     "execution_count": 26,
     "metadata": {},
     "output_type": "execute_result"
    }
   ],
   "source": [
    "#J(s,3, [1., 2., 3.]) \n",
    "d = D(sa)\n",
    "J(sa,3, [1., 2., 3.]) "
   ]
  },
  {
   "cell_type": "code",
   "execution_count": 27,
   "id": "little-oklahoma",
   "metadata": {},
   "outputs": [
    {
     "data": {
      "text/plain": [
       "2-element Array{Float64,1}:\n",
       " 0.2689414213699951\n",
       " 0.7310585786300049"
      ]
     },
     "execution_count": 27,
     "metadata": {},
     "output_type": "execute_result"
    }
   ],
   "source": [
    "softmax([1,2])\n"
   ]
  },
  {
   "cell_type": "code",
   "execution_count": 28,
   "id": "considered-commodity",
   "metadata": {},
   "outputs": [
    {
     "data": {
      "text/plain": [
       "rosenbrocka (generic function with 1 method)"
      ]
     },
     "execution_count": 28,
     "metadata": {},
     "output_type": "execute_result"
    }
   ],
   "source": [
    "function rosenbrocka(x)\n",
    "#     value = zero(x[1])\n",
    "    value = (1-x[1])^2 + 100*(x[2] - x[1]^2)^2\n",
    "#     for i=2:length(x)\n",
    "#         value += (1-x[i-1])^2 + 100*(x[i] - x[i-1]^2)^2\n",
    "#     end\n",
    "    value\n",
    "end"
   ]
  },
  {
   "cell_type": "code",
   "execution_count": 29,
   "id": "twenty-asset",
   "metadata": {},
   "outputs": [
    {
     "data": {
      "text/plain": [
       "100.0"
      ]
     },
     "execution_count": 29,
     "metadata": {},
     "output_type": "execute_result"
    }
   ],
   "source": [
    "rosenbrocka([1.0,2.0])"
   ]
  },
  {
   "cell_type": "code",
   "execution_count": 30,
   "id": "contained-provider",
   "metadata": {},
   "outputs": [
    {
     "data": {
      "text/plain": [
       "(::var\"#dfdx#12\"{typeof(rosenbrocka)}) (generic function with 3 methods)"
      ]
     },
     "execution_count": 30,
     "metadata": {},
     "output_type": "execute_result"
    }
   ],
   "source": [
    "d = D(rosenbrocka)"
   ]
  },
  {
   "cell_type": "code",
   "execution_count": 31,
   "id": "innovative-wisconsin",
   "metadata": {},
   "outputs": [
    {
     "name": "stdout",
     "output_type": "stream",
     "text": [
      "array\n",
      "2asdsadsdaInt64\n",
      "mnożenietrue\n",
      "Dual{Float64}(0.0, 0.0, Dual{Float64}[Dual{Float64}(1.0, 0.0, nothing, var\"#3#4\"()), Dual{Float64}(1.0, 0.0, 1, var\"#9#15\"())], bpm!)\n",
      "Dual{Float64}(0.0, 0.0, Dual{Float64}[Dual{Float64}(1.0, 0.0, nothing, var\"#3#4\"()), Dual{Float64}(1.0, 0.0, 1, var\"#9#15\"())], bpm!)\n",
      "mnożenietrue\n",
      "Dual{Float64}(1.0, 0.0, 1, var\"#9#15\"())\n",
      "Dual{Float64}(1.0, 0.0, 1, var\"#9#15\"())\n",
      "mnożenietrue\n",
      "Dual{Float64}(1.0, 0.0, Dual{Float64}[Dual{Float64}(2.0, 0.0, 2, var\"#9#15\"()), Dual{Float64}(1.0, 0.0, Dual{Float64}[Dual{Float64}(1.0, 0.0, 1, var\"#9#15\"()), Dual{Float64}(1.0, 0.0, 1, var\"#9#15\"())], bpt!)], bpm!)\n",
      "Dual{Float64}(1.0, 0.0, Dual{Float64}[Dual{Float64}(2.0, 0.0, 2, var\"#9#15\"()), Dual{Float64}(1.0, 0.0, Dual{Float64}[Dual{Float64}(1.0, 0.0, 1, var\"#9#15\"()), Dual{Float64}(1.0, 0.0, 1, var\"#9#15\"())], bpt!)], bpm!)\n",
      "2asdsadsdaInt64\n",
      "mnożeniefalse\n",
      "Dual{Float64}(100.0, 0.0, nothing, var\"#3#4\"())\n",
      "Dual{Float64}(1.0, 0.0, Dual{Float64}[Dual{Float64}(1.0, 0.0, Dual{Float64}[Dual{Float64}(2.0, 0.0, 2, var\"#9#15\"()), Dual{Float64}(1.0, 0.0, Dual{Float64}[Dual{Float64}(1.0, 0.0, 1, var\"#9#15\"()), Dual{Float64}(1.0, 0.0, 1, var\"#9#15\"())], bpt!)], bpm!), Dual{Float64}(1.0, 0.0, Dual{Float64}[Dual{Float64}(2.0, 0.0, 2, var\"#9#15\"()), Dual{Float64}(1.0, 0.0, Dual{Float64}[Dual{Float64}(1.0, 0.0, 1, var\"#9#15\"()), Dual{Float64}(1.0, 0.0, 1, var\"#9#15\"())], bpt!)], bpm!)], bpt!)\n",
      "Przecieążenie +\n",
      "Dual{Float64}(100.0, 1.0, Dual{Float64}[Dual{Float64}(0.0, 0.0, Dual{Float64}[Dual{Float64}(0.0, 0.0, Dual{Float64}[Dual{Float64}(1.0, 0.0, nothing, var\"#3#4\"()), Dual{Float64}(1.0, 0.0, 1, var\"#9#15\"())], bpm!), Dual{Float64}(0.0, 0.0, Dual{Float64}[Dual{Float64}(1.0, 0.0, nothing, var\"#3#4\"()), Dual{Float64}(1.0, 0.0, 1, var\"#9#15\"())], bpm!)], bpt!), Dual{Float64}(100.0, 0.0, Dual{Float64}[Dual{Float64}(100.0, 0.0, nothing, var\"#3#4\"()), Dual{Float64}(1.0, 0.0, Dual{Float64}[Dual{Float64}(1.0, 0.0, Dual{Float64}[Dual{Float64}(2.0, 0.0, 2, var\"#9#15\"()), Dual{Float64}(1.0, 0.0, Dual{Float64}[Dual{Float64}(1.0, 0.0, 1, var\"#9#15\"()), Dual{Float64}(1.0, 0.0, 1, var\"#9#15\"())], bpt!)], bpm!), Dual{Float64}(1.0, 0.0, Dual{Float64}[Dual{Float64}(2.0, 0.0, 2, var\"#9#15\"()), Dual{Float64}(1.0, 0.0, Dual{Float64}[Dual{Float64}(1.0, 0.0, 1, var\"#9#15\"()), Dual{Float64}(1.0, 0.0, 1, var\"#9#15\"())], bpt!)], bpm!)], bpt!)], bpt!)], bpp!)\n"
     ]
    },
    {
     "data": {
      "text/plain": [
       "2-element Array{Float64,1}:\n",
       " -400.0\n",
       "  200.0"
      ]
     },
     "execution_count": 31,
     "metadata": {},
     "output_type": "execute_result"
    }
   ],
   "source": [
    "d([1.0,2.0],1)"
   ]
  },
  {
   "cell_type": "code",
   "execution_count": null,
   "id": "infectious-biology",
   "metadata": {},
   "outputs": [],
   "source": []
  }
 ],
 "metadata": {
  "kernelspec": {
   "display_name": "Julia 1.5.4",
   "language": "julia",
   "name": "julia-1.5"
  },
  "language_info": {
   "file_extension": ".jl",
   "mimetype": "application/julia",
   "name": "julia",
   "version": "1.5.4"
  }
 },
 "nbformat": 4,
 "nbformat_minor": 5
}

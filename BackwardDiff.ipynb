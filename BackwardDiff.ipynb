{
 "cells": [
  {
   "cell_type": "code",
   "execution_count": 22,
   "id": "requested-variable",
   "metadata": {},
   "outputs": [],
   "source": [
    "import Base: exp, log, sin, cos, tan, +, -, *, /, sqrt, convert, promote_rule, zero\n"
   ]
  },
  {
   "cell_type": "code",
   "execution_count": 23,
   "id": "found-offer",
   "metadata": {},
   "outputs": [],
   "source": [
    "mutable struct Dual{T <: Number} <: Number\n",
    "    x::T\n",
    "    dfdy::T\n",
    "    parent::Union{Dual{T}, Array{Dual{T},1}, Int, Nothing}\n",
    "    bp!\n",
    "end"
   ]
  },
  {
   "cell_type": "code",
   "execution_count": 24,
   "id": "documentary-nickel",
   "metadata": {},
   "outputs": [
    {
     "data": {
      "text/plain": [
       "convert (generic function with 189 methods)"
      ]
     },
     "execution_count": 24,
     "metadata": {},
     "output_type": "execute_result"
    }
   ],
   "source": [
    "function convert(::Type{Dual{T}}, x::T) where T <: Number\n",
    "    Dual(x, zero(T), nothing, (dfdy, parents) -> nothing)\n",
    "end\n",
    "\n",
    "function convert(::Type{Dual{T}}, x::S) where {T, S <: Number}\n",
    "    Dual(T(x), zero(T), nothing, (dfdy, parents) -> nothing)\n",
    "end\n",
    "\n",
    "function convert(::Type{Dual{T}}, x::Dual{T}) where T\n",
    "    x\n",
    "end\n"
   ]
  },
  {
   "cell_type": "code",
   "execution_count": 25,
   "id": "distinct-reconstruction",
   "metadata": {},
   "outputs": [
    {
     "data": {
      "text/plain": [
       "zero (generic function with 24 methods)"
      ]
     },
     "execution_count": 25,
     "metadata": {},
     "output_type": "execute_result"
    }
   ],
   "source": [
    "function zero(x::Dual{T}) where T\n",
    "    Dual(zero(T), zero(T), nothing, (dfdy, parents) -> nothing)\n",
    "end"
   ]
  },
  {
   "cell_type": "code",
   "execution_count": 26,
   "id": "entitled-proportion",
   "metadata": {},
   "outputs": [
    {
     "data": {
      "text/plain": [
       "promote_rule (generic function with 128 methods)"
      ]
     },
     "execution_count": 26,
     "metadata": {},
     "output_type": "execute_result"
    }
   ],
   "source": [
    "function promote_rule(::Type{Dual{T}}, ::Type{S}) where {T, S <: Number}\n",
    "    Dual{promote_type(T,S)}\n",
    "end\n",
    "\n",
    "function promote_rule(::Type{T}, ::Type{Dual{S}}) where {T <: Number, S}\n",
    "    Dual{promote_type(T,S)}\n",
    "end\n",
    "\n",
    "function promote_rule(::Type{S}, ::Type{Dual{T}}) where {S <: AbstractIrrational, T}\n",
    "    Dual{promote_type(S, T)}\n",
    "end\n"
   ]
  },
  {
   "cell_type": "code",
   "execution_count": 27,
   "id": "acceptable-aquatic",
   "metadata": {},
   "outputs": [
    {
     "data": {
      "text/plain": [
       "push_parents! (generic function with 8 methods)"
      ]
     },
     "execution_count": 27,
     "metadata": {},
     "output_type": "execute_result"
    }
   ],
   "source": [
    "function push_parents!(queue::Array{Dual{T}, 1}, ::Nothing) where T\n",
    "    # Do nothing\n",
    "end\n",
    "function push_parents!(queue::Array{Dual{T}, 1}, i::Int) where T\n",
    "    # Do nothing\n",
    "end\n",
    "function push_parents!(queue::Array{Dual{T}, 1}, ls::Array{Dual{T}, 1}) where T\n",
    "    append!(queue, ls)\n",
    "end\n",
    "function push_parents!(queue::Array{Dual{T}, 1}, l::Dual{T}) where T\n",
    "    push!(queue, l)\n",
    "end"
   ]
  },
  {
   "cell_type": "code",
   "execution_count": 28,
   "id": "approved-diagram",
   "metadata": {},
   "outputs": [
    {
     "data": {
      "text/plain": [
       "backprop! (generic function with 4 methods)"
      ]
     },
     "execution_count": 28,
     "metadata": {},
     "output_type": "execute_result"
    }
   ],
   "source": [
    "function backprop!(l::Dual{T}) where T\n",
    "    # Apparently we need this construction because otherwise l gets copied when\n",
    "    # put into the array.\n",
    "    backprop!([l])\n",
    "end\n",
    "function backprop!(queue::Array{Dual{T},1}) where T\n",
    "    while length(queue) > 0\n",
    "        l = popfirst!(queue)\n",
    "        l.bp!(l.dfdy, l.parent)\n",
    "        push_parents!(queue, l.parent)\n",
    "    end\n",
    "end"
   ]
  },
  {
   "cell_type": "code",
   "execution_count": 29,
   "id": "tropical-dietary",
   "metadata": {},
   "outputs": [
    {
     "data": {
      "text/plain": [
       "collect_outputs (generic function with 2 methods)"
      ]
     },
     "execution_count": 29,
     "metadata": {},
     "output_type": "execute_result"
    }
   ],
   "source": [
    "function collect_outputs(l::Dual{T}) where T\n",
    "    queue = Dual{T}[l]\n",
    "\n",
    "    outputs = Dual{T}[]\n",
    "\n",
    "    while length(queue) > 0\n",
    "        l = popfirst!(queue)\n",
    "        if typeof(l.parent) <: Int\n",
    "            push!(outputs, l)\n",
    "        elseif typeof(l.parent) == Dual{T}\n",
    "            push!(queue, l.parent)\n",
    "        elseif typeof(l.parent) == Array{Dual{T}, 1}\n",
    "            append!(queue, l.parent)\n",
    "        else # Nothing\n",
    "            # Do nothing\n",
    "        end\n",
    "    end\n",
    "\n",
    "    outputs\n",
    "end\n"
   ]
  },
  {
   "cell_type": "code",
   "execution_count": 30,
   "id": "boolean-rocket",
   "metadata": {},
   "outputs": [
    {
     "data": {
      "text/plain": [
       "D (generic function with 2 methods)"
      ]
     },
     "execution_count": 30,
     "metadata": {},
     "output_type": "execute_result"
    }
   ],
   "source": [
    "function D(f)\n",
    "    function dfdx(x::T) where T <: Number\n",
    "        # Pass the function a backward infinitesimal whose backprop function\n",
    "        # stores the backprop derivative in dfdx_store\n",
    "\n",
    "        x = Dual(x, zero(x), 1, (dfdy, parents) -> nothing)\n",
    "\n",
    "        result = f(x)\n",
    "\n",
    "        result.dfdy = one(result.x)\n",
    "        backprop!(result)\n",
    "\n",
    "        y = collect_outputs(result)[1]\n",
    "\n",
    "        return y.dfdy\n",
    "    end\n",
    "\n",
    "    function dfdx(x::Array{T}) where T <: Number\n",
    "        fargs = [Dual(xelt, zero(xelt), i, (dfdy, parents) -> nothing) for (i, xelt) in enumerate(x)]\n",
    "        result = f(fargs)\n",
    "        result.dfdy = one(result.x)\n",
    "        backprop!(result)\n",
    "        y = collect_outputs(result)\n",
    "\n",
    "        grad = zeros(typeof(result.x), length(x))\n",
    "        for yelt in y\n",
    "            grad[yelt.parent] = yelt.dfdy\n",
    "        end\n",
    "\n",
    "        return grad\n",
    "    end\n",
    "\n",
    "    function dfdx(x...)\n",
    "        fargs = [Dual(xelt, zero(xelt), i, (dfdy, parents) -> nothing) for (i, xelt) in enumerate(x)]\n",
    "        result = f(fargs...)\n",
    "        result.dfdy = one(result.x)\n",
    "        backprop!(result)\n",
    "        y = collect_outputs(result)\n",
    "\n",
    "        grad = zeros(typeof(result.x), length(x))\n",
    "        for yelt in y\n",
    "            grad[yelt.parent] = yelt.dfdy\n",
    "        end\n",
    "\n",
    "        return grad\n",
    "    end\n",
    "\n",
    "    return dfdx\n",
    "end"
   ]
  },
  {
   "cell_type": "code",
   "execution_count": 31,
   "id": "boring-reconstruction",
   "metadata": {},
   "outputs": [
    {
     "data": {
      "text/plain": [
       "D (generic function with 2 methods)"
      ]
     },
     "execution_count": 31,
     "metadata": {},
     "output_type": "execute_result"
    }
   ],
   "source": [
    "function D(i::Integer, f)\n",
    "    df = D(f)\n",
    "    function df_wrapper(x...)\n",
    "        g = df(x...)\n",
    "        return g[i]\n",
    "    end\n",
    "    return df_wrapper\n",
    "end"
   ]
  },
  {
   "cell_type": "code",
   "execution_count": 32,
   "id": "religious-velvet",
   "metadata": {},
   "outputs": [
    {
     "data": {
      "text/plain": [
       "log (generic function with 22 methods)"
      ]
     },
     "execution_count": 32,
     "metadata": {},
     "output_type": "execute_result"
    }
   ],
   "source": [
    "function bpp!(dfdy, xy)\n",
    "    x, y = xy\n",
    "    x.dfdy += dfdy\n",
    "    y.dfdy += dfdy\n",
    "end\n",
    "\n",
    "function +(x::Dual{T}, y::Dual{T}) where T\n",
    "    Dual(x.x + y.x, zero(T), [x, y], bpp!)\n",
    "end\n",
    "\n",
    "function bpm!(dfdy, xy)\n",
    "    x, y = xy\n",
    "    x.dfdy += dfdy\n",
    "    y.dfdy -= dfdy\n",
    "end\n",
    "function -(x::Dual{T}, y::Dual{T}) where T\n",
    "    Dual(x.x - y.x, zero(T), [x, y], bpm!)\n",
    "end\n",
    "\n",
    "function bpum!(dfdy, x)\n",
    "    x.dfdy -= dfdy\n",
    "end\n",
    "function -(x::Dual{T}) where T\n",
    "    Dual(-x.x, zero(T), x, bpum!)\n",
    "end\n",
    "\n",
    "function bpt!(dfdy, xy)\n",
    "    x,y = xy\n",
    "    x.dfdy += dfdy*y.x\n",
    "    y.dfdy += x.x*dfdy\n",
    "end\n",
    "function *(x::Dual{T}, y::Dual{T}) where T\n",
    "    Dual(x.x*y.x, zero(T), [x,y], bpt!)\n",
    "end\n",
    "\n",
    "function /(x::Dual{T}, y::Dual{T}) where T\n",
    "    yinv = one(T)/y.x\n",
    "\n",
    "    function bp!(dfdy, xy)\n",
    "        a,b = xy\n",
    "        a.dfdy += dfdy*yinv\n",
    "        b.dfdy -= a.x*dfdy*(yinv*yinv)\n",
    "    end\n",
    "\n",
    "    Dual(x.x*yinv, zero(T), [x,y], bp!)\n",
    "end\n",
    "\n",
    "function exp(x::Dual{T}) where T\n",
    "    expx = exp(x.x)\n",
    "\n",
    "    function bp!(dfdy, p)\n",
    "        p.dfdy += dfdy*expx\n",
    "    end\n",
    "\n",
    "    Dual(expx, zero(expx), x, bp!)\n",
    "end\n",
    "\n",
    "function sin(x::Dual{T}) where T\n",
    "    function bp!(dfdy, p)\n",
    "        p.dfdy += cos(x.x)*dfdy\n",
    "    end\n",
    "\n",
    "    sx = sin(x.x)\n",
    "    Dual(sx, zero(sx), x, bp!)\n",
    "end\n",
    "\n",
    "function cos(x::Dual{T}) where T\n",
    "    function bp!(dfdy, p)\n",
    "        p.dfdy -= sin(x.x)*dfdy\n",
    "    end\n",
    "\n",
    "    cx = cos(x.x)\n",
    "    Dual(cx, zero(cx), x, bp!)\n",
    "end\n",
    "\n",
    "function tan(x::Dual{T}) where T\n",
    "    c = cos(x.x)\n",
    "    function bp!(dfdy, p)\n",
    "        p.dfdy += dfdy/(c*c)\n",
    "    end\n",
    "\n",
    "    tx = tan(x.x)\n",
    "    Dual(tx, zero(tx), x, bp!)\n",
    "end\n",
    "\n",
    "function sqrt(x::Dual{T}) where T\n",
    "    sqrtx = sqrt(x.x)\n",
    "\n",
    "    function bp!(dfdy, p)\n",
    "        p.dfdy += dfdy/(2*sqrtx)\n",
    "    end\n",
    "\n",
    "    Dual(sqrtx, zero(sqrtx), x, bp!)\n",
    "end\n",
    "\n",
    "function log(x::Dual{T}) where T\n",
    "    function bp!(dfdy, p)\n",
    "        p.dfdy += dfdy/x.x\n",
    "    end\n",
    "\n",
    "    Dual(log(x.x), zero(T), x, bp!)\n",
    "end"
   ]
  },
  {
   "cell_type": "code",
   "execution_count": 33,
   "id": "fitting-drawing",
   "metadata": {},
   "outputs": [
    {
     "data": {
      "text/plain": [
       "test (generic function with 2 methods)"
      ]
     },
     "execution_count": 33,
     "metadata": {},
     "output_type": "execute_result"
    }
   ],
   "source": [
    "function test(x, y)\n",
    "    return x^2 + y^3\n",
    "end"
   ]
  },
  {
   "cell_type": "code",
   "execution_count": 34,
   "id": "encouraging-termination",
   "metadata": {},
   "outputs": [
    {
     "data": {
      "text/plain": [
       "(::var\"#dfdx#37\"{typeof(test)}) (generic function with 3 methods)"
      ]
     },
     "execution_count": 34,
     "metadata": {},
     "output_type": "execute_result"
    }
   ],
   "source": [
    "d = D(test)"
   ]
  },
  {
   "cell_type": "code",
   "execution_count": 37,
   "id": "available-willow",
   "metadata": {},
   "outputs": [
    {
     "data": {
      "text/plain": [
       "2-element Array{Int64,1}:\n",
       " 40\n",
       " 27"
      ]
     },
     "execution_count": 37,
     "metadata": {},
     "output_type": "execute_result"
    }
   ],
   "source": [
    "d(20,3)"
   ]
  },
  {
   "cell_type": "code",
   "execution_count": null,
   "id": "narrative-neighborhood",
   "metadata": {},
   "outputs": [],
   "source": []
  },
  {
   "cell_type": "code",
   "execution_count": null,
   "id": "cubic-percentage",
   "metadata": {},
   "outputs": [],
   "source": []
  },
  {
   "cell_type": "code",
   "execution_count": null,
   "id": "framed-controversy",
   "metadata": {},
   "outputs": [],
   "source": []
  }
 ],
 "metadata": {
  "kernelspec": {
   "display_name": "Julia 1.5.3",
   "language": "julia",
   "name": "julia-1.5"
  },
  "language_info": {
   "file_extension": ".jl",
   "mimetype": "application/julia",
   "name": "julia",
   "version": "1.5.3"
  }
 },
 "nbformat": 4,
 "nbformat_minor": 5
}

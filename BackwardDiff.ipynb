{
 "cells": [
  {
   "cell_type": "code",
   "execution_count": 1,
   "id": "requested-variable",
   "metadata": {},
   "outputs": [],
   "source": [
    "import Base: iterate, exp, log, sin, cos, tan, +, ^, -, *, /, sqrt, convert, promote_rule, zero,max, isless\n"
   ]
  },
  {
   "cell_type": "code",
   "execution_count": 2,
   "id": "found-offer",
   "metadata": {},
   "outputs": [],
   "source": [
    "# This is the structure that stores the autodiff information.  The name is\n",
    "# `Infinitesimal` spelled backward.  The elements are `x`, the result of a\n",
    "# computation; `dfdy` a storage location where the derivative of some overall\n",
    "# computation (`f(x)`) with respect to the output of this element is stored;\n",
    "# `parent` storing the \"parent\" locations that have been used to produce the\n",
    "# result `x`; and `bp!` a function that propogates the derivative `dfdy` to the\n",
    "# parents via `dfdx = dydx * dfdy` where `dydx` is the derivative of this piece\n",
    "# of the computation, `dfdy` is the derivative of the overall function with\n",
    "# respect to the output, and `dfdx` is the same for the next level up.\n",
    "mutable struct Dual{T <: Number} <: Number\n",
    "    x::T\n",
    "    dfdy::T\n",
    "    parent::Union{Dual{T}, Array{Dual{T},1}, Int, Nothing}\n",
    "    bp!\n",
    "end\n",
    "# Dual(n::Integer, d::Float64, parent::Union{Dual{T}, Array{Dual{T},1}, Int, Nothing}, bp!::Any)  where {T <: Number} = Dual(promote(n, d)..., parent, bp!)\n",
    "# Dual(n::Float64, d::Integer, parent::Union{Dual{T}, Array{Dual{T},1}, Int, Nothing}, bp!::Any)  where {T <: Number} = Dual(promote(n, d)..., parent, bp!)\n"
   ]
  },
  {
   "cell_type": "code",
   "execution_count": 3,
   "id": "overall-drain",
   "metadata": {
    "scrolled": true
   },
   "outputs": [
    {
     "data": {
      "text/plain": [
       "Dual"
      ]
     },
     "execution_count": 3,
     "metadata": {},
     "output_type": "execute_result"
    }
   ],
   "source": [
    "# x = Dual(2.0, 2, 1, (dfdy, parents) -> nothing)*  Dual(2, 2, 1, (dfdy, parents) -> nothing)\n",
    "promote_type(Dual{Real}, Dual{Number})"
   ]
  },
  {
   "cell_type": "code",
   "execution_count": 4,
   "id": "documentary-nickel",
   "metadata": {},
   "outputs": [
    {
     "data": {
      "text/plain": [
       "convert (generic function with 186 methods)"
      ]
     },
     "execution_count": 4,
     "metadata": {},
     "output_type": "execute_result"
    }
   ],
   "source": [
    "function convert(::Type{Dual{T}}, x::T) where T <: Number\n",
    "    Dual(x, zero(T), nothing, (dfdy, parents) -> nothing)\n",
    "end\n",
    "\n",
    "# function convert(::Type{Dual{T}}, x::Dual{S}) where {T, S <: Number}\n",
    "#     Dual(T(x.x), T(x.dfdy), x.parent, x.bp!)\n",
    "# end\n",
    "\n",
    "\n",
    "function convert(::Type{Dual{T}}, x::S) where {T, S <: Number}\n",
    "    print(\"2asdsadsda\", typeof(x))\n",
    "    Dual(T(x), zero(T), nothing, (dfdy, parents) -> nothing)\n",
    "end\n",
    "\n",
    "function convert(::Type{Dual{T}}, x::Dual{T}) where T\n",
    "    x\n",
    "end\n"
   ]
  },
  {
   "cell_type": "code",
   "execution_count": 5,
   "id": "distinct-reconstruction",
   "metadata": {},
   "outputs": [
    {
     "data": {
      "text/plain": [
       "zero (generic function with 23 methods)"
      ]
     },
     "execution_count": 5,
     "metadata": {},
     "output_type": "execute_result"
    }
   ],
   "source": [
    "function zero(x::Dual{T}) where T\n",
    "    Dual(zero(T), zero(T), nothing, (dfdy, parents) -> nothing)\n",
    "end"
   ]
  },
  {
   "cell_type": "code",
   "execution_count": 6,
   "id": "entitled-proportion",
   "metadata": {},
   "outputs": [
    {
     "data": {
      "text/plain": [
       "promote_rule (generic function with 126 methods)"
      ]
     },
     "execution_count": 6,
     "metadata": {},
     "output_type": "execute_result"
    }
   ],
   "source": [
    "function promote_rule(::Type{Dual{T}}, ::Type{Dual{S}}) where {T,S}\n",
    "    Dual{promote_type(T,S)}\n",
    "end\n",
    "function promote_rule(::Type{Dual{T}}, ::Type{S}) where {T, S <: Number}\n",
    "    Dual{promote_type(T,S)}\n",
    "end\n",
    "\n",
    "function promote_rule(::Type{T}, ::Type{Dual{S}}) where {T <: Number, S}\n",
    "    Dual{promote_type(T,S)}\n",
    "end\n",
    "\n",
    "function promote_rule(::Type{S}, ::Type{Dual{T}}) where {S <: AbstractIrrational, T}\n",
    "    Dual{promote_type(S, T)}\n",
    "end\n"
   ]
  },
  {
   "cell_type": "code",
   "execution_count": 7,
   "id": "acceptable-aquatic",
   "metadata": {},
   "outputs": [
    {
     "data": {
      "text/plain": [
       "push_parents! (generic function with 4 methods)"
      ]
     },
     "execution_count": 7,
     "metadata": {},
     "output_type": "execute_result"
    }
   ],
   "source": [
    "function push_parents!(queue::Array{Dual{T}, 1}, ::Nothing) where T\n",
    "    # Do nothing\n",
    "end\n",
    "function push_parents!(queue::Array{Dual{T}, 1}, i::Int) where T\n",
    "    # Do nothing\n",
    "end\n",
    "function push_parents!(queue::Array{Dual{T}, 1}, ls::Array{Dual{T}, 1}) where T\n",
    "    append!(queue, ls)\n",
    "end\n",
    "function push_parents!(queue::Array{Dual{T}, 1}, l::Dual{T}) where T\n",
    "    push!(queue, l)\n",
    "end"
   ]
  },
  {
   "cell_type": "code",
   "execution_count": 8,
   "id": "approved-diagram",
   "metadata": {},
   "outputs": [
    {
     "data": {
      "text/plain": [
       "backprop! (generic function with 2 methods)"
      ]
     },
     "execution_count": 8,
     "metadata": {},
     "output_type": "execute_result"
    }
   ],
   "source": [
    "function backprop!(l::Dual{T}) where T\n",
    "    # Apparently we need this construction because otherwise l gets copied when\n",
    "    # put into the array.\n",
    "    backprop!([l])\n",
    "end\n",
    "function backprop!(queue::Array{Dual{T},1}) where T\n",
    "    while length(queue) > 0\n",
    "        l = popfirst!(queue)\n",
    "        l.bp!(l.dfdy, l.parent)\n",
    "        push_parents!(queue, l.parent)\n",
    "    end\n",
    "end"
   ]
  },
  {
   "cell_type": "code",
   "execution_count": 9,
   "id": "tropical-dietary",
   "metadata": {},
   "outputs": [
    {
     "data": {
      "text/plain": [
       "collect_outputs (generic function with 1 method)"
      ]
     },
     "execution_count": 9,
     "metadata": {},
     "output_type": "execute_result"
    }
   ],
   "source": [
    "function collect_outputs(l::Dual{T}) where T\n",
    "    queue = Dual{T}[l]\n",
    "\n",
    "    outputs = Dual{T}[]\n",
    "\n",
    "    while length(queue) > 0\n",
    "        l = popfirst!(queue)\n",
    "        if typeof(l.parent) <: Int\n",
    "            push!(outputs, l)\n",
    "        elseif typeof(l.parent) == Dual{T}\n",
    "            push!(queue, l.parent)\n",
    "        elseif typeof(l.parent) == Array{Dual{T}, 1}\n",
    "            append!(queue, l.parent)\n",
    "        else # Nothing\n",
    "            # Do nothing\n",
    "        end\n",
    "    end\n",
    "\n",
    "    outputs\n",
    "end\n"
   ]
  },
  {
   "cell_type": "code",
   "execution_count": 10,
   "id": "boolean-rocket",
   "metadata": {},
   "outputs": [
    {
     "data": {
      "text/plain": [
       "D"
      ]
     },
     "execution_count": 10,
     "metadata": {},
     "output_type": "execute_result"
    }
   ],
   "source": [
    "\"\"\"    D([i], f)\n",
    "\n",
    "Returns a function that computes the derivative of `f` (if it is\n",
    "single-argument) or the gradient of `f` (if it is multi-argument or takes a\n",
    "structured argument).  If `i` is given returns the `i`th component of the\n",
    "gradient (though this does not reduce the cost with backprop).\n",
    "\n",
    "Currently works only for `f` with scalar outputs.  Also, note that the autodiff\n",
    "will fail unless the output type is identical to the input type (the code\n",
    "automatically converts constants and non-differentiated expressions to the\n",
    "appropriate type---only the input and output type of the function needs to\n",
    "match).\n",
    "\n",
    "So, for example, `D(cos)(3)` will fail (because the output type is `Float64` not\n",
    "`Int`), while `D(cos)(3.0)` will work fine and return `-sin(3.0)`.\n",
    "\n",
    "\"\"\"\n",
    "function D(f)\n",
    "    function dfdx(x::T) where T <: Number\n",
    "        # Pass the function a backward infinitesimal whose backprop function\n",
    "        # stores the backprop derivative in dfdx_store\n",
    "        print(\"x::T\")\n",
    "\n",
    "        x = Dual(x, zero(x), 1, (dfdy, parents) -> nothing)\n",
    "\n",
    "        result = f(x)\n",
    "\n",
    "        result.dfdy = one(result.x)\n",
    "        backprop!(result)\n",
    "\n",
    "        y = collect_outputs(result)[1]\n",
    "\n",
    "        return y.dfdy\n",
    "    end\n",
    "\n",
    "    function dfdx(x::Array{T}, i) where T <: Number\n",
    "        print(\"array\")\n",
    "        fargs = [Dual(xelt, zero(xelt), i, (dfdy, parents) -> nothing) for (i, xelt) in enumerate(x)]\n",
    "        result = f(fargs)[i]\n",
    "        result.dfdy = one(result.x)\n",
    "        backprop!(result)\n",
    "        y = collect_outputs(result)\n",
    "        grad = zeros(typeof(result.x), length(x))\n",
    "        for yelt in y\n",
    "            grad[yelt.parent] = yelt.dfdy\n",
    "        end\n",
    "\n",
    "        return grad\n",
    "    end\n",
    "\n",
    "    function dfdx(x...)\n",
    "        print(\"x...\")\n",
    "\n",
    "        fargs = [Dual(xelt, zero(xelt), i, (dfdy, parents) -> nothing) for (i, xelt) in enumerate(x)]\n",
    "        result = f(fargs...)\n",
    "        result.dfdy = one(result.x)\n",
    "        backprop!(result)\n",
    "        y = collect_outputs(result)\n",
    "\n",
    "        grad = zeros(typeof(result.x), length(x))\n",
    "        for yelt in y\n",
    "            grad[yelt.parent] = yelt.dfdy\n",
    "        end\n",
    "\n",
    "        return grad\n",
    "    end\n",
    "\n",
    "    return dfdx\n",
    "end"
   ]
  },
  {
   "cell_type": "code",
   "execution_count": 11,
   "id": "boring-reconstruction",
   "metadata": {},
   "outputs": [
    {
     "data": {
      "text/plain": [
       "D (generic function with 2 methods)"
      ]
     },
     "execution_count": 11,
     "metadata": {},
     "output_type": "execute_result"
    }
   ],
   "source": [
    "function D(i::Integer, f)\n",
    "    df = D(f)\n",
    "    function df_wrapper(x...)\n",
    "        g = df(x...)\n",
    "        return g[i]\n",
    "    end\n",
    "    return df_wrapper\n",
    "end"
   ]
  },
  {
   "cell_type": "code",
   "execution_count": 12,
   "id": "religious-velvet",
   "metadata": {
    "scrolled": true
   },
   "outputs": [],
   "source": [
    "function bpp!(dfdy, xy)\n",
    "    x, y = xy\n",
    "    x.dfdy += dfdy\n",
    "    y.dfdy += dfdy\n",
    "end\n",
    "\n",
    "function +(x::Dual{T}, y::Dual{T}) where T\n",
    "    Dual(x.x + y.x, zero(T), [x, y], bpp!)\n",
    "end\n",
    "\n",
    "function bpm!(dfdy, xy)\n",
    "    x, y = xy\n",
    "    x.dfdy += dfdy\n",
    "    y.dfdy -= dfdy\n",
    "end\n",
    "function -(x::Dual{T}, y::Dual{T}) where T\n",
    "    Dual(x.x - y.x, zero(T), [x, y], bpm!)\n",
    "end\n",
    "\n",
    "function bpum!(dfdy, x)\n",
    "    x.dfdy -= dfdy\n",
    "end\n",
    "function -(x::Dual{T}) where T\n",
    "    Dual(-x.x, zero(T), x, bpum!)\n",
    "end\n",
    "\n",
    "function bpt!(dfdy, xy)\n",
    "    x,y = xy\n",
    "    x.dfdy += dfdy*y.x\n",
    "    y.dfdy += x.x*dfdy\n",
    "end\n",
    "function *(x::Dual{T}, y::Dual{T}) where T\n",
    "    Dual(x.x*y.x, zero(T), [x,y], bpt!)\n",
    "end\n",
    "\n",
    "function /(x::Dual{T}, y::Dual{T}) where T\n",
    "    yinv = one(T)/y.x\n",
    "\n",
    "    function bp!(dfdy, xy)\n",
    "        a,b = xy\n",
    "        a.dfdy += dfdy*yinv\n",
    "        b.dfdy -= a.x*dfdy*(yinv*yinv)\n",
    "    end\n",
    "\n",
    "    Dual(x.x*yinv, zero(T), [x,y], bp!)\n",
    "end\n",
    "\n",
    "function exp(x::Dual{T}) where T\n",
    "    expx = exp(x.x)\n",
    "\n",
    "    function bp!(dfdy, p)\n",
    "        p.dfdy += dfdy*expx\n",
    "    end\n",
    "\n",
    "    Dual(expx, zero(expx), x, bp!)\n",
    "end\n",
    "\n",
    "function exp(xs::Array)\n",
    "    print(xs)\n",
    "    return [exp(x) for x in xs]\n",
    "end\n",
    "\n",
    "function sin(x::Dual{T}) where T\n",
    "    function bp!(dfdy, p)\n",
    "        p.dfdy += cos(x.x)*dfdy\n",
    "    end\n",
    "\n",
    "    sx = sin(x.x)\n",
    "    Dual(sx, zero(sx), x, bp!)\n",
    "end\n",
    "\n",
    "function cos(x::Dual{T}) where T\n",
    "    function bp!(dfdy, p)\n",
    "        p.dfdy -= sin(x.x)*dfdy\n",
    "    end\n",
    "\n",
    "    cx = cos(x.x)\n",
    "    Dual(cx, zero(cx), x, bp!)\n",
    "end\n",
    "\n",
    "function tan(x::Dual{T}) where T\n",
    "    c = cos(x.x)\n",
    "    function bp!(dfdy, p)\n",
    "        p.dfdy += dfdy/(c*c)\n",
    "    end\n",
    "\n",
    "    tx = tan(x.x)\n",
    "    Dual(tx, zero(tx), x, bp!)\n",
    "end\n",
    "\n",
    "function sqrt(x::Dual{T}) where T\n",
    "    sqrtx = sqrt(x.x)\n",
    "\n",
    "    function bp!(dfdy, p)\n",
    "        p.dfdy += dfdy/(2*sqrtx)\n",
    "    end\n",
    "\n",
    "    Dual(sqrtx, zero(sqrtx), x, bp!)\n",
    "end\n",
    "\n",
    "function ^(a::Dual{T}, x::Dual{T}) where T\n",
    "    value = a.x^x.x\n",
    "    function bp!(dfdy, xy)\n",
    "        a,x = xy\n",
    "#          print(typeof(dfdy * (x.x) * (a.x)^(x.x - 1)), \" nic  \", typeof(dfdy * a.x^x.x*log(a.x)))\n",
    "        a.dfdy += dfdy * (x.x) * (a.x)^(x.x - 1)\n",
    "        x.dfdy += dfdy * a.x^x.x*log(a.x)\n",
    "    end\n",
    "\n",
    "    Dual(value, zero(value), [a, x], bp!)\n",
    "end\n",
    "\n",
    "function log(x::Dual{T}) where T\n",
    "    function bp!(dfdy, p)\n",
    "        p.dfdy += dfdy/x.x\n",
    "    end\n",
    "    Dual(log(x.x), zero(T), x, bp!)\n",
    "end\n",
    "\n",
    "function max(a, x::Dual{T}) where T\n",
    "    function bp!(dfdy,p)\n",
    "        p.dfdy += x.x < a ? a : 1 * dfdy\n",
    "    end\n",
    "    Dual(max(0, x.x), zero(T), x, bp!)\n",
    "    \n",
    "\n",
    "end\n",
    "\n",
    "\n",
    "isless(x::Dual, y::Dual) = x.x < y.x;"
   ]
  },
  {
   "cell_type": "code",
   "execution_count": 40,
   "id": "center-gazette",
   "metadata": {},
   "outputs": [
    {
     "data": {
      "text/plain": [
       "softmax (generic function with 1 method)"
      ]
     },
     "execution_count": 40,
     "metadata": {},
     "output_type": "execute_result"
    }
   ],
   "source": [
    "function iterate(iter::Dual, state=1)\n",
    "    if state > length(iter.x)\n",
    "        return nothing\n",
    "    end\n",
    "    return (iter[state],state+1)\n",
    "end\n",
    "\n",
    "function softmax(vector::Array)\n",
    "    e = exp(vector)    \n",
    "    return e / sum(e)\n",
    "end"
   ]
  },
  {
   "cell_type": "code",
   "execution_count": 14,
   "id": "green-integral",
   "metadata": {},
   "outputs": [
    {
     "data": {
      "text/plain": [
       "jacobian (generic function with 1 method)"
      ]
     },
     "execution_count": 14,
     "metadata": {},
     "output_type": "execute_result"
    }
   ],
   "source": [
    "J = function jacobian(f, number_of_functions, args::Vector{T}) where {T <:Number}\n",
    "    jacobian_rows = Matrix{T}[]\n",
    "    \n",
    "    for i=1:number_of_functions\n",
    "#         x = Dual{T}[]\n",
    "#         for j=1:length(args)\n",
    "#             seed = (i == j)\n",
    "#             push!(x, seed ?\n",
    "#                 Dual(args[j], one(args[j])) :\n",
    "#                 Dual(args[j],zero(args[j])) )\n",
    "#         end\n",
    "#         temp  = [f(x)..]\n",
    "        d = D(f)\n",
    "        rows = d(args,i)\n",
    "        push!(jacobian_rows, rows[:,:])\n",
    "    end\n",
    "    jacobian_rows\n",
    "end"
   ]
  },
  {
   "cell_type": "code",
   "execution_count": 15,
   "id": "fitting-drawing",
   "metadata": {},
   "outputs": [
    {
     "data": {
      "text/plain": [
       "test (generic function with 1 method)"
      ]
     },
     "execution_count": 15,
     "metadata": {},
     "output_type": "execute_result"
    }
   ],
   "source": [
    "function test(a, x)\n",
    "    return a*x\n",
    "end"
   ]
  },
  {
   "cell_type": "code",
   "execution_count": 16,
   "id": "encouraging-termination",
   "metadata": {},
   "outputs": [
    {
     "data": {
      "text/plain": [
       "(::var\"#dfdx#12\"{typeof(test)}) (generic function with 3 methods)"
      ]
     },
     "execution_count": 16,
     "metadata": {},
     "output_type": "execute_result"
    }
   ],
   "source": [
    "d = D(test)"
   ]
  },
  {
   "cell_type": "code",
   "execution_count": 17,
   "id": "available-willow",
   "metadata": {
    "scrolled": true
   },
   "outputs": [
    {
     "name": "stdout",
     "output_type": "stream",
     "text": [
      "x..."
     ]
    },
    {
     "data": {
      "text/plain": [
       "2-element Array{Int64,1}:\n",
       " 3\n",
       " 2"
      ]
     },
     "execution_count": 17,
     "metadata": {},
     "output_type": "execute_result"
    }
   ],
   "source": [
    "d(2, 3)"
   ]
  },
  {
   "cell_type": "code",
   "execution_count": 22,
   "id": "republican-boxing",
   "metadata": {},
   "outputs": [
    {
     "data": {
      "text/plain": [
       "f (generic function with 1 method)"
      ]
     },
     "execution_count": 22,
     "metadata": {},
     "output_type": "execute_result"
    }
   ],
   "source": [
    "# f(x::Vector) = [2x[1]*x[2], 3x[2]*x[3]^2]\n",
    "f(x::Vector) = [x[1], 5*x[3], 4x[2]^2-2x[3], x[3]*sin(x[1])]\n"
   ]
  },
  {
   "cell_type": "code",
   "execution_count": 25,
   "id": "agricultural-expression",
   "metadata": {},
   "outputs": [
    {
     "name": "stdout",
     "output_type": "stream",
     "text": [
      "array2asdsadsdaInt642asdsadsdaInt642asdsadsdaInt64array2asdsadsdaInt642asdsadsdaInt642asdsadsdaInt64array2asdsadsdaInt642asdsadsdaInt642asdsadsdaInt64array2asdsadsdaInt642asdsadsdaInt642asdsadsdaInt64"
     ]
    },
    {
     "data": {
      "text/plain": [
       "4-element Array{Array{Float64,2},1}:\n",
       " [1.0; 0.0; 0.0]\n",
       " [0.0; 0.0; 5.0]\n",
       " [0.0; 16.0; -2.0]\n",
       " [1.6209069176044193; 0.0; 0.8414709848078965]"
      ]
     },
     "execution_count": 25,
     "metadata": {},
     "output_type": "execute_result"
    }
   ],
   "source": [
    "J(f,4,[1.,2., 3.]) \n"
   ]
  },
  {
   "cell_type": "code",
   "execution_count": 44,
   "id": "convenient-failing",
   "metadata": {
    "scrolled": true
   },
   "outputs": [
    {
     "name": "stdout",
     "output_type": "stream",
     "text": [
      "arrayDual{Float64}[Dual{Float64}(1.0, 0.0, 1, var\"#9#15\"()), Dual{Float64}(2.0, 0.0, 2, var\"#9#15\"())]arrayDual{Float64}[Dual{Float64}(1.0, 0.0, 1, var\"#9#15\"()), Dual{Float64}(2.0, 0.0, 2, var\"#9#15\"())]"
     ]
    },
    {
     "data": {
      "text/plain": [
       "2-element Array{Array{Float64,2},1}:\n",
       " [0.46555335461147695; -0.19661193324148185]\n",
       " [-0.19661193324148188; 0.9276705118714866]"
      ]
     },
     "execution_count": 44,
     "metadata": {},
     "output_type": "execute_result"
    }
   ],
   "source": [
    "J(softmax,2,[1., 2.]) "
   ]
  },
  {
   "cell_type": "code",
   "execution_count": 48,
   "id": "twenty-wisconsin",
   "metadata": {},
   "outputs": [
    {
     "data": {
      "text/plain": [
       "3-element Array{Dual{Float64},1}:\n",
       " Dual{Float64}(2.0, 0.0, nothing, nothing)\n",
       " Dual{Float64}(2.0, 0.0, nothing, nothing)\n",
       " Dual{Float64}(2.0, 0.0, nothing, nothing)"
      ]
     },
     "execution_count": 48,
     "metadata": {},
     "output_type": "execute_result"
    }
   ],
   "source": [
    "x = [Dual(1.0, 0.0, nothing, nothing), Dual(2.0, 0.0, nothing, nothing), Dual(3.0, 0.0, nothing, nothing)]\n",
    "y = [Dual(2.0, 0.0, nothing, nothing), Dual(2.0, 0.0, nothing, nothing), Dual(2.0, 0.0, nothing, nothing)]\n"
   ]
  },
  {
   "cell_type": "code",
   "execution_count": 59,
   "id": "asian-toolbox",
   "metadata": {},
   "outputs": [
    {
     "name": "stdout",
     "output_type": "stream",
     "text": [
      "Dual{Float64}[Dual{Float64}(1.0, 0.0, nothing, nothing), Dual{Float64}(2.0, 0.0, nothing, nothing), Dual{Float64}(3.0, 0.0, nothing, nothing)]"
     ]
    },
    {
     "data": {
      "text/plain": [
       "3-element Array{Dual{Float64},1}:\n",
       "  Dual{Float64}(0.45304697140984085, 0.0, Dual{Float64}[Dual{Float64}(2.718281828459045, 0.0, Dual{Float64}(1.0, 0.0, nothing, nothing), var\"#bp!#38\"{Float64}(2.718281828459045)), Dual{Float64}(6.0, 0.0, Dual{Float64}[Dual{Float64}(3.0, 0.0, Dual{Float64}[Dual{Float64}(1.0, 0.0, nothing, nothing), Dual{Float64}(2.0, 0.0, nothing, nothing)], bpp!), Dual{Float64}(3.0, 0.0, nothing, nothing)], bpp!)], var\"#bp!#37\"{Float64}(0.16666666666666666))\n",
       "      Dual{Float64}(1.231509349821775, 0.0, Dual{Float64}[Dual{Float64}(7.38905609893065, 0.0, Dual{Float64}(2.0, 0.0, nothing, nothing), var\"#bp!#38\"{Float64}(7.38905609893065)), Dual{Float64}(6.0, 0.0, Dual{Float64}[Dual{Float64}(3.0, 0.0, Dual{Float64}[Dual{Float64}(1.0, 0.0, nothing, nothing), Dual{Float64}(2.0, 0.0, nothing, nothing)], bpp!), Dual{Float64}(3.0, 0.0, nothing, nothing)], bpp!)], var\"#bp!#37\"{Float64}(0.16666666666666666))\n",
       " Dual{Float64}(3.3475894871979444, 0.0, Dual{Float64}[Dual{Float64}(20.085536923187668, 0.0, Dual{Float64}(3.0, 0.0, nothing, nothing), var\"#bp!#38\"{Float64}(20.085536923187668)), Dual{Float64}(6.0, 0.0, Dual{Float64}[Dual{Float64}(3.0, 0.0, Dual{Float64}[Dual{Float64}(1.0, 0.0, nothing, nothing), Dual{Float64}(2.0, 0.0, nothing, nothing)], bpp!), Dual{Float64}(3.0, 0.0, nothing, nothing)], bpp!)], var\"#bp!#37\"{Float64}(0.16666666666666666))"
      ]
     },
     "execution_count": 59,
     "metadata": {},
     "output_type": "execute_result"
    }
   ],
   "source": [
    "exp(x)/sum(x)\n"
   ]
  },
  {
   "cell_type": "code",
   "execution_count": 49,
   "id": "efficient-details",
   "metadata": {},
   "outputs": [
    {
     "data": {
      "text/plain": [
       "(::var\"#dfdx#67\"{typeof(f)}) (generic function with 3 methods)"
      ]
     },
     "execution_count": 49,
     "metadata": {},
     "output_type": "execute_result"
    }
   ],
   "source": [
    "d = D(f)"
   ]
  },
  {
   "cell_type": "code",
   "execution_count": 51,
   "id": "advanced-deposit",
   "metadata": {},
   "outputs": [
    {
     "name": "stdout",
     "output_type": "stream",
     "text": [
      "arrayDual{Int64}[Dual{Int64}(18, 1, Dual{Int64}[Dual{Int64}(6, 0, Dual{Int64}[Dual{Int64}(3, 0, nothing, var\"#1#2\"()), Dual{Int64}(2, 0, 2, var\"#64#70\"())], bpt!), Dual{Int64}(3, 0, 3, var\"#64#70\"())], bpt!)]"
     ]
    },
    {
     "data": {
      "text/plain": [
       "3-element Array{Int64,1}:\n",
       " 0\n",
       " 9\n",
       " 6"
      ]
     },
     "execution_count": 51,
     "metadata": {},
     "output_type": "execute_result"
    }
   ],
   "source": [
    "d([1,2,3],2)"
   ]
  },
  {
   "cell_type": "code",
   "execution_count": 39,
   "id": "little-oklahoma",
   "metadata": {},
   "outputs": [
    {
     "data": {
      "text/plain": [
       "3-element Array{Float64,1}:\n",
       " 0.09003057317038046\n",
       " 0.24472847105479767\n",
       " 0.6652409557748219"
      ]
     },
     "execution_count": 39,
     "metadata": {},
     "output_type": "execute_result"
    }
   ],
   "source": [
    "softmax([1,2,3])"
   ]
  },
  {
   "cell_type": "code",
   "execution_count": null,
   "id": "considered-commodity",
   "metadata": {},
   "outputs": [],
   "source": []
  }
 ],
 "metadata": {
  "kernelspec": {
   "display_name": "Julia 1.5.4",
   "language": "julia",
   "name": "julia-1.5"
  },
  "language_info": {
   "file_extension": ".jl",
   "mimetype": "application/julia",
   "name": "julia",
   "version": "1.5.4"
  }
 },
 "nbformat": 4,
 "nbformat_minor": 5
}

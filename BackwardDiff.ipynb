{
 "cells": [
  {
   "cell_type": "code",
   "execution_count": 5,
   "id": "requested-variable",
   "metadata": {},
   "outputs": [],
   "source": [
    "import Base: iterate, exp, log, sin, cos, tan, +, ^, -, *, /, sqrt, convert, promote_rule, zero,max, isless\n",
    "using BenchmarkTools\n",
    "using Plots"
   ]
  },
  {
   "cell_type": "code",
   "execution_count": 6,
   "id": "found-offer",
   "metadata": {},
   "outputs": [],
   "source": [
    "mutable struct Dual{T <: Number} <: Number\n",
    "    value::T\n",
    "    dfdy::T\n",
    "    parent::Union{Dual{T}, Array{Dual{T},1}, Int, Nothing}\n",
    "    backpropagation!\n",
    "end"
   ]
  },
  {
   "cell_type": "code",
   "execution_count": 7,
   "id": "documentary-nickel",
   "metadata": {},
   "outputs": [
    {
     "data": {
      "text/plain": [
       "convert (generic function with 256 methods)"
      ]
     },
     "execution_count": 7,
     "metadata": {},
     "output_type": "execute_result"
    }
   ],
   "source": [
    "function convert(::Type{Dual{T}}, x::T) where T <: Number\n",
    "    Dual(x, zero(T), nothing, (dfdy, parents) -> nothing)\n",
    "end\n",
    "\n",
    "function convert(::Type{Dual{T}}, x::S) where {T, S <: Number}\n",
    "    Dual(T(x), zero(T), nothing, (dfdy, parents) -> nothing)\n",
    "end\n",
    "\n",
    "function convert(::Type{Dual{T}}, x::Dual{T}) where T\n",
    "    x\n",
    "end\n"
   ]
  },
  {
   "cell_type": "code",
   "execution_count": 8,
   "id": "distinct-reconstruction",
   "metadata": {},
   "outputs": [
    {
     "data": {
      "text/plain": [
       "zero (generic function with 37 methods)"
      ]
     },
     "execution_count": 8,
     "metadata": {},
     "output_type": "execute_result"
    }
   ],
   "source": [
    "function zero(x::Dual{T}) where T\n",
    "    Dual(zero(T), zero(T), nothing, (dfdy, parents) -> nothing)\n",
    "end"
   ]
  },
  {
   "cell_type": "code",
   "execution_count": 10,
   "id": "entitled-proportion",
   "metadata": {},
   "outputs": [
    {
     "data": {
      "text/plain": [
       "promote_rule (generic function with 154 methods)"
      ]
     },
     "execution_count": 10,
     "metadata": {},
     "output_type": "execute_result"
    }
   ],
   "source": [
    "function promote_rule(::Type{Dual{T}}, ::Type{S}) where {T, S <: Number}\n",
    "    Dual{promote_type(T,S)}\n",
    "end\n",
    "\n",
    "function promote_rule(::Type{T}, ::Type{Dual{S}}) where {T <: Number, S}\n",
    "    Dual{promote_type(T,S)}\n",
    "end\n",
    "\n",
    "function promote_rule(::Type{S}, ::Type{Dual{T}}) where {S <: AbstractIrrational, T}\n",
    "    Dual{promote_type(S, T)}\n",
    "end"
   ]
  },
  {
   "cell_type": "code",
   "execution_count": 11,
   "id": "acceptable-aquatic",
   "metadata": {},
   "outputs": [
    {
     "data": {
      "text/plain": [
       "push_parents! (generic function with 4 methods)"
      ]
     },
     "execution_count": 11,
     "metadata": {},
     "output_type": "execute_result"
    }
   ],
   "source": [
    "function push_parents!(queue::Array{Dual{T}, 1}, ::Nothing) where T\n",
    "end\n",
    "function push_parents!(queue::Array{Dual{T}, 1}, i::Int) where T\n",
    "end\n",
    "function push_parents!(queue::Array{Dual{T}, 1}, ls::Array{Dual{T}, 1}) where T\n",
    "    append!(queue, ls)\n",
    "end\n",
    "function push_parents!(queue::Array{Dual{T}, 1}, l::Dual{T}) where T\n",
    "    push!(queue, l)\n",
    "end"
   ]
  },
  {
   "cell_type": "code",
   "execution_count": 12,
   "id": "approved-diagram",
   "metadata": {},
   "outputs": [
    {
     "data": {
      "text/plain": [
       "backprop! (generic function with 2 methods)"
      ]
     },
     "execution_count": 12,
     "metadata": {},
     "output_type": "execute_result"
    }
   ],
   "source": [
    "function backprop!(l::Dual{T}) where T\n",
    "    backprop!([l])\n",
    "end\n",
    "function backprop!(queue::Array{Dual{T},1}) where T\n",
    "    while length(queue) > 0\n",
    "        l = popfirst!(queue)\n",
    "        l.backpropagation!(l.dfdy, l.parent)\n",
    "        push_parents!(queue, l.parent)\n",
    "    end\n",
    "end"
   ]
  },
  {
   "cell_type": "code",
   "execution_count": 13,
   "id": "tropical-dietary",
   "metadata": {},
   "outputs": [
    {
     "data": {
      "text/plain": [
       "collect_outputs (generic function with 1 method)"
      ]
     },
     "execution_count": 13,
     "metadata": {},
     "output_type": "execute_result"
    }
   ],
   "source": [
    "function collect_outputs(l::Dual{T}) where T\n",
    "    queue = Dual{T}[l]\n",
    "\n",
    "    outputs = Dual{T}[]\n",
    "\n",
    "    while length(queue) > 0\n",
    "        l = popfirst!(queue)\n",
    "        if typeof(l.parent) <: Int\n",
    "            push!(outputs, l)\n",
    "        elseif typeof(l.parent) == Dual{T}\n",
    "            push!(queue, l.parent)\n",
    "        elseif typeof(l.parent) == Array{Dual{T}, 1}\n",
    "            append!(queue, l.parent)\n",
    "        end\n",
    "    end\n",
    "\n",
    "    outputs\n",
    "end\n"
   ]
  },
  {
   "cell_type": "code",
   "execution_count": 14,
   "id": "boolean-rocket",
   "metadata": {},
   "outputs": [
    {
     "data": {
      "text/plain": [
       "derivativeСalculation (generic function with 1 method)"
      ]
     },
     "execution_count": 14,
     "metadata": {},
     "output_type": "execute_result"
    }
   ],
   "source": [
    "function derivativeСalculation(f)\n",
    "    function dfdx(x::T) where T <: Number\n",
    "        x = Dual(x, zero(x), 1, (dfdy, parents) -> nothing)\n",
    "        result = f(x)\n",
    "        result.dfdy = one(result.value)\n",
    "        backprop!(result)\n",
    "        y = collect_outputs(result)[1]\n",
    "        return y.dfdy\n",
    "    end\n",
    "\n",
    "    function dfdx(x::Array{T}, i) where T <: Number\n",
    "        fargs = [Dual(xelt, zero(xelt), i, (dfdy, parents) -> nothing) for (i, xelt) in enumerate(x)]\n",
    "        result = f(fargs)[i]\n",
    "        result.dfdy = one(result.value)\n",
    "        backprop!(result)\n",
    "        y = collect_outputs(result)\n",
    "        grad = zeros(typeof(result.value), length(x))\n",
    "        for yelt in y\n",
    "            grad[yelt.parent] = yelt.dfdy\n",
    "        end\n",
    "\n",
    "        return grad\n",
    "    end\n",
    "\n",
    "    function dfdx(x...)\n",
    "        fargs = [Dual(xelt, zero(xelt), i, (dfdy, parents) -> nothing) for (i, xelt) in enumerate(x)]\n",
    "        result = f(fargs...)\n",
    "        result.dfdy = one(result.value)\n",
    "        backprop!(result)\n",
    "        y = collect_outputs(result)\n",
    "        grad = zeros(typeof(result.value), length(x))\n",
    "        for yelt in y\n",
    "            grad[yelt.parent] = yelt.dfdy\n",
    "        end\n",
    "\n",
    "        return grad\n",
    "    end\n",
    "\n",
    "    return dfdx\n",
    "end"
   ]
  },
  {
   "cell_type": "code",
   "execution_count": 15,
   "id": "boring-reconstruction",
   "metadata": {},
   "outputs": [
    {
     "data": {
      "text/plain": [
       "derivativeСalculation (generic function with 2 methods)"
      ]
     },
     "execution_count": 15,
     "metadata": {},
     "output_type": "execute_result"
    }
   ],
   "source": [
    "function derivativeСalculation(i::Integer, f)\n",
    "    df = derivativeСalculation(f)\n",
    "    function df_wrapper(x...)\n",
    "        g = df(x...)\n",
    "        return g[i]\n",
    "    end\n",
    "    return df_wrapper\n",
    "end"
   ]
  },
  {
   "cell_type": "code",
   "execution_count": 16,
   "id": "religious-velvet",
   "metadata": {
    "scrolled": true
   },
   "outputs": [],
   "source": [
    "function backpropagationForPlus!(dfdy, xy)\n",
    "    x, y = xy\n",
    "    x.dfdy += dfdy\n",
    "    y.dfdy += dfdy\n",
    "end\n",
    "\n",
    "function +(x::Dual{T}, y::Dual{T}) where T\n",
    "    if x == y\n",
    "        new_y = Dual(y.value, y.dfdy, y.parent, y.backpropagation!)\n",
    "        return Dual(x.value + y.value, zero(T), [x, new_y], backpropagationForPlus!)\n",
    "    end\n",
    "    Dual(x.value + y.value, zero(T), [x, y], backpropagationForPlus!)\n",
    "end\n",
    "\n",
    "function backpropagationForMinus!(dfdy, xy) \n",
    "    x, y = xy\n",
    "    x.dfdy += dfdy\n",
    "    y.dfdy -= dfdy\n",
    "end\n",
    "\n",
    "function -(x::Dual{T}, y::Dual{T}) where T\n",
    "    Dual(x.value - y.value, zero(T), [x, y], backpropagationForMinus!)\n",
    "end\n",
    "\n",
    "function backpropagationForMinusOneDual!(dfdy, x)\n",
    "    x.dfdy -= dfdy\n",
    "end\n",
    "\n",
    "function -(x::Dual{T}) where T\n",
    "    Dual(-x.value, zero(T), x, backpropagationForMinusOneDual!)\n",
    "end\n",
    "\n",
    "function backpropagationForMultiplication!(dfdy, xy)\n",
    "    x,y = xy    \n",
    "    x.dfdy += dfdy*y.value\n",
    "    y.dfdy += x.value*dfdy\n",
    "end\n",
    "\n",
    "\n",
    "function *(x::Dual{T}, y::Dual{T}) where T\n",
    "    return Dual(x.value*y.value, zero(T), [x,y], backpropagationForMultiplication!)\n",
    "end\n",
    "\n",
    "function /(x::Dual{T}, y::Dual{T}) where T\n",
    "    yinv = one(T)/y.value\n",
    "    function backpropagationForDividing!(dfdy, xy)\n",
    "        a,b = xy\n",
    "        a.dfdy += dfdy*yinv\n",
    "        b.dfdy -= a.value*dfdy*(yinv*yinv)\n",
    "    end\n",
    "    if x == y\n",
    "        new_y = Dual(y.value, y.dfdy, y.parent, y.backpropagation!)\n",
    "        return Dual(x.value*yinv, zero(T), [x, new_y], backpropagationForDividing!)\n",
    "    end\n",
    "    Dual(x.value*yinv, zero(T), [x,y], backpropagationForDividing!)\n",
    "end\n",
    "\n",
    "function exp(x::Dual{T}) where T\n",
    "    expValue = exp(x.value)\n",
    "\n",
    "    function bp!(dfdy, p)\n",
    "        p.dfdy += dfdy*expValue\n",
    "    end\n",
    "\n",
    "    Dual(expValue, zero(expValue), x, bp!)\n",
    "end\n",
    "\n",
    "function exp(xs::Array)\n",
    "    return [exp(x) for x in xs]\n",
    "end\n",
    "\n",
    "function sin(x::Dual{T}) where T\n",
    "    \n",
    "    function bp!(dfdy, p)\n",
    "        p.dfdy += cos(x.value)*dfdy\n",
    "    end\n",
    "\n",
    "    sx = sin(x.value)\n",
    "    Dual(sx, zero(sx), x, bp!)\n",
    "end\n",
    "\n",
    "function cos(x::Dual{T}) where T\n",
    "    \n",
    "    function bp!(dfdy, p)\n",
    "        p.dfdy -= sin(x.value)*dfdy\n",
    "    end\n",
    "\n",
    "    cx = cos(x.value)\n",
    "    Dual(cx, zero(cx), x, bp!)\n",
    "end\n",
    "\n",
    "function tan(x::Dual{T}) where T\n",
    "    c = cos(x.value)\n",
    "    \n",
    "    function bp!(dfdy, p)\n",
    "        p.dfdy += dfdy/(c*c)\n",
    "    end\n",
    "\n",
    "    tx = tan(x.value)\n",
    "    Dual(tx, zero(tx), x, bp!)\n",
    "end\n",
    "\n",
    "function sqrt(x::Dual{T}) where T\n",
    "    sqrtValue = sqrt(x.value)\n",
    "\n",
    "    function bp!(dfdy, p)\n",
    "        p.dfdy += dfdy/(2*sqrtValue)\n",
    "    end\n",
    "\n",
    "    Dual(sqrtValue, zero(sqrtValue), x, bp!)\n",
    "end\n",
    "\n",
    "function ^(a::Dual{T}, x::Dual{T}) where T\n",
    "    value = a.value^x.value\n",
    "    function bp!(dfdy, xy)\n",
    "        a,x = xy\n",
    "        a.dfdy += dfdy * (x.value) * (a.value)^(x.value - 1)\n",
    "        x.dfdy += dfdy * a.value^x.value*log(a.value)\n",
    "    end\n",
    "\n",
    "    Dual(value, zero(value), [a, x], bp!)\n",
    "end\n",
    "\n",
    "function ^(x::Dual{T}, n::Integer) where T\n",
    "    value = x.value^n\n",
    "    function bp!(dfdy, x)\n",
    "        x.dfdy += n * dfdy*x.value^(n-1)\n",
    "    end\n",
    "    \n",
    "    Dual(value, zero(value), x, bp!)\n",
    "end\n",
    "\n",
    "function log(x::Dual{T}) where T\n",
    "    \n",
    "    function bp!(dfdy, p)\n",
    "        p.dfdy += dfdy/x.value\n",
    "    end\n",
    "    \n",
    "    Dual(log(x.value), zero(T), x, bp!)\n",
    "end\n",
    "\n",
    "function max(a, x::Dual{T}) where T\n",
    "    \n",
    "    function bp!(dfdy,p)\n",
    "        p.dfdy += x.value < a ? a : 1 * dfdy\n",
    "    end\n",
    "    \n",
    "    Dual(max(0, x.value), zero(T), x, bp!)\n",
    "    \n",
    "end\n",
    "\n",
    "isless(x::Dual, y::Dual) = x.value < y.value;"
   ]
  },
  {
   "cell_type": "code",
   "execution_count": 17,
   "id": "center-gazette",
   "metadata": {},
   "outputs": [
    {
     "data": {
      "text/plain": [
       "softmax (generic function with 1 method)"
      ]
     },
     "execution_count": 17,
     "metadata": {},
     "output_type": "execute_result"
    }
   ],
   "source": [
    "function softmax(vector::Array)\n",
    "    e = exp(vector)\n",
    "    return e / sum(e)\n",
    "end"
   ]
  },
  {
   "cell_type": "code",
   "execution_count": 18,
   "id": "green-integral",
   "metadata": {},
   "outputs": [
    {
     "data": {
      "text/plain": [
       "jacobian (generic function with 1 method)"
      ]
     },
     "execution_count": 18,
     "metadata": {},
     "output_type": "execute_result"
    }
   ],
   "source": [
    "J = function jacobian(f, number_of_functions, args::Vector{T}) where {T <:Number}\n",
    "    jacobian_rows = Matrix{T}[]\n",
    "    d = derivativeСalculation(f)  \n",
    "    for i=1:number_of_functions\n",
    "        rows = d(args,i)\n",
    "        push!(jacobian_rows, rows[:,:])\n",
    "    end\n",
    "    jacobian_rows\n",
    "end"
   ]
  },
  {
   "cell_type": "markdown",
   "id": "c278658b",
   "metadata": {},
   "source": [
    "## Definicja funkcji testowych"
   ]
  },
  {
   "cell_type": "code",
   "execution_count": 19,
   "id": "7499787e",
   "metadata": {},
   "outputs": [
    {
     "data": {
      "text/plain": [
       "rosenbrock (generic function with 1 method)"
      ]
     },
     "execution_count": 19,
     "metadata": {},
     "output_type": "execute_result"
    }
   ],
   "source": [
    "function styblinskiTang(x)\n",
    "    value = zero(x[1])\n",
    "    for i=1:length(x)\n",
    "        value += x[i]^4 - 16 * x[i]^2 + 5 * x[i]\n",
    "    end\n",
    "    value / 2\n",
    "end\n",
    "\n",
    "function rosenbrock(x)\n",
    "    value = zero(x[1])\n",
    "    for i=2:length(x)\n",
    "        value += (1-x[i-1])^2 + 100*(x[i] - x[i-1]^2)^2\n",
    "    end\n",
    "    value\n",
    "end"
   ]
  },
  {
   "cell_type": "code",
   "execution_count": 20,
   "id": "a8b479c6",
   "metadata": {},
   "outputs": [
    {
     "data": {
      "text/plain": [
       "TestFunction5 (generic function with 1 method)"
      ]
     },
     "execution_count": 20,
     "metadata": {},
     "output_type": "execute_result"
    }
   ],
   "source": [
    "function TestFunction1(x)\n",
    "    f1 = 123.83*(x[2]^8)^2 + cos(x[1]^18) - sin(x[1])/exp(x[2])\n",
    "end\n",
    "\n",
    "function TestFunction2(x)\n",
    "    f1 = 222.83*(x[2]^8+x[1]^-3)^2 + sin(x[1]^18) - cos(x[2])/exp(x[1])\n",
    "    f2 = x[1] - 5/x[2] + 4*x[1]^2-2*x[2] / (x[2]*sin(x[2])^2 + 1)\n",
    "    [f1,f2]\n",
    "end\n",
    "\n",
    "function viennet(x)\n",
    "    f1 = 0.5*(x[1]^2+x[2]^2) + sin(x[1]^2+ x[2]^2)\n",
    "    f2 = (x[1]-2*x[2]+4)^2/8 + (x[1]-x[2]+1)^2/27 + 15\n",
    "    f3 = 1/(x[1]^2+x[2]^2+1) - 1.1* exp(-(x[1]^2+x[2]^2))\n",
    "    [f1,f2,f3]\n",
    "end\n",
    "\n",
    "function TestFunction4(x)\n",
    "    f1 = 222.83*(x[2]^8+x[1]^-3)^2 + sin(x[1]^18) - cos(x[2])/exp(x[1])\n",
    "    f2 = (x[1]^15-234.32)^3 + (tan(x[2]^5) + sin(x[1])^98)^36 \n",
    "    f3 = x[1]*x[2]^34 - tan(343)^2 - sin(x[1])^8\n",
    "    f4 = (x[1]^2+x[2]-4325.43)^23 - cos(x[2])*sin(x[1])^3\n",
    "    [f1,f2,f3,f4]\n",
    "end\n",
    "\n",
    "function TestFunction5(x)\n",
    "    f1 = 222.83*(x[2]^8+x[1]^-3)^2 + sin(x[1]^18) - cos(x[2])/exp(x[1])\n",
    "    f2 = x[1]+x[1]^232+(sqrt(x[2]))^2+ (x[1]+x[2]^3)/233\n",
    "    f3 = 2342434+23*x[1]^32-tan(x[2])+ (x[2]*sin(x[2])^2 + 1)\n",
    "    f4 = 4*x[1]^2-2*x[2] / (x[2]*sin(x[2])^2 + 1)\n",
    "    f5 = x[1] - 5/x[2] + 4*x[1]^2-2*x[2]\n",
    "    [f1,f2,f3,f4,f5]\n",
    "end"
   ]
  },
  {
   "cell_type": "markdown",
   "id": "79765404",
   "metadata": {},
   "source": [
    "## Testy funkcji weluzmiennych "
   ]
  },
  {
   "cell_type": "markdown",
   "id": "f6598c4e",
   "metadata": {},
   "source": [
    "### Testowanie funkcji Rosenbrock"
   ]
  },
  {
   "cell_type": "code",
   "execution_count": 21,
   "id": "1b87bbe6",
   "metadata": {},
   "outputs": [
    {
     "data": {
      "text/plain": [
       "BenchmarkTools.Trial: \n",
       "  memory estimate:  7.98 KiB\n",
       "  allocs estimate:  190\n",
       "  --------------\n",
       "  minimum time:     7.233 μs (0.00% GC)\n",
       "  median time:      7.654 μs (0.00% GC)\n",
       "  mean time:        8.823 μs (8.66% GC)\n",
       "  maximum time:     1.185 ms (98.63% GC)\n",
       "  --------------\n",
       "  samples:          10000\n",
       "  evals/sample:     4"
      ]
     },
     "execution_count": 21,
     "metadata": {},
     "output_type": "execute_result"
    }
   ],
   "source": [
    "@benchmark J(rosenbrock,1,[rand(5,1)...]) "
   ]
  },
  {
   "cell_type": "code",
   "execution_count": 17,
   "id": "5b7032dd",
   "metadata": {},
   "outputs": [
    {
     "data": {
      "text/plain": [
       "BenchmarkTools.Trial: \n",
       "  memory estimate:  76.64 KiB\n",
       "  allocs estimate:  2041\n",
       "  --------------\n",
       "  minimum time:     77.329 μs (0.00% GC)\n",
       "  median time:      79.840 μs (0.00% GC)\n",
       "  mean time:        85.987 μs (5.37% GC)\n",
       "  maximum time:     2.965 ms (96.29% GC)\n",
       "  --------------\n",
       "  samples:          10000\n",
       "  evals/sample:     1"
      ]
     },
     "execution_count": 17,
     "metadata": {},
     "output_type": "execute_result"
    }
   ],
   "source": [
    "@benchmark J(rosenbrock,1,[rand(50,1)...]) "
   ]
  },
  {
   "cell_type": "code",
   "execution_count": 18,
   "id": "8c7e3465",
   "metadata": {},
   "outputs": [
    {
     "data": {
      "text/plain": [
       "BenchmarkTools.Trial: \n",
       "  memory estimate:  151.41 KiB\n",
       "  allocs estimate:  4092\n",
       "  --------------\n",
       "  minimum time:     148.002 μs (0.00% GC)\n",
       "  median time:      158.158 μs (0.00% GC)\n",
       "  mean time:        171.302 μs (5.11% GC)\n",
       "  maximum time:     3.895 ms (91.77% GC)\n",
       "  --------------\n",
       "  samples:          10000\n",
       "  evals/sample:     1"
      ]
     },
     "execution_count": 18,
     "metadata": {},
     "output_type": "execute_result"
    }
   ],
   "source": [
    "@benchmark J(rosenbrock,1,[rand(100,1)...]) "
   ]
  },
  {
   "cell_type": "code",
   "execution_count": 19,
   "id": "0df756b3",
   "metadata": {},
   "outputs": [
    {
     "data": {
      "text/plain": [
       "BenchmarkTools.Trial: \n",
       "  memory estimate:  741.47 KiB\n",
       "  allocs estimate:  20494\n",
       "  --------------\n",
       "  minimum time:     753.102 μs (0.00% GC)\n",
       "  median time:      770.391 μs (0.00% GC)\n",
       "  mean time:        821.326 μs (5.41% GC)\n",
       "  maximum time:     4.525 ms (78.57% GC)\n",
       "  --------------\n",
       "  samples:          6070\n",
       "  evals/sample:     1"
      ]
     },
     "execution_count": 19,
     "metadata": {},
     "output_type": "execute_result"
    }
   ],
   "source": [
    "@benchmark J(rosenbrock,1,[rand(500,1)...]) "
   ]
  },
  {
   "cell_type": "code",
   "execution_count": 20,
   "id": "5de6b332",
   "metadata": {},
   "outputs": [
    {
     "data": {
      "text/plain": [
       "BenchmarkTools.Trial: \n",
       "  memory estimate:  1.46 MiB\n",
       "  allocs estimate:  41485\n",
       "  --------------\n",
       "  minimum time:     1.528 ms (0.00% GC)\n",
       "  median time:      1.569 ms (0.00% GC)\n",
       "  mean time:        1.668 ms (5.56% GC)\n",
       "  maximum time:     5.283 ms (63.97% GC)\n",
       "  --------------\n",
       "  samples:          2992\n",
       "  evals/sample:     1"
      ]
     },
     "execution_count": 20,
     "metadata": {},
     "output_type": "execute_result"
    }
   ],
   "source": [
    "@benchmark J(rosenbrock,1,[rand(1000,1)...]) "
   ]
  },
  {
   "cell_type": "code",
   "execution_count": 21,
   "id": "492510cf",
   "metadata": {},
   "outputs": [
    {
     "data": {
      "text/plain": [
       "BenchmarkTools.Trial: \n",
       "  memory estimate:  7.26 MiB\n",
       "  allocs estimate:  209492\n",
       "  --------------\n",
       "  minimum time:     7.925 ms (0.00% GC)\n",
       "  median time:      8.249 ms (0.00% GC)\n",
       "  mean time:        8.805 ms (6.99% GC)\n",
       "  maximum time:     12.632 ms (36.37% GC)\n",
       "  --------------\n",
       "  samples:          568\n",
       "  evals/sample:     1"
      ]
     },
     "execution_count": 21,
     "metadata": {},
     "output_type": "execute_result"
    }
   ],
   "source": [
    "@benchmark J(rosenbrock,1,[rand(5000,1)...]) "
   ]
  },
  {
   "cell_type": "code",
   "execution_count": 22,
   "id": "80678ea0",
   "metadata": {},
   "outputs": [
    {
     "data": {
      "text/plain": [
       "BenchmarkTools.Trial: \n",
       "  memory estimate:  14.53 MiB\n",
       "  allocs estimate:  419493\n",
       "  --------------\n",
       "  minimum time:     16.464 ms (0.00% GC)\n",
       "  median time:      17.127 ms (0.00% GC)\n",
       "  mean time:        18.512 ms (9.16% GC)\n",
       "  maximum time:     24.263 ms (16.97% GC)\n",
       "  --------------\n",
       "  samples:          270\n",
       "  evals/sample:     1"
      ]
     },
     "execution_count": 22,
     "metadata": {},
     "output_type": "execute_result"
    }
   ],
   "source": [
    "@benchmark J(rosenbrock,1,[rand(10000,1)...]) "
   ]
  },
  {
   "cell_type": "markdown",
   "id": "b2446018",
   "metadata": {},
   "source": [
    "### Testowanie funkcji styblinskiTang"
   ]
  },
  {
   "cell_type": "code",
   "execution_count": 22,
   "id": "2d44742d",
   "metadata": {},
   "outputs": [
    {
     "data": {
      "text/plain": [
       "BenchmarkTools.Trial: \n",
       "  memory estimate:  10.14 KiB\n",
       "  allocs estimate:  218\n",
       "  --------------\n",
       "  minimum time:     8.712 μs (0.00% GC)\n",
       "  median time:      9.096 μs (0.00% GC)\n",
       "  mean time:        10.095 μs (7.79% GC)\n",
       "  maximum time:     1.353 ms (99.06% GC)\n",
       "  --------------\n",
       "  samples:          10000\n",
       "  evals/sample:     3"
      ]
     },
     "execution_count": 22,
     "metadata": {},
     "output_type": "execute_result"
    }
   ],
   "source": [
    "@benchmark J(styblinskiTang,1,[rand(5,1)...]) "
   ]
  },
  {
   "cell_type": "code",
   "execution_count": 24,
   "id": "d8c58cb7",
   "metadata": {},
   "outputs": [
    {
     "data": {
      "text/plain": [
       "BenchmarkTools.Trial: \n",
       "  memory estimate:  73.52 KiB\n",
       "  allocs estimate:  1887\n",
       "  --------------\n",
       "  minimum time:     69.606 μs (0.00% GC)\n",
       "  median time:      71.283 μs (0.00% GC)\n",
       "  mean time:        76.601 μs (5.36% GC)\n",
       "  maximum time:     2.891 ms (95.37% GC)\n",
       "  --------------\n",
       "  samples:          10000\n",
       "  evals/sample:     1"
      ]
     },
     "execution_count": 24,
     "metadata": {},
     "output_type": "execute_result"
    }
   ],
   "source": [
    "@benchmark J(styblinskiTang,1,[rand(50,1)...]) "
   ]
  },
  {
   "cell_type": "code",
   "execution_count": 25,
   "id": "f3932d00",
   "metadata": {},
   "outputs": [
    {
     "data": {
      "text/plain": [
       "BenchmarkTools.Trial: \n",
       "  memory estimate:  143.59 KiB\n",
       "  allocs estimate:  3738\n",
       "  --------------\n",
       "  minimum time:     138.060 μs (0.00% GC)\n",
       "  median time:      141.117 μs (0.00% GC)\n",
       "  mean time:        152.691 μs (5.56% GC)\n",
       "  maximum time:     3.061 ms (94.32% GC)\n",
       "  --------------\n",
       "  samples:          10000\n",
       "  evals/sample:     1"
      ]
     },
     "execution_count": 25,
     "metadata": {},
     "output_type": "execute_result"
    }
   ],
   "source": [
    "@benchmark J(styblinskiTang,1,[rand(100,1)...]) "
   ]
  },
  {
   "cell_type": "code",
   "execution_count": 26,
   "id": "e94255a0",
   "metadata": {},
   "outputs": [
    {
     "data": {
      "text/plain": [
       "BenchmarkTools.Trial: \n",
       "  memory estimate:  696.16 KiB\n",
       "  allocs estimate:  18540\n",
       "  --------------\n",
       "  minimum time:     691.687 μs (0.00% GC)\n",
       "  median time:      708.943 μs (0.00% GC)\n",
       "  mean time:        757.079 μs (5.59% GC)\n",
       "  maximum time:     3.949 ms (81.65% GC)\n",
       "  --------------\n",
       "  samples:          6583\n",
       "  evals/sample:     1"
      ]
     },
     "execution_count": 26,
     "metadata": {},
     "output_type": "execute_result"
    }
   ],
   "source": [
    "@benchmark J(styblinskiTang,1,[rand(500,1)...]) "
   ]
  },
  {
   "cell_type": "code",
   "execution_count": 27,
   "id": "3b86b45c",
   "metadata": {},
   "outputs": [
    {
     "data": {
      "text/plain": [
       "BenchmarkTools.Trial: \n",
       "  memory estimate:  1.37 MiB\n",
       "  allocs estimate:  37531\n",
       "  --------------\n",
       "  minimum time:     1.395 ms (0.00% GC)\n",
       "  median time:      1.445 ms (0.00% GC)\n",
       "  mean time:        1.546 ms (5.72% GC)\n",
       "  maximum time:     4.899 ms (63.44% GC)\n",
       "  --------------\n",
       "  samples:          3228\n",
       "  evals/sample:     1"
      ]
     },
     "execution_count": 27,
     "metadata": {},
     "output_type": "execute_result"
    }
   ],
   "source": [
    "@benchmark J(styblinskiTang,1,[rand(1000,1)...]) "
   ]
  },
  {
   "cell_type": "code",
   "execution_count": 28,
   "id": "cdfe5809",
   "metadata": {},
   "outputs": [
    {
     "data": {
      "text/plain": [
       "BenchmarkTools.Trial: \n",
       "  memory estimate:  6.81 MiB\n",
       "  allocs estimate:  189538\n",
       "  --------------\n",
       "  minimum time:     7.161 ms (0.00% GC)\n",
       "  median time:      7.641 ms (0.00% GC)\n",
       "  mean time:        8.278 ms (7.27% GC)\n",
       "  maximum time:     13.249 ms (41.73% GC)\n",
       "  --------------\n",
       "  samples:          604\n",
       "  evals/sample:     1"
      ]
     },
     "execution_count": 28,
     "metadata": {},
     "output_type": "execute_result"
    }
   ],
   "source": [
    "@benchmark J(styblinskiTang,1,[rand(5000,1)...]) "
   ]
  },
  {
   "cell_type": "code",
   "execution_count": 29,
   "id": "a70061f6",
   "metadata": {},
   "outputs": [
    {
     "data": {
      "text/plain": [
       "BenchmarkTools.Trial: \n",
       "  memory estimate:  13.62 MiB\n",
       "  allocs estimate:  379539\n",
       "  --------------\n",
       "  minimum time:     14.961 ms (0.00% GC)\n",
       "  median time:      15.786 ms (0.00% GC)\n",
       "  mean time:        17.139 ms (9.19% GC)\n",
       "  maximum time:     22.801 ms (29.64% GC)\n",
       "  --------------\n",
       "  samples:          292\n",
       "  evals/sample:     1"
      ]
     },
     "execution_count": 29,
     "metadata": {},
     "output_type": "execute_result"
    }
   ],
   "source": [
    "@benchmark J(styblinskiTang,1,[rand(10000,1)...]) "
   ]
  },
  {
   "cell_type": "markdown",
   "id": "aa776ca5",
   "metadata": {},
   "source": [
    "## Wykres "
   ]
  },
  {
   "cell_type": "code",
   "execution_count": 29,
   "id": "50588545",
   "metadata": {},
   "outputs": [],
   "source": [
    "x = [5,50,100,500,1000,5000,10000]\n",
    "y_fw_rosenbrok = [3.316/1000, 129.016/1000,  493.868/1000,  11.237, 44.794, 1.115*1000,  4.808*1000]\n",
    "y_fw_styblinskiTang = [3.472/1000,90.906/1000,358.546/1000,7.804,29.963,760.267,3.124*1000]\n",
    "y_bw_rosenbrok = [7.198/1000,80.930/1000,161.235/1000,821.326/1000,1.668,8.805,18.512]\n",
    "y_bw_styblinskiTang = [9.339/1000,76.601/1000,152.691/1000,757.079/1000,1.546,8.278,17.139]\n",
    "\n",
    "plot(x, y_fw_rosenbrok,label = \"Funkcja Rosenbrocka\", lw = 3, legend=:topleft)\n",
    "plot!(x, y_fw_styblinskiTang, label = \"Funkcja Styblinski-Tang\", lw = 3)\n",
    "xlabel!(\"Liczba zmiennych\")\n",
    "ylabel!(\"Czas obliczeń [ms]\")"
   ]
  },
  {
   "cell_type": "code",
   "execution_count": 30,
   "id": "d0778543",
   "metadata": {},
   "outputs": [],
   "source": [
    "plot(x, y_bw_rosenbrok,label = \"Funkcja Rosenbrocka\", lw = 3, legend=:topleft)\n",
    "plot!(x, y_bw_styblinskiTang, label = \"Funkcja Styblinski-Tang\", lw = 3)\n",
    "xlabel!(\"Liczba zmiennych\")\n",
    "ylabel!(\"Czas obliczeń [ms]\")"
   ]
  },
  {
   "cell_type": "code",
   "execution_count": 51,
   "id": "fd4db85c",
   "metadata": {},
   "outputs": [],
   "source": [
    "plot(x, log.(y_fw_styblinskiTang),label = \"Różniczkowanie w przód\", lw = 3, legend=:topleft)\n",
    "plot!(x, log.(y_bw_styblinskiTang), label = \"Różniczkowanie w tył\", lw = 3)\n",
    "plot!(title=\"Średni czas obliczeń funkcji Styblinski-Tang\")"
   ]
  },
  {
   "cell_type": "markdown",
   "id": "dabb553b",
   "metadata": {},
   "source": [
    "## Testy funkcji wektorowych"
   ]
  },
  {
   "cell_type": "code",
   "execution_count": 23,
   "id": "2b7700bf",
   "metadata": {},
   "outputs": [
    {
     "data": {
      "text/plain": [
       "5-element Vector{Matrix{Float64}}:\n",
       " [3.13652106757129e13; 2.1369922567008554e11]\n",
       " [4.712093101741395e169; 1.140214592274678]\n",
       " [2.0865546881500618e25; 0.027451499719419292]\n",
       " [42.4; 4.086653233042158]\n",
       " [43.4; -1.5408631772268135]"
      ]
     },
     "execution_count": 23,
     "metadata": {},
     "output_type": "execute_result"
    }
   ],
   "source": [
    "J(TestFunction5,5, [5.3,3.3])"
   ]
  },
  {
   "cell_type": "code",
   "execution_count": 17,
   "id": "916d2ddf",
   "metadata": {},
   "outputs": [
    {
     "data": {
      "text/plain": [
       "BenchmarkTools.Trial: \n",
       "  memory estimate:  2.97 KiB\n",
       "  allocs estimate:  69\n",
       "  --------------\n",
       "  minimum time:     3.075 μs (0.00% GC)\n",
       "  median time:      3.253 μs (0.00% GC)\n",
       "  mean time:        3.523 μs (5.40% GC)\n",
       "  maximum time:     394.993 μs (99.09% GC)\n",
       "  --------------\n",
       "  samples:          10000\n",
       "  evals/sample:     8"
      ]
     },
     "execution_count": 17,
     "metadata": {},
     "output_type": "execute_result"
    }
   ],
   "source": [
    "@benchmark J(TestFunction1,1, [rand(2,1)...])"
   ]
  },
  {
   "cell_type": "code",
   "execution_count": 19,
   "id": "6efe3c29",
   "metadata": {},
   "outputs": [
    {
     "data": {
      "text/plain": [
       "BenchmarkTools.Trial: \n",
       "  memory estimate:  10.36 KiB\n",
       "  allocs estimate:  229\n",
       "  --------------\n",
       "  minimum time:     7.583 μs (0.00% GC)\n",
       "  median time:      7.792 μs (0.00% GC)\n",
       "  mean time:        8.662 μs (7.34% GC)\n",
       "  maximum time:     754.966 μs (98.50% GC)\n",
       "  --------------\n",
       "  samples:          10000\n",
       "  evals/sample:     4"
      ]
     },
     "execution_count": 19,
     "metadata": {},
     "output_type": "execute_result"
    }
   ],
   "source": [
    "@benchmark J(TestFunction2,2, [rand(2,1)...])"
   ]
  },
  {
   "cell_type": "code",
   "execution_count": 18,
   "id": "a1fe7eec",
   "metadata": {},
   "outputs": [
    {
     "data": {
      "text/plain": [
       "BenchmarkTools.Trial: \n",
       "  memory estimate:  16.83 KiB\n",
       "  allocs estimate:  365\n",
       "  --------------\n",
       "  minimum time:     9.258 μs (0.00% GC)\n",
       "  median time:      9.720 μs (0.00% GC)\n",
       "  mean time:        11.033 μs (7.46% GC)\n",
       "  maximum time:     2.863 ms (99.45% GC)\n",
       "  --------------\n",
       "  samples:          10000\n",
       "  evals/sample:     1"
      ]
     },
     "execution_count": 18,
     "metadata": {},
     "output_type": "execute_result"
    }
   ],
   "source": [
    "@benchmark J(viennet,3, [rand(2,1)...])"
   ]
  },
  {
   "cell_type": "code",
   "execution_count": 20,
   "id": "e0b51097",
   "metadata": {},
   "outputs": [
    {
     "data": {
      "text/plain": [
       "BenchmarkTools.Trial: \n",
       "  memory estimate:  22.30 KiB\n",
       "  allocs estimate:  499\n",
       "  --------------\n",
       "  minimum time:     15.259 μs (0.00% GC)\n",
       "  median time:      15.968 μs (0.00% GC)\n",
       "  mean time:        17.940 μs (7.66% GC)\n",
       "  maximum time:     2.953 ms (99.06% GC)\n",
       "  --------------\n",
       "  samples:          10000\n",
       "  evals/sample:     1"
      ]
     },
     "execution_count": 20,
     "metadata": {},
     "output_type": "execute_result"
    }
   ],
   "source": [
    "@benchmark J(TestFunction4,4, [rand(2,1)...])"
   ]
  },
  {
   "cell_type": "code",
   "execution_count": 21,
   "id": "876760be",
   "metadata": {},
   "outputs": [
    {
     "data": {
      "text/plain": [
       "BenchmarkTools.Trial: \n",
       "  memory estimate:  38.38 KiB\n",
       "  allocs estimate:  785\n",
       "  --------------\n",
       "  minimum time:     20.006 μs (0.00% GC)\n",
       "  median time:      20.884 μs (0.00% GC)\n",
       "  mean time:        23.805 μs (9.35% GC)\n",
       "  maximum time:     3.053 ms (98.94% GC)\n",
       "  --------------\n",
       "  samples:          10000\n",
       "  evals/sample:     1"
      ]
     },
     "execution_count": 21,
     "metadata": {},
     "output_type": "execute_result"
    }
   ],
   "source": [
    "@benchmark J(TestFunction5,5, [rand(2,1)...])"
   ]
  },
  {
   "cell_type": "markdown",
   "id": "ff0858b2",
   "metadata": {},
   "source": [
    "## Wykresy"
   ]
  },
  {
   "cell_type": "code",
   "execution_count": 3,
   "id": "1525d7fd",
   "metadata": {},
   "outputs": [],
   "source": [
    "x = [1,2,3,4,5]\n",
    "y_fw = [2.528, 3.825,  2.639,  8.544, 5.611]\n",
    "y_bw = [3.523,8.662,11.033,17.940,23.805]\n",
    "plot(x, y_fw,label = \"Różniczkowanie w przód\", lw = 3, legend=:topleft)\n",
    "plot!(x, y_bw, label = \"Różniczkowanie w tył\", lw = 3)\n",
    "xlabel!(\"Liczba funkcji składowych\")\n",
    "ylabel!(\"Czas obliczeń [μs]\")"
   ]
  }
 ],
 "metadata": {
  "kernelspec": {
   "display_name": "Julia 1.6.0",
   "language": "julia",
   "name": "julia-1.6"
  },
  "language_info": {
   "file_extension": ".jl",
   "mimetype": "application/julia",
   "name": "julia",
   "version": "1.6.0"
  }
 },
 "nbformat": 4,
 "nbformat_minor": 5
}
